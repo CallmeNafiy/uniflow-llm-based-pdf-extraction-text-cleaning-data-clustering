{
 "cells": [
  {
   "cell_type": "markdown",
   "id": "7cbc4c4a",
   "metadata": {},
   "source": [
    "# Notebook for Report Questions Flow via OpenAI\n",
    "In this example, we will show you how to generate question-answers (QAs) from a pdf using OpenAI's models via `uniflow`'s [OpenAIJsonModelFlow](https://github.com/CambioML/uniflow/blob/main/uniflow/flow/model_flow.py#L125).\n",
    "\n",
    "\n",
    "### Before running the code\n",
    "\n",
    "You will need to `uniflow` conda environment to run this notebook. You can set up the environment following the instruction: https://github.com/CambioML/uniflow/tree/main#installation.\n",
    "\n",
    "Next, you will need a valid [OpenAI API key](https://platform.openai.com/api-keys) to run the code. Once you have the key, set it as the environment variable `OPENAI_API_KEY` within a `.env` file in the root directory of this repository. For more details, see this [instruction](https://github.com/CambioML/uniflow/tree/main#api-keys)\n",
    "\n",
    "In this example, we'll be using two papers in markdown format from under 'example/transform/data/raw_input/'"
   ]
  },
  {
   "cell_type": "markdown",
   "id": "a3ce3754",
   "metadata": {},
   "source": [
    "### Update system path"
   ]
  },
  {
   "cell_type": "code",
   "execution_count": 28,
   "id": "172a856a",
   "metadata": {},
   "outputs": [],
   "source": [
    "%reload_ext autoreload\n",
    "%autoreload 2\n",
    "\n",
    "import sys\n",
    "\n",
    "sys.path.append(\".\")\n",
    "sys.path.append(\"..\")\n",
    "sys.path.append(\"../..\")"
   ]
  },
  {
   "cell_type": "markdown",
   "id": "a594b4c3",
   "metadata": {},
   "source": [
    "### Install helper packages"
   ]
  },
  {
   "cell_type": "markdown",
   "id": "7d84aefd",
   "metadata": {},
   "source": [
    "### Import Dependency"
   ]
  },
  {
   "cell_type": "code",
   "execution_count": 99,
   "id": "8d84dd70",
   "metadata": {},
   "outputs": [
    {
     "data": {
      "text/plain": [
       "True"
      ]
     },
     "execution_count": 99,
     "metadata": {},
     "output_type": "execute_result"
    }
   ],
   "source": [
    "from dotenv import load_dotenv\n",
    "\n",
    "from uniflow.flow.flow_factory import FlowFactory\n",
    "from uniflow.flow.client import TransformClient\n",
    "from uniflow.flow.config import TransformOpenAIConfig\n",
    "from uniflow.op.model.model_config import OpenAIModelConfig\n",
    "from uniflow.op.prompt import Context, PromptTemplate\n",
    "\n",
    "load_dotenv()\n"
   ]
  },
  {
   "cell_type": "code",
   "execution_count": 100,
   "id": "2340ddee",
   "metadata": {},
   "outputs": [
    {
     "data": {
      "text/plain": [
       "{'extract': ['ExtractHTMLFlow',\n",
       "  'ExtractImageFlow',\n",
       "  'ExtractIpynbFlow',\n",
       "  'ExtractMarkdownFlow',\n",
       "  'ExtractPDFFlow',\n",
       "  'ExtractTxtFlow',\n",
       "  'ExtractGmailFlow'],\n",
       " 'transform': ['TransformAzureOpenAIFlow',\n",
       "  'TransformComparisonGoogleFlow',\n",
       "  'TransformComparisonOpenAIFlow',\n",
       "  'TransformCopyFlow',\n",
       "  'TransformGoogleFlow',\n",
       "  'TransformGoogleMultiModalModelFlow',\n",
       "  'TransformHuggingFaceFlow',\n",
       "  'TransformLMQGFlow',\n",
       "  'TransformOpenAIFlow',\n",
       "  'TransformQuestionExtractionOpenAIFlow',\n",
       "  'TransformNewsFeedOpenAIFlow',\n",
       "  'TransformReportGenerationOpenAIFlow'],\n",
       " 'rater': ['RaterFlow']}"
      ]
     },
     "execution_count": 100,
     "metadata": {},
     "output_type": "execute_result"
    }
   ],
   "source": [
    "FlowFactory.list()"
   ]
  },
  {
   "cell_type": "markdown",
   "id": "cb677037",
   "metadata": {},
   "source": [
    "### Prepare the input data\n",
    "They are in preprocessed in markdown formats"
   ]
  },
  {
   "cell_type": "code",
   "execution_count": 31,
   "id": "fc6f290c",
   "metadata": {},
   "outputs": [
    {
     "data": {
      "text/plain": [
       "['# Pinduoduo (Nasdaq: PDD)\\n\\nPinduoduo is the third largest ecommerce platform in China. We believe the stock is under-\\nvalued, as PDD is now trading at ~10.4x EV/FCF (adjusted for stock-based comp) or ~6.4x EV\\n/ FCF on 2025 estimates. This valuation seems far too cheap, for a company who is growing\\ncurrent revenues at +65% y/y (as of Q3 2022), expected to grow top-line at ~24% y/y over the\\nnext three years, and where we expect operating income to 2 - 3x over the same timeframe¹.\\n\\nIt seems the basis of this opportunity, lies in the investment community\\'s broad aversion to\\nChinese equities (especially internet companies), in addition to several company specific\\nconcerns:\\n\\n1. The Recent Chinese Equity Sell-off is Due to Politics, Not Fundamentals: At the\\nlowest point on Oct 24th, PDD\\'s stock price was down by -34% in a single day, due to\\nforeign capital fleeing the Chinese equity markets after the President Xi\\'s \"landslide\"\\nreelection victory and the appointment of his loyalists to the Politburo Standing\\nCommittee. Foreign investors feared that this consolidation of power would mark the\\nbeginning of China\\'s changing stance towards capitalism.\\n\\nIn contrast, we feel that these issues have been well communicated for years (it was\\nexpected that Xi would receive a 3rd term since 2018, for example), and don\\'t signify a\\ndeviation from previously announced Party goals. In fact, we thought the event may\\nactually give Xi more leeway to aggressively pursue the needs / betterment of Chinese\\nsociety & economy, without having to worry about his political position or competing\\nfactions within the CCP.\\n\\nAfter Oct 24th, we indeed saw a flood of positive news - from support of China\\'s real\\nestate sector, to loosening of China\\'s zero-Covid policy, to improving relations with\\nforeign countries.\\n\\n2.\\nLack of Communication with Investors: Pinduoduo has long been an enigma for the\\ninvestment community. The company hasn\\'t had a CFO for years, refuses to provide\\ngranular disclosure for the analyst community, and doesn\\'t break out its different business\\nsegments in an easily understandable format.\\n\\nFor example, Pinduoduo\\'s grocery business line segment results are hidden within its\\n\"Transaction Services\" revenue line. The company also just launched Temu (its\\ninternational business), but doesn\\'t provide investors with any information regarding its\\nbusiness strategy / planned investments within the division. On earnings calls, the\\n\\n1. The exact magnitude depends on the timing of Duoduo grocery reaching profitability, and the degree of investment spend into Temu.\\n\\nHAYDEN CAPITAL\\n\\n1',\n",
       " 'management team even deliberately answers most analyst questions with a seemingly\\nscripted answer, often simply reiterating what it\\'s already stated in past calls.\\n\\nBecause of this, the company\\'s earnings results have always deviated materially from the\\nmarket\\'s consensus (and often to the upside). This lack of transparency and concerns\\nabout corporate governance have prevented some investors from investing in the\\ncompany.\\n\\nHowever in our view, just because a company doesn\\'t give investors disclosure doesn\\'t\\nnecessarily mean they don\\'t care about investors. In order to understand management\\'s\\nthinking, we have to analyze past actions instead of what they say to ensure the correct\\ndecisions were made. Analyzing current initiatives requires more effort on the investor\\'s\\npart, and requires deeper analysis to break-down how the business\\' true financial\\ncondition, in addition to primary research to source our own information (versus simply\\nrelying upon company guidance).\\n\\n3. Growth Ceiling Concerns: As Pinduoduo approaches 900M active buyers, which\\ncaptures almost all of China\\'s mobile internet users, there\\'s concerns that the company\\'s\\nroom for growth within China is shrinking. In addition, PDD\\'s take-rate is starting to\\nexceed Alibaba\\'s, which calls into question just how much higher it can go.\\nInvestors have historically viewed BABA\\'s take-rates as the \"ceiling\" in China\\'s\\necommerce industry. However, we view this as an arbitrary limit - especially since China\\nhas one of the lowest ecommerce take-rates globally (historically due to the intense\\ncompetition between the large ecommerce platforms). We think this is shifting, and take-\\nrates can continue to rise as long as Pinduoduo can provide more value to merchants,\\nthan what they capture-back in the form of commissions & ads. We\\'ll discuss this in\\nmore detail below.\\n\\n4. Fears that Strong Results are Temporary: There are concerns that Q2 & Q3 2022\\'s\\nimpressive results are from one-off windfalls and won\\'t be sustainable. The fear is that\\nmerchants\\' urgent needs for destocking during a period of overall weak Chinese\\neconomic consumption, allowed PDD to command higher take rates (via increased\\nmerchant advertising). Additionally, PDD skews toward lower tier cities, where users\\nwere proportionally less exposed to COVID lock downs.\\n\\nWhile these concerns are valid, we don\\'t believe it impairs PDD\\'s long-term thesis. The\\ncompany is increasing its mix of high-value / branded items, which is allowing it to court\\nhigher-tier residents. Additionally we believe that with the 2nd largest consumer base,\\nmerchants will be inclined to spend an increasing amount of their advertising budget to\\nreach these users. Pinduoduo is actively creating value for merchant\\'s businesses (and\\nthus expanding merchant\\'s margin profiles), as we\\'ll describe below. This incremental\\nvalue operates in a \"closed-loop\", is then recaptured by the platform.',\n",
       " '# Business Overview\\n\\nPinduoduo was launched in 2015, and over the last seven years has quickly ramped up its user\\npool to 900 million users. It\\'s now the third largest e-commerce platform in China in terms of\\nGMV, with ~24% market share.\\n\\nInstead of competing head-to-head with Alibaba and JD\\'s search-based platforms, PDD focused\\non creating an interactive and entertaining platform. A search-based shopping experience is\\nwhere a customer already wants to buy a specific item, and then searches different varieties /\\nprices for that particular item on the platform.\\n\\nPinduoduo\\'s model is based on entertaining users and giving them the chance to get deep\\ndiscounts instead. The user behavior differs, since customers log onto the platform without a\\nspecific item in mind - only logging on out of boredom or to see what deals are available that\\nday.\\n\\nThe best analogy is like that of a \"sushi conveyor belt\" (LINK). Deeply-discounted, \"deals of the\\nday\" items are shown on the app, and users scroll down the page only until they find something\\nthat catches their eye. The discounts and items on sale differ every day, so users never know\\nwhat they\\'ll find when they log on next (making it a fun, \"treasure-hunt\" experience). There were\\nalso daily check-in rewards and mini-games, where users could earn rewards and get free items or\\nadditional discounts on the site, thus encouraging frequent engagement.\\n\\nThis is compared to a search-oriented platform, which is like a traditional store - items sit on a\\nshelf, and customers browse the aisles looking for what they need. The items offered don\\'t\\nchange much over time, so customers can shop at the store reliably.\\n\\nKey to its meteoric rise, is also PDD\\'s innovative \"team purchase model\". In the early days,\\nusers could either pay full-price or receive a discount when they \"teamed-up\" with other users\\nto\\npurchase together. All the buyers needed to complete the purchase within 24 hours, or else have\\nthe entire group\\'s order canceled. This incentivized users to quickly invite friends and family\\n(often through WeChat groups), to get the same great deal together. These new users would then\\ninvite additional people within their WeChat friends list, as they formed their own groups for\\nadditional purchases.\\n\\nWith the team purchase model providing large bulk-orders within a condensed time frame, this\\nthen allowed PDD to use these aggregated orders to go directly to manufacturers through a\\nconsumer-to-manufacturer model (\"C2M\"). PDD partnered directly with millions of factories,\\nwho traditionally manufactured items for national and foreign brands. PDD could provide the\\norder sizes required to justify having a separate \"white-label\" production line for the platform,\\nwhile also allowing factories to cut out several layers of middlemen and thus realize higher profit\\nmargins on the sales channel (we\\'ll discuss this more later).\\n\\nAlso since items are sold on a \"deal of the day\" basis, users don\\'t expect the same SKUs to\\nalways be available on the platform. As such, factories could run PDD specific production-lines\\nonly when they had excess capacity. Factories received the group-orders beforehand, so they\\nknew exactly many items to produce (reducing wasted inventory), and also meant PDD didn\\'t',\n",
       " \"need to hold inventory (since orders are shipped directly to the buyer's home, vs. sitting in a\\nwarehouse waiting to be sold).\\n\\nThis provided PDD with a structural price advantage, due to the ability to cut out all the middle-\\nmen distribution layers, and resulting in the cheapest price possible. It's this value-for-money\\nfocus that differentiated it from other e-commerce names - especially among value-seeking\\ncustomers, within Chinese lower-tier cities.\\n\\n**Pinduoduo Now Has Similar Number of Active Buyers as Alibaba**\\n*Source: Company filings; Hayden estimates*\\n\\n| | PDD | BABA | JD |\\n|-|-|-|-|\\n| 2013 | - | - | - |\\n| 2014 | - | - | - |\\n| 2015 | - | - | - |\\n| 2016 | - | - | 419 |\\n| 2017 | - | - | 585 |\\n| 2018 | 869 | 788 | - |\\n| 2019 | 882 | - | - |\\n| 2020 | 892 | - | - |\\n| 2021 | - | - | - |\\n| 1Q22 | - | - | - |\\n| 2Q22 | - | - | - |\\n\\n**PDD's Captured % Share of Incremental GMV**\\n*Source: Company filings; Hayden estimates; NBS Data*\\n\\n| Year | Incremental GMV |\\n|-|-|\\n| 2018 | 19% |\\n| 2019 | 33% |\\n| 2020 | 59% |\\n| 2021 | 58% |\\n| 1Q22 | 18% |\\n| 2Q22 | 57% |\\n\\nIn addition, PDD wisely leveraged its partnership with Tencent in the early days, benefiting from\\nthe cheap traffic WeChat provided. PDD utilized social interactions and viral marketing, which\\nencouraged users to share deals among their friends group-chats, which in turn accelerated\",\n",
       " \"## platform trust in the early days\\n\\nThis user engagement from social sharing on WeChat allowed PDD to ramp up its users quickly.\\n\\nNowadays, the platform has created its own captive user base and is less dependent upon Tencent traffic, as it has greatly matured after 2019. However, this growth-hack was key to its rapid growth in its early days.\\n\\nAdditionally, PDD's early success can be attributed to it targeting an under-penetrated ecommerce segment - users in lower-tier cities. Whereas Alibaba and JD both traditionally focused on Tier 1 & 2 consumers with higher disposable incomes and technology familiarity, they both missed the early trend that was happening in lower tier cities with the rise of smartphones. Combined with the seamlessness of Alipay & WeChat pay, online shopping suddenly became accessible to everyone with a cheap Android smartphone between 2010 - 2015.\\n\\nThese cities tend to have fewer entertainment options, so users spent more time engaged on their phones. They also had lower-disposable income, which meant many were willing to expend extra effort to get a great deal (such as sharing & promoting deals within group chats or playing games for discounts).\\n\\nThese users were unique to PDD, and exhibited higher stickiness versus other cohorts. Today, users order from the platform an average of ~6.5x per month, and it's this stickiness that has allowed the company to retain ~900M users without much incremental marketing.\\n\\nIn recent years, PDD has expanded its users to higher tier cities. Together with these deal-seekers, the platform has captured the majority of China's incremental ecommerce sales. In just a couple years, PDD has changed the competitive landscape in Chinese ecommerce, with Alibaba being the primary share donor.\\n\\n![China Ecommerce Market Share](https://i.imgur.com/L7aGOVt.png)\\nSource: Company filings; MS estimation on BABA GMV; NBS Data; Top 3 GMV exceeds NBS e-commerce sales as GMV includes returns and unfilled orders\",\n",
       " \"In the immediate future, PDD's core business is going to be driven by three primary tailwinds:\\n\\n1. Factories are over-supplied, and brands need to destock inventory. This leads to brands increasingly willing to try new channels (especially those with large captive user bases), and ultimately drives advertising revenue as merchants spend to gain user attention on these platforms.\\n\\n2. China's economic growth is slowing, which will encourage consumers to seek out more value-for-money shopping opportunities. Pinduoduo specializes in white-label products, that are at significant discounts to branded items. It's particularly strong in daily goods / household items that have high repeat purchase rates, and the average order is just $6 USD.\\n\\n3. Lower-tier cities will exhibit stronger consumption growth going forward. Any incremental new users will likely come from these regions, as recommerce is already mature within larger cities. Additionally, lower-tier cities comprise >70% of China's population, and >60% of its GDP (LINK). Brands are also starting to focus on this segment too, exemplified by the marketing term 'Xiachen' (Fir) - meaning downward marketing, or specifically targeting users in lower-tier cities as opportunities are exhausted in more populous cities.\\n\\nOn top of PDD's core ecommerce business, the company also launched an online grocery business (group-purchase model) in Q4 2020. When it first launched, Duoduo Grocery faced competition from all of the major Chinese tech giants (Alibaba, JD, Meituan, etc.). However in just two years, Duoduo Grocery has proved itself to be the winner of this trillion RMB market, with the highest market share and with the other players retrenching in defeat.\\n\\nWe will discuss this development in depth below, and why Duoduo Grocery could be an overlooked valuation-driver over the next few years.\\n\\n## Pinduoduo's Business Model\\n\\nPinduoduo's business consists of primarily two segments: the core ecommerce platform, and Duoduo Grocery. Duoduo Grocery hasn't turned a profit yet, so the company's profits today are entirely driven by the ecommerce business.\\n\\nPDD also launched Temu, it's international business, in September 2022 (LINK). It's still very small, but will comprise a third segment going forward. While it's still too early to estimate the future of this new initiative (i.e. the magnitude of GMV or revenue contribution), we do have some insight into its budgeted capex plans which we'll discuss later.\",\n",
       " \"PDD Segment Revenues\\nSource: RMB in millions; Company filings; Hayden estimates\\n\\n93,950\\n6,721\\n59,492\\n502\\n87,229\\n35,504\\n30,142\\n31,440\\n4,498\\n58,990\\n23,794\\n3,924\\n3,792\\n13,120\\n30,142\\n27,515\\n31,006\\n20,002\\n13,120\\n2018\\n2019\\n2020\\n2021\\n1Q22\\n2Q22\\n3Q22\\nCore Ecommerce\\nDuoduo Grocery\\n\\n## Core Ecommerce Platform\\n\\nPinduoduo is a third-party ecommerce platform, and therefore acts as marketplace model and\\nholds very little inventory itself. Like other 3P marketplaces, merchants pay marketing fees to get\\npriority listings and traffic on the platform. This online marketing fee contributed ~ -80% of\\nPDD's total revenues last quarter.\\n\\nThe take-rate for online marketing fees have been growing steadily in recent years. Apart from\\nthe COVID dip in Q1 2020, the take rate has expanded ~90bps from ~2.5% at the beginning of\\n2019, to ~3.4% ~ of GMV in Q3 2022.\\n\\nPDD's Online Marketing Service Take-Rate\\nSource: Company filings; Hayden estimates\\n\\n3.4%\\n3.3%\\n3.2%\\n3.3%\\n3.1%\\n3.1%\\n3.1%\\n2.8%\\n2.8%\\n2.9%\\n2.8%\\n2.7%\\n2.6%\\n2.6%\\n2.5%\\n2.4%\\n1.8%\\n1.7%\\n1.1%\\n0.8%\\n0.2%\",\n",
       " '# PDD\\'s GMV is a function of Average Order Value (AOV) X Order Frequency X Number of\\nActive Customers.\\n\\nThe company\\'s AOV is structurally lower than competitors, consistently ~ RMB 40 - 50 per\\norder. Alibaba meanwhile has an AOV ~RMB 95, and JD\\'s AOV is ~RMB 400¹. There are\\na\\nfew reasons for this:\\n\\n1. PDD doesn\\'t have a shopping cart function. There is simply one item per order, while\\ncompeting platforms have multiples items in an order. This feature incentives consumers\\nto make purchases quicker (and occasionally on impulse), increasing conversion, and\\nlower the risk of shopping cart abandonment.\\n\\nAdditionally, this makes sense for PDD\\'s business model, as the company doesn\\'t hold\\ninventory and is not responsible for fulfillment. Once an order is placed and confirmed\\nwith the merchant, the merchant is the one who handles the fulfillment and then utilizes\\n3rd party logistics providers to deliver the package to the buyer. Since each item is likely\\ncoming from a different merchant anyways, there wouldn\\'t be any benefit to grouping\\nitems in a shopping cart.\\n\\n2. PDD\\'s average selling price (ASP) is generally lower than similar products on Alibaba\\'s\\nsites, or JD. This is since PDD focuses on working directly with factories, to sell \"while\\nlabel\" goods, or items that are manufactured directly by factories without the added\\nexpense of a brand or the marketing costs associated with it.\\n\\nThis PDD - manufacturer relationship is what differentiates the platform, as multiple\\nlayers of middlemen and brand-related expenses are saved, by working directly with the\\nmanufacturer. PDD creates value for these manufacturers, by offering them a direct\\nchannel & relationship with the end-customer, that these manufacturers didn\\'t have\\nbefore. By working with factories to reduce the price, this also fulfills the primary\\nattribute PDD\\'s customers come to the platform for - \"value-for-money\".\\n\\n3. PDD also has a different category mix than competitors. The most popular categories\\nare lower ASP, such as groceries, daily home goods, and apparel. Meanwhile, the\\nplatform trails in high-priced categories, such as appliances and beauty.\\n\\nThe company has recently been adopting strategies to increase it\\'s AOV, and is making a\\npush to attract more brands (versus the traditional white-label factories). At the same\\ntime though, it has stuck with its core value proposition of being a platform that offers\\nthe best value for cost-conscious shoppers.\\n\\nFor example, we recently checked 20 of the highest-ranked premium / luxury brands\\nacross Alibaba\\'s categories, and found that half of these had also opened flagship stores\\non PDD. We believe this is in-line with PDD courting more users from higher-tier cities,\\nand is starting to position PDD as a destination for shoppers of all types who are looking\\nfor a good deal.\\n\\n¹ Alibaba stated in 2018 that annual active customers spend ~RMB 9,000 per year, across 92 orders.\\n\\nHAYDEN CAPITAL\\n\\n8',\n",
       " \"# Ecommerce Platform GMV Breakdown (2021)\\nSource: Bigone Data; Morgan Stanley Alpha Wise Estimates\\n\\n| Metric | Apparel | Beauty | Food & Beverage | Home& personal | Jewellery | 3C Appliance |\\n| --- | --- | --- | --- | --- | --- | --- |\\n| Kuaishou | 34% | 14% | 15% | 13% | 7% | 4% |\\n| Douyin | 43% | 12% | 13% | - | - | 6% |\\n| BABA | 15% | 8% | 31% | 4% | - | 5% |\\n| JD | 6% | 9% | 17% | 48% | - | 22% |\\n| PDD | 4% | 4% | 27% | 25% | 13% | 2% |\\n\\nThis category expansion and brand expansion (i.e. expanding the platform's offerings both\\nhorizontally and vertically), should help to increase customer's purchase frequencies. This is the\\nopportune time to do so, given PDD has already found its core value proposition within the\\nvalue-conscious segment, and has captured over 80% of China's mobile internet population as a\\nresult5. As such, the company needs to expand outside of this to continue growing, and creating\\nmore value for different users.\\n\\nOver the last few years, order frequency per user has increased from just 18x orders per year in\\n2017, to now ~ 75x orders per year (~6.3x per month; 2022 estimate). We believe this is the best\\nindication of user stickiness. But there's still ample room to grow, before this catches up with\\nAlibaba's average 90+ orders per year.\\n\\n## Annual Orders per Buyer Keep Increasing, While AOVs Are Stable\\nSource: Company filings\\n\\n| Metric | 2017 | 2018 | 2019 | 2020 | 2021 |\\n| --- | --- | --- | --- | --- | --- |\\n| Annual Orders per Customer | ¥32.84 | ¥28.0x | ¥33.7x | ¥49.0x | ¥70.0x |\\n| AOV | ¥17.6x | ¥40.25 | ¥50.99 | ¥43.19 | ¥40.14 |\\n\\n5 900M customers out of China's 1.1BN mobile internet users.\",\n",
       " '# Duoduo Grocery\\n\\nIn typical Pinduoduo fashion, the company has never disclosed the details of its recently\\nlaunched (Q4 2020) Duoduo Grocery business. In order to understand the business\\'\\ndevelopment and economics over the past two years, we need to comb through its financials, and\\nparse out its economics from the consolidated figures.\\n\\nFirst, PDD \"hid\" Duoduo Grocery\\' net gross profits in \"transaction services\" revenue. This\\nline-item historically was ~0.3% of GMV, which represented the payment processing fee paid to\\nTencent for WeChat Pay. Tencent\\'s payment processing fees have remained the same, and yet\\ntransaction services as a % of GMV ballooned immediately after Duoduo Grocery launched. So\\nif we back this out, we should be able to make a reasonable estimate for Duoduo Grocery\\'s gross\\nprofits.\\n\\nDuoduo Grocery Gross Profits Are Hidden Inside \"Transaction Services\" Revenues\\nSource: PDD filings; Assuming payment processing fees remains at 0.31% of GMV\\n\\n1,0\\nGrocery GP\\n0,9%\\n0,9\\nPayment Processing\\nQ4 2020:\\nPDD launches\\n9,8%\\n0,8\\nDuoduo\\n0,7\\nGrocery\\n0,6%\\n0,6\\n0,6%\\n0,6\\n0,5%\\n5%\\n0,5\\n0,4%\\n0,4\\n0.3%\\n0.3%\\n0,3%\\n0.3%\\n0,3%\\n0,3%\\n0.3\\n0,3%\\n0,3%\\n0,3%\\n0,2\\n0,1\\n0,0\\n2Q18\\n3Q18\\n4Q18\\n1Q19\\n2Q19\\n3Q19\\n4Q19\\n1Q20\\n2Q20\\n3Q20\\n4Q20\\n1Q21\\n2Q21\\n3Q21\\n4Q21\\n1Q22\\n2Q22\\n\\nDuring this time, PDD also started including \"delivery and storage fees\" (2020 20-F) and\\n\"fulfillment fees\" (2021 20-F) in its definition of cost of revenue. Since PDD doesn\\'t handle\\ndelivery or fulfillment for its core ecommerce business, it\\'s obvious that these cost items are\\nattributable to Duoduo Grocery6.\\n\\nWithin this period, RMB 21.3BN was used for fulfillment, logistics and warehousing for the\\ngrocery business. In addition, PDD spent ~5 - 10% the grocery GMV, as a commission for\\ngrocery group purchase leaders (essentially local PDD ambassadors, who promoted & took\\norders). This equated to ~RMB 5BN. Finally the other costs are for bandwidth / traffic and\\noverhead, and which needs to be allocated between the core ecommerce and grocery divisions.\\n\\n6 PDD very briefly experimented with 1P sales. But this really only lasted a few quarters, peaking in Q4 2020. So some of these costs are also\\nassociated with that business, but it\\'s not meaningful today (and yet these fulfillment costs have continued to increase, indicating the bulk is\\nfor\\ngrocery).\\n\\nHAYDEN CAPITAL\\n\\n10']"
      ]
     },
     "execution_count": 31,
     "metadata": {},
     "output_type": "execute_result"
    }
   ],
   "source": [
    "import os\n",
    "import sys\n",
    "\n",
    "from any_parser import AnyParser \n",
    "\n",
    "example_apikey = os.getenv(\"CAMBIO_API_KEY\")\n",
    "example_local_file = \"data/raw_input/PDD/Hayden.pdf\"\n",
    "\n",
    "op = AnyParser(example_apikey)\n",
    "content_result = op.extract(example_local_file)\n",
    "content_result"
   ]
  },
  {
   "cell_type": "code",
   "execution_count": 52,
   "id": "d47d8a38",
   "metadata": {},
   "outputs": [
    {
     "name": "stderr",
     "output_type": "stream",
     "text": [
      "  0%|          | 0/1 [00:00<?, ?it/s]"
     ]
    },
    {
     "name": "stdout",
     "output_type": "stream",
     "text": [
      "Upload response: 204\n"
     ]
    },
    {
     "name": "stderr",
     "output_type": "stream",
     "text": [
      "100%|██████████| 1/1 [00:23<00:00, 23.16s/it]"
     ]
    },
    {
     "name": "stdout",
     "output_type": "stream",
     "text": [
      "Extraction success.\n"
     ]
    },
    {
     "name": "stderr",
     "output_type": "stream",
     "text": [
      "\n"
     ]
    },
    {
     "data": {
      "text/plain": [
       "['# HAYDEN CAPITAL',\n",
       " '1345 AVENUE OF THE AMERICAS',\n",
       " '33RD FLOOR',\n",
       " 'NEW YORK, NY 10105',\n",
       " 'HAYDENCAP ITAL.CO',\n",
       " '## Pinduoduo (Nasdaq: PDD)',\n",
       " 'Pinduoduo is the third largest ecommerce platform in China. We believe the stock is under-',\n",
       " 'valued, as PDD is now trading at ~10.4x EV/FCF (adjusted for stock-based comp) or ~6.4x EV',\n",
       " '/ FCF on 2025 estimates. This valuation seems far too cheap, for a company who is growing',\n",
       " 'current revenues at +65% y/y (as of Q3 2022), expected to grow top-line at ~24% y/y over the',\n",
       " 'next three years, and where we expect operating income to 2 - 3x over the same timeframe¹.',\n",
       " \"It seems the basis of this opportunity, lies in the investment community's broad aversion to\",\n",
       " 'Chinese equities (especially internet companies), in addition to several company specific',\n",
       " 'concerns:',\n",
       " '1. The Recent Chinese Equity Sell-off is Due to Politics, Not Fundamentals: At the',\n",
       " \"lowest point on Oct 24th, PDD's stock price was down by -34% in a single day, due to\",\n",
       " 'foreign capital fleeing the Chinese equity markets after the President Xi\\'s \"landslide\"',\n",
       " 'reelection victory and the appointment of his loyalists to the Politburo Standing',\n",
       " 'Committee. Foreign investors feared that this consolidation of power would mark the',\n",
       " \"beginning of China's changing stance towards capitalism.\",\n",
       " 'In contrast, we feel that these issues have been well communicated for years (it was',\n",
       " \"expected that Xi would receive a 3rd term since 2018, for example), and don't signify a\",\n",
       " 'deviation from previously announced Party goals. In fact, we thought the event may',\n",
       " 'actually give Xi more leeway to aggressively pursue the needs / betterment of Chinese',\n",
       " 'society & economy, without having to worry about his political position or competing',\n",
       " 'factions within the CCP.',\n",
       " \"After Oct 24th, we indeed saw a flood of positive news - from support of China's real\",\n",
       " \"estate sector, to loosening of China's zero-Covid policy, to improving relations with\",\n",
       " 'foreign countries.',\n",
       " 'Lack of Communication with Investors: Pinduoduo has long been an enigma for the',\n",
       " \"investment community. The company hasn't had a CFO for years, refuses to provide\",\n",
       " \"granular disclosure for the analyst community, and doesn't break out its different business\",\n",
       " 'segments in an easily understandable format.',\n",
       " \"For example, Pinduoduo's grocery business line segment results are hidden within its\",\n",
       " '\"Transaction Services\" revenue line. The company also just launched Temu (its',\n",
       " \"international business), but doesn't provide investors with any information regarding its\",\n",
       " 'business strategy / planned investments within the division. On earnings calls, the',\n",
       " '1. The exact magnitude depends on the timing of Duoduo grocery reaching profitability, and the degree of investment spend into Temu.',\n",
       " 'HAYDEN CAPITAL']"
      ]
     },
     "execution_count": 52,
     "metadata": {},
     "output_type": "execute_result"
    }
   ],
   "source": [
    "# TODO: Fix later, change Open-parser librray to Any-parser\n",
    "from uniflow.flow.client import ExtractClient\n",
    "from uniflow.flow.config import ExtractPDFConfig\n",
    "from uniflow.op.model.model_config import OpenParserModelConfig\n",
    "\n",
    "input_file = \"data/raw_input/PDD/Hayden.pdf\"\n",
    "\n",
    "data = [\n",
    "    {\"filename\": input_file},\n",
    "]\n",
    "\n",
    "config = ExtractPDFConfig(\n",
    "    model_config=OpenParserModelConfig(\n",
    "        model_name = \"CambioML/open-parser\",\n",
    "        api_key = os.getenv(\"CAMBIO_API_KEY\"),\n",
    "    ),\n",
    ")\n",
    "openparser_client = ExtractClient(config)\n",
    "\n",
    "output = openparser_client.run(data)\n",
    "# content_result = output[0]['output'][0]['text']\n",
    "# content_result"
   ]
  },
  {
   "cell_type": "markdown",
   "id": "a3180ff3",
   "metadata": {},
   "source": [
    "### Use LLM to generate question/answer pairs for given reports\n",
    "\n",
    "In this example, we will use the [OpenAIModelConfig](https://github.com/CambioML/uniflow/blob/main/uniflow/model/config.py#L17)'s default LLM to generate questions and answers."
   ]
  },
  {
   "cell_type": "code",
   "execution_count": 32,
   "id": "063d2181",
   "metadata": {},
   "outputs": [],
   "source": [
    "# initialize questions bank\n",
    "questions_bank = []"
   ]
  },
  {
   "cell_type": "code",
   "execution_count": 33,
   "id": "c3e75e65",
   "metadata": {},
   "outputs": [],
   "source": [
    "input_data = [Context(Context=content_result[0])]\n",
    "config = TransformOpenAIConfig(\n",
    "    flow_name=\"TransformQuestionExtractionOpenAIFlow\",\n",
    "    model_config=OpenAIModelConfig(),\n",
    ")\n",
    "client = TransformClient(config)"
   ]
  },
  {
   "cell_type": "markdown",
   "id": "06b94c94",
   "metadata": {},
   "source": [
    "Now we call the `run` method on the `client` object to execute the question-answer generation operation on the data shown above."
   ]
  },
  {
   "cell_type": "code",
   "execution_count": 34,
   "id": "2103149e",
   "metadata": {},
   "outputs": [
    {
     "name": "stderr",
     "output_type": "stream",
     "text": [
      "100%|██████████| 1/1 [00:23<00:00, 23.40s/it]\n"
     ]
    }
   ],
   "source": [
    "output = client.run(input_data)"
   ]
  },
  {
   "cell_type": "markdown",
   "id": "363d8fba",
   "metadata": {},
   "source": [
    "### Pipeline"
   ]
  },
  {
   "cell_type": "code",
   "execution_count": 57,
   "id": "d0f315ba",
   "metadata": {},
   "outputs": [],
   "source": [
    "# Extract PDF, generate questions, then store them into a question bank\n",
    "questions_bank = []\n",
    "\n",
    "def extract_and_get_questions(file_path):\n",
    "    content_result = op.extract(file_path)\n",
    "    input_data = [Context(Context=content_result[0])]\n",
    "    config = TransformOpenAIConfig(\n",
    "        flow_name=\"TransformQuestionExtractionOpenAIFlow\",\n",
    "        model_config=OpenAIModelConfig(),\n",
    "    )\n",
    "    client = TransformClient(config)\n",
    "    output = client.run(input_data)\n",
    "\n",
    "    for item in output:\n",
    "        for output in item['output']:\n",
    "            for response in output['response']:\n",
    "                if response.startswith('question:'):\n",
    "                    question = response.split('\\n')[0].replace('question:', '').strip()\n",
    "                    questions_bank.append(question)"
   ]
  },
  {
   "cell_type": "code",
   "execution_count": null,
   "id": "b572d6b7",
   "metadata": {},
   "outputs": [],
   "source": [
    "dir_cur = os.getcwd()  # or you can specify any directory\n",
    "target_dir = os.path.join(dir_cur, \"data/raw_input/PDD/reports\")\n",
    "for root, dirs, files in os.walk(target_dir):\n",
    "    for file in files:\n",
    "        file_path = os.path.join(root, file)\n",
    "        extract_and_get_questions(file_path)"
   ]
  },
  {
   "cell_type": "code",
   "execution_count": 63,
   "id": "ccd6b538",
   "metadata": {},
   "outputs": [
    {
     "data": {
      "text/plain": [
       "91"
      ]
     },
     "execution_count": 63,
     "metadata": {},
     "output_type": "execute_result"
    }
   ],
   "source": [
    "# total num of questions generated\n",
    "len(questions_bank)"
   ]
  },
  {
   "cell_type": "markdown",
   "id": "6ad92cb3",
   "metadata": {},
   "source": [
    "### Now process incoming news feed"
   ]
  },
  {
   "cell_type": "code",
   "execution_count": 79,
   "id": "ebb860f7",
   "metadata": {},
   "outputs": [
    {
     "data": {
      "text/plain": [
       "[\"## PDD jumps after Q1 profit surges 200%, transaction services drive revenue growth\\n\\nMay 22, 2024 7:16 AM ET PDD Holdings Inc. (PDD) Stock NTES, BIDU, BABA.. By: Ravikash Bakolia, SA\\nNews Editor\\n\\n![Etsy, Temu, Etsy, Temu, Gumtree, ebay, eBay, Amazon, AliExpress](https://seekingalpha.com/news/4109204-pdd-rises-after-q1-profit-surges-200-transaction-services-drive-revenue-growth)\\n\\nPDD's (NASDAQ:PDD) stock rose about 8% premarket on Wednesday after first\\nquarter results beat estimates.\\n\\nAdjusted earnings per American depositary shares surged 199.4% year-over-year to\\nRMB20.72 ($2.83), the company said.\",\n",
       " '5/22/24, 3:01 PM\\n\\nPDD jumps after Q1 profit surges 200%, transaction services drive revenue growth_Seeking Alpha\\n\\nThe e-commerce giant\\'s total revenues soared nearly 131% year-over-year to\\nRMB86.81B (about $12.02B). Both top and bottom lines surpassed analysts\\' estimates.\\n\\n\"We will focus our efforts on improving the overall consumer experience, strengthening\\nour supply chain capabilities, and fostering a healthy platform ecosystem,\" said Jiazhen\\nZhao, executive director and Co-CEO of PDD.\\n\\nRevenue from online marketing services and others grew about 56% to RMB42.4B\\n($5.88B), while revenues from transaction services soared 327% year-over-year to\\nRMB44.36B (about $6.14B).\\n\\nPDD has not disclosed its popular shopping app Temu\\'s revenue performance.\\n\\nNon-GAAP net income attributable to ordinary shareholders rose 202% year-on-year to\\nRMB30.61B ($4.23B).\\n\\nCash, cash equivalents and short-term investments were RMB242.1B ($33.5B) as of\\nMarch 31, 2024, compared to RMB217.2B ($30.6B) as of Dec. 31, 2023.\\n\\nDespite strong results from PDD, other Chinese stocks were in the red before the bell.\\nAlibaba (BABA), JD.com (JD) and Baidu (BIDU) each slipped around 1%, while\\nNetEase (NTES) fell 2%.\\n\\n## More on Pinduoduo\\n\\nPDD Holdings: Too Cheap To Ignore\\nPDD Holdings: Jump On The Northbound Train Before It Leaves (Upgrade)\\nPDD Holdings: Offering High Growth, Strong Profits And Stability (SA Quant)\\nPinduoduo Non-GAAP EPS of $2.83 beats by $1.40, revenue of $12.02B beats by\\n$1.44B\\nPinduoduo Q1 2024 Earnings Preview']"
      ]
     },
     "execution_count": 79,
     "metadata": {},
     "output_type": "execute_result"
    }
   ],
   "source": [
    "example_news = \"data/raw_input/PDD/news/sa_news_2.pdf\"\n",
    "news_content = op.extract(example_news)\n",
    "news_content"
   ]
  },
  {
   "cell_type": "code",
   "execution_count": 93,
   "id": "363e9583",
   "metadata": {},
   "outputs": [],
   "source": [
    "# Optional: use questions_bank[:5] for faster compute time and lower op cost"
   ]
  },
  {
   "cell_type": "code",
   "execution_count": 83,
   "id": "86a9f1d7",
   "metadata": {},
   "outputs": [],
   "source": [
    "input_data = [Context(Context=news_content[0])]\n",
    "config = TransformOpenAIConfig(\n",
    "    flow_name=\"TransformNewsFeedOpenAIFlow\",\n",
    "    prompt_template= PromptTemplate(instruction='\\n'.join(questions_bank)),\n",
    "    model_config=OpenAIModelConfig(),\n",
    ")\n",
    "client = TransformClient(config)"
   ]
  },
  {
   "cell_type": "code",
   "execution_count": 91,
   "id": "2472b101",
   "metadata": {},
   "outputs": [
    {
     "name": "stderr",
     "output_type": "stream",
     "text": [
      "100%|██████████| 1/1 [01:00<00:00, 60.50s/it]\n"
     ]
    },
    {
     "data": {
      "text/plain": [
       "[{'output': [{'response': ['question: Where is the United States Securities and Exchange Commission located?\\nanswer: The United States Securities and Exchange Commission is headquartered in Washington, D.C.'],\n",
       "    'error': 'No errors.'},\n",
       "   {'response': [\"question: What is the status of the company's Form 20-F filing?\\nanswer: N/A\"],\n",
       "    'error': 'No errors.'},\n",
       "   {'response': [\"question: What were PDD's first quarter revenue and net income results?\\nanswer: N/A\"],\n",
       "    'error': 'No errors.'},\n",
       "   {'response': ['question: What is the full name of the company?\\nanswer: PDD Holdings Inc.'],\n",
       "    'error': 'No errors.'},\n",
       "   {'response': [\"question: What were PDD's first quarter 2024 adjusted earnings per American depositary shares?\\nanswer: RMB20.72 ($2.83)\"],\n",
       "    'error': 'No errors.'},\n",
       "   {'response': ['question: What is the translation of the registrant\\'s name \"Cayman Islands\" into English?\\nanswer: N/A'],\n",
       "    'error': 'No errors.'},\n",
       "   {'response': ['question: What is the jurisdiction of incorporation or organization for PDD Holdings Inc.?\\nanswer: PDD Holdings Inc. is incorporated in the Cayman Islands.'],\n",
       "    'error': 'No errors.'},\n",
       "   {'response': ['question: What is the address of the principal executive offices of Pinduoduo?\\nanswer: N/A'],\n",
       "    'error': 'No errors.'},\n",
       "   {'response': [\"question: Can you provide the contact information for the company's contact person?\\nanswer: N/A\"],\n",
       "    'error': 'No errors.'},\n",
       "   {'response': ['question: What securities were registered or are going to be registered pursuant to Section 12(b) of the Act?\\nanswer: N/A'],\n",
       "    'error': 'No errors.'},\n",
       "   {'response': ['question: What is the trading symbol of Pinduoduo (PDD) and on which exchange is it registered?\\nanswer: The trading symbol of Pinduoduo is PDD and it is registered on the NASDAQ exchange.'],\n",
       "    'error': 'No errors.'},\n",
       "   {'response': ['question: Where will the American depositary shares of PDD be listed?\\nanswer: The American depositary shares of PDD will be listed on the NASDAQ.'],\n",
       "    'error': 'No errors.'},\n",
       "   {'response': [\"question: What are some of the concerns associated with Pinduoduo's shopping app, TEMU?\\nanswer: N/A\"],\n",
       "    'error': 'No errors.'},\n",
       "   {'response': ['question: Who is the author of the report released on September 6, 2023?\\nanswer: N/A'],\n",
       "    'error': 'No errors.'},\n",
       "   {'response': [\"question: What are the concerns regarding Pinduoduo's (PDD) recent impressive results?\\nanswer: N/A\"],\n",
       "    'error': 'No errors.'},\n",
       "   {'response': ['question: What is the impact of the consumer wallet share gain strategy on revenue and earnings growth?\\nanswer: The impact of the consumer wallet share gain strategy on revenue and earnings growth is not provided in the given context.'],\n",
       "    'error': 'No errors.'},\n",
       "   {'response': [\"question: How does PDD's 2Q23 performance compare to consensus estimates and what are the drivers of this performance?\\nanswer: PDD's performance in Q1 exceeded estimates, with adjusted earnings per American depositary shares surging 199.4% year-over-year to RMB20.72 ($2.83). The drivers of this performance were strong transaction services driving revenue growth.\"],\n",
       "    'error': 'No errors.'},\n",
       "   {'response': ['question: What drove the 200% surge in profit for PDD in Q1?\\nanswer: Transaction services drove revenue growth for PDD in Q1, leading to a 200% surge in profit for the company.'],\n",
       "    'error': 'No errors.'},\n",
       "   {'response': [\"question: How did higher sales and marketing efficiency impact Pinduoduo's earnings in 2Q23?\\nanswer: N/A\"],\n",
       "    'error': 'No errors.'},\n",
       "   {'response': ['question: How does Pinduoduo plan to support merchants and brands on its platform in the future?\\nanswer: N/A'],\n",
       "    'error': 'No errors.'},\n",
       "   {'response': [\"question: What is the investment recommendation for PDD's stock?\\nanswer: As a financial analyst for institutional investors, the investment recommendation for PDD's stock would be to consider the positive first quarter results and the 199.4% increase in adjusted earnings per American depositary shares. However, it is important to conduct a thorough analysis of the company's financials, industry trends, and market conditions before making any investment decisions.\"],\n",
       "    'error': 'No errors.'},\n",
       "   {'response': [\"question: What is the target price for PDD's stock?\\nanswer: N/A\"],\n",
       "    'error': 'No errors.'},\n",
       "   {'response': [\"question: What is the current market scenario of the Chinese internet industry?\\nanswer: The current market scenario of the Chinese internet industry indicates strong performance, as evidenced by PDD's significant surge in profit and revenue growth driven by transaction services.\"],\n",
       "    'error': 'No errors.'},\n",
       "   {'response': ['answer: Ravikash Bakolia, SA'], 'error': 'No errors.'},\n",
       "   {'response': ['question: Who is the person associated with the email address franktao@cmbi.com.hk?\\nanswer: N/A'],\n",
       "    'error': 'No errors.'},\n",
       "   {'response': ['question: Who is the author of the email?\\nanswer: The author of the email is Ravikash Bakolia, SA News Editor.'],\n",
       "    'error': 'No errors.'},\n",
       "   {'response': ['question: What is the historical stock price of PDD over the past five years?\\nanswer: N/A'],\n",
       "    'error': 'No errors.'},\n",
       "   {'response': [\"question: What is PDD's market capitalization and three-month average turnover?\\nanswer: N/A\"],\n",
       "    'error': 'No errors.'},\n",
       "   {'response': ['The source of the data provided is from a Seeking Alpha news article.'],\n",
       "    'error': 'No errors.'},\n",
       "   {'response': ['question: What percentage of stock in Pinduoduo is held by entities affiliated with Zheng Huang?\\nanswer: N/A'],\n",
       "    'error': 'No errors.'},\n",
       "   {'response': ['The source of the information provided is a news article from Seeking Alpha.'],\n",
       "    'error': 'No errors.'},\n",
       "   {'response': [\"question: What is the historical performance of PDD's stock?\\nanswer: PDD's stock rose about 8% premarket on Wednesday after first quarter results beat estimates, with adjusted earnings per American depositary shares surging 199.4% year-over-year.\"],\n",
       "    'error': 'No errors.'},\n",
       "   {'response': ['question: What is the 12-month price performance of the stock?\\nanswer: N/A'],\n",
       "    'error': 'No errors.'},\n",
       "   {'response': [\"question: What is the trend of PDD's stock price compared to the Nasdaq Index over the past year?\\nanswer: N/A\"],\n",
       "    'error': 'No errors.'},\n",
       "   {'response': ['The information in this context is sourced from a Seeking Alpha article titled \"PDD jumps after Q1 profit surges 200%, transaction services drive revenue growth\" by Ravikash Bakolia.'],\n",
       "    'error': 'No errors.'},\n",
       "   {'response': ['question: What is the significance of the date November 15, 2023?\\nanswer: N/A'],\n",
       "    'error': 'No errors.'},\n",
       "   {'response': ['question: What is PDD International?\\nanswer: N/A'],\n",
       "    'error': 'No errors.'},\n",
       "   {'response': ['question: What is the relationship between PDD and China Merchants?\\nanswer: N/A'],\n",
       "    'error': 'No errors.'},\n",
       "   {'response': ['question: What is the name of the company that provided the equity research update?\\nanswer: N/A'],\n",
       "    'error': 'No errors.'},\n",
       "   {'response': [\"question: What recent development does the context suggest about Pinduoduo's business expansion strategy?\\nanswer: The recent development suggests that Pinduoduo's business expansion strategy is focused on driving revenue growth through transaction services, as evidenced by the 200% surge in profit in the first quarter.\"],\n",
       "    'error': 'No errors.'},\n",
       "   {'response': [\"question: What factors contribute to Pinduoduo's positive long-term growth prospects?\\nanswer: Pinduoduo's positive long-term growth prospects are contributed to by its strong financial performance, with adjusted earnings per American depositary shares surging 199.4% year-over-year in the first quarter, driven by transaction services that led to revenue growth.\"],\n",
       "    'error': 'No errors.'},\n",
       "   {'response': [\"question: What factors are contributing to Temu's rapid business expansion?\\nanswer: N/A\"],\n",
       "    'error': 'No errors.'},\n",
       "   {'response': ['question: How does Pinduoduo plan to drive GMV growth and increase its monetization rate?\\nanswer: Pinduoduo plans to drive GMV growth and increase its monetization rate through continued investment in transaction services, which has been a key driver of revenue growth. This includes optimizing the user experience, expanding product offerings, and strengthening partnerships with sellers to increase sales volume.'],\n",
       "    'error': 'No errors.'},\n",
       "   {'response': [\"question: What is the forecast for Pinduoduo's non-GAAP operating margin in 2023 and 2024?\\nanswer: N/A\"],\n",
       "    'error': 'No errors.'},\n",
       "   {'response': [\"question: What are the key findings from PDD's earnings summary?\\nanswer: PDD's key findings from its earnings summary include a 199.4% year-over-year increase in adjusted earnings per American depositary shares to RMB20.72 ($2.83), as well as revenue growth driven by transaction services.\"],\n",
       "    'error': 'No errors.'},\n",
       "   {'response': ['question: What is the projected RMB mn revenue growth from FY21A to FY25E?\\nanswer: N/A'],\n",
       "    'error': 'No errors.'},\n",
       "   {'response': [\"question: Where did the data for the investor metrics come from?\\nanswer: The data for the investor metrics came from PDD's first quarter financial results, which were released by the company.\"],\n",
       "    'error': 'No errors.'},\n",
       "   {'response': [\"question: What is the recommendation for investors regarding PDD's stock?\\nanswer: Based on the significant increase in adjusted earnings per American depositary shares and the beat in first quarter results, the recommendation for investors would be to consider buying or holding onto PDD's stock.\"],\n",
       "    'error': 'No errors.'},\n",
       "   {'response': [\"question: What is the target price for PDD's stock?\\nanswer: N/A\"],\n",
       "    'error': 'No errors.'},\n",
       "   {'response': ['question: Who is the author of the email?\\nanswer: Ravikash Bakolia'],\n",
       "    'error': 'No errors.'},\n",
       "   {'response': ['question: What is the name and contact information of the author of the document?\\nanswer: The author of the document is Ravikash Bakolia. Contact information is not provided.'],\n",
       "    'error': 'No errors.'},\n",
       "   {'response': ['question: Can you provide some stock data about PDD Holdings Inc. (PDD)?\\nanswer: PDD Holdings Inc. (PDD) stock rose about 8% premarket on Wednesday after first quarter results beat estimates. Adjusted earnings per American depositary shares surged 199.4% year-over-year to RMB20.72 ($2.83).'],\n",
       "    'error': 'No errors.'},\n",
       "   {'response': ['question: What is the market capitalization of PDD Holdings Inc.?\\nanswer: N/A'],\n",
       "    'error': 'No errors.'},\n",
       "   {'response': ['question: What is the shareholding structure of PDD Holdings Inc.?\\nanswer: N/A'],\n",
       "    'error': 'No errors.'},\n",
       "   {'response': ['question: What is the percentage of shares owned by entities affiliated with Zheng Huang?\\nanswer: N/A'],\n",
       "    'error': 'No errors.'},\n",
       "   {'response': [\"question: Where did the data for PDD's Q1 profit and revenue growth come from?\\nanswer: The data for PDD's Q1 profit and revenue growth came from the company's quarterly financial report and earnings release.\"],\n",
       "    'error': 'No errors.'},\n",
       "   {'response': [\"question: What has been the 12-month price performance of PDD's stock?\\nanswer: N/A\"],\n",
       "    'error': 'No errors.'},\n",
       "   {'response': [\"question: How has Pinduoduo's stock price trended from November 2022 to November 2023?\\nanswer: N/A\"],\n",
       "    'error': 'No errors.'},\n",
       "   {'response': [\"question: What caused the increase in PDD stock price?\\nanswer: The increase in PDD stock price was driven by the company's first quarter results that beat estimates, with adjusted earnings per American depositary shares surging 199.4% year-over-year to RMB20.72 ($2.83).\"],\n",
       "    'error': 'No errors.'},\n",
       "   {'response': ['question: Where can I find more reports from Bloomberg?\\nanswer: You can find more reports from Bloomberg on their website or through their financial news and data terminal services.'],\n",
       "    'error': 'No errors.'},\n",
       "   {'response': [\"Question: How has Pinduoduo's revenue growth changed from FY23 Q1 to FY24 Q1?\\nAnswer: N/A\"],\n",
       "    'error': 'No errors.'},\n",
       "   {'response': [\"question: How is Pinduoduo's current stock valuation compared to its expected future growth?\\nanswer: N/A\"],\n",
       "    'error': 'No errors.'},\n",
       "   {'response': [\"question: What is driving the surge in PDD's Q1 profit and revenue growth?\\nanswer: Transaction services are driving the surge in PDD's Q1 profit and revenue growth, as evidenced by the 199.4% increase in adjusted earnings per American depositary shares year-over-year.\"],\n",
       "    'error': 'No errors.'},\n",
       "   {'response': [\"question: What is the cause of the recent Chinese equity sell-off that impacted Pinduoduo's stock price?\\nanswer: N/A\"],\n",
       "    'error': 'No errors.'},\n",
       "   {'response': [\"question: How has the recent political event in China affected the perceived stability of the current leadership and its implications for the country's economic and social development?\\nanswer: N/A\"],\n",
       "    'error': 'No errors.'},\n",
       "   {'response': [\"question: What events occurred after October 24th that could affect Chinese stocks?\\nanswer: PDD's stock rose about 8% premarket on Wednesday after first quarter results beat estimates, with adjusted earnings per American depositary shares surging 199.4% year-over-year.\"],\n",
       "    'error': 'No errors.'},\n",
       "   {'response': [\"question: What has contributed to Pinduoduo's status as an enigma for investors?\\nanswer: N/A\"],\n",
       "    'error': 'No errors.'},\n",
       "   {'response': [\"question: What factors determine the magnitude of Pinduoduo's future profitability?\\nanswer: Factors that could determine the magnitude of Pinduoduo's future profitability may include growth in transaction services, expansion of its customer base, success in emerging markets, and continued innovation and technology development.\"],\n",
       "    'error': 'No errors.'},\n",
       "   {'response': [\"question: How has the growth of PDD's revenue changed over the past five quarters?\\nanswer: N/A\"],\n",
       "    'error': 'No errors.'},\n",
       "   {'response': ['question: What company is the focus of the DBS Group Research?\\nanswer: N/A'],\n",
       "    'error': 'No errors.'},\n",
       "   {'response': ['question: What was the change in Microsoft 365 Consumer subscribers over the past five quarters?\\nanswer: N/A'],\n",
       "    'error': 'No errors.'},\n",
       "   {'response': ['The date of the information provided is May 22, 2024.'],\n",
       "    'error': 'No errors.'},\n",
       "   {'response': ['question: What has been the trend in Microsoft 365 Consumer subscribers over the past five quarters?\\nanswer: N/A'],\n",
       "    'error': 'No errors.'},\n",
       "   {'response': [\"question: Is Pinduoduo (PDD) adding value to merchant’s businesses, and how is it benefitting from this value?\\nanswer: Pinduoduo (PDD) is adding value to merchant's businesses by driving revenue growth through its transaction services. With a surge in adjusted earnings, it is clear that PDD is benefitting from this value by attracting more merchants and driving increased transaction volume on its platform.\"],\n",
       "    'error': 'No errors.'},\n",
       "   {'response': ['question: What is the trend in Microsoft 365 Consumer subscribers over the past five quarters?\\nanswer: N/A'],\n",
       "    'error': 'No errors.'},\n",
       "   {'response': [\"question: What is PDD Holdings Inc.'s primary focus and what impact does it aim to have on local communities and small businesses?\\nanswer: N/A\"],\n",
       "    'error': 'No errors.'},\n",
       "   {'response': ['question: What was the growth rate of LinkedIn revenue in FY23 Q1 and FY23 Q2?\\nanswer: N/A'],\n",
       "    'error': 'No errors.'},\n",
       "   {'response': [\"question: What is Pinduoduo's user base?\\nanswer: N/A\"],\n",
       "    'error': 'No errors.'},\n",
       "   {'response': [\"question: What is Pinduoduo's position in the online agriculture market in China?\\nanswer: N/A\"],\n",
       "    'error': 'No errors.'},\n",
       "   {'response': ['question: How is Pinduoduo leveraging its social commerce expertise and innovative business model to expand overseas?\\nanswer: Pinduoduo is leveraging its social commerce expertise and innovative business model to expand overseas by driving revenue growth through transaction services and continuously improving its platform to beat earnings estimates and attract more investors.'],\n",
       "    'error': 'No errors.'},\n",
       "   {'response': ['question: What is the target price for Pinduoduo (PDD) and what is it premised on?\\nanswer: N/A'],\n",
       "    'error': 'No errors.'},\n",
       "   {'response': [\"Question: What risks are associated with Pinduoduo's reliance on lower-tier cities?\\nAnswer: Given Pinduoduo's focus on lower-tier cities, potential risks include lower average income levels, less infrastructure development, and challenges in logistics and supply chain management in these regions. Additionally, competition may be more intense in lower-tier cities, and consumer preferences and behavior may differ significantly from those in higher-tier cities.\"],\n",
       "    'error': 'No errors.'},\n",
       "   {'response': [\"question: What are three risks that could impact the financial performance of the company?\\nanswer: Three risks that could impact the financial performance of PDD Holdings Inc. could include changes in consumer behavior impacting transaction services, regulatory changes in China affecting the company's operations, and increased competition in the e-commerce market affecting revenue growth.\"],\n",
       "    'error': 'No errors.'},\n",
       "   {'response': ['Answer: N/A'], 'error': 'No errors.'},\n",
       "   {'response': ['question: How have Microsoft 365 Consumer subscribers changed over the past five quarters?\\nanswer: N/A'],\n",
       "    'error': 'No errors.'},\n",
       "   {'response': ['question: What is the 12-month target price for PDD US stock, according to DBS Rating?\\nanswer: N/A'],\n",
       "    'error': 'No errors.'},\n",
       "   {'response': [\"question: What was the closing price of PDD's stock as of March 21, 2024?\\nanswer: N/A\"],\n",
       "    'error': 'No errors.'},\n",
       "   {'response': ['question: What has been the indexed share price vs composite index performance over the past five years?\\nanswer: N/A'],\n",
       "    'error': 'No errors.'},\n",
       "   {'response': ['question: What has been the trend of PDD Holdings on the NASDAQ over the past four years?\\nanswer: N/A'],\n",
       "    'error': 'No errors.'},\n",
       "   {'response': [\"question: Where did the financial data for PDD's Q1 results come from?\\nanswer: The financial data for PDD's Q1 results came from the company's earnings report, which indicated a 199.4% surge in adjusted earnings per American depositary shares year-over-year.\"],\n",
       "    'error': 'No errors.'},\n",
       "   {'response': [\"question: What were PDD's first quarter financial results?\\nanswer: PDD's first quarter results included a 199.4% year-over-year increase in adjusted earnings per American depositary shares to RMB20.72 ($2.83).\"],\n",
       "    'error': 'No errors.'}],\n",
       "  'root': <uniflow.node.Node at 0x239fa0ca950>}]"
      ]
     },
     "execution_count": 91,
     "metadata": {},
     "output_type": "execute_result"
    }
   ],
   "source": [
    "output = client.run(input_data)\n",
    "output"
   ]
  },
  {
   "cell_type": "code",
   "execution_count": 92,
   "id": "b72bb1ef",
   "metadata": {},
   "outputs": [
    {
     "data": {
      "text/plain": [
       "['The United States Securities and Exchange Commission is headquartered in Washington, D.C.',\n",
       " 'PDD Holdings Inc.',\n",
       " 'RMB20.72 ($2.83)',\n",
       " 'PDD Holdings Inc. is incorporated in the Cayman Islands.',\n",
       " 'The trading symbol of Pinduoduo is PDD and it is registered on the NASDAQ exchange.',\n",
       " 'The American depositary shares of PDD will be listed on the NASDAQ.',\n",
       " 'The impact of the consumer wallet share gain strategy on revenue and earnings growth is not provided in the given context.',\n",
       " \"PDD's performance in Q1 exceeded estimates, with adjusted earnings per American depositary shares surging 199.4% year-over-year to RMB20.72 ($2.83). The drivers of this performance were strong transaction services driving revenue growth.\",\n",
       " 'Transaction services drove revenue growth for PDD in Q1, leading to a 200% surge in profit for the company.',\n",
       " \"As a financial analyst for institutional investors, the investment recommendation for PDD's stock would be to consider the positive first quarter results and the 199.4% increase in adjusted earnings per American depositary shares. However, it is important to conduct a thorough analysis of the company's financials, industry trends, and market conditions before making any investment decisions.\",\n",
       " \"The current market scenario of the Chinese internet industry indicates strong performance, as evidenced by PDD's significant surge in profit and revenue growth driven by transaction services.\",\n",
       " 'Ravikash Bakolia, SA',\n",
       " 'The author of the email is Ravikash Bakolia, SA News Editor.',\n",
       " \"PDD's stock rose about 8% premarket on Wednesday after first quarter results beat estimates, with adjusted earnings per American depositary shares surging 199.4% year-over-year.\",\n",
       " \"The recent development suggests that Pinduoduo's business expansion strategy is focused on driving revenue growth through transaction services, as evidenced by the 200% surge in profit in the first quarter.\",\n",
       " \"Pinduoduo's positive long-term growth prospects are contributed to by its strong financial performance, with adjusted earnings per American depositary shares surging 199.4% year-over-year in the first quarter, driven by transaction services that led to revenue growth.\",\n",
       " 'Pinduoduo plans to drive GMV growth and increase its monetization rate through continued investment in transaction services, which has been a key driver of revenue growth. This includes optimizing the user experience, expanding product offerings, and strengthening partnerships with sellers to increase sales volume.',\n",
       " \"PDD's key findings from its earnings summary include a 199.4% year-over-year increase in adjusted earnings per American depositary shares to RMB20.72 ($2.83), as well as revenue growth driven by transaction services.\",\n",
       " \"The data for the investor metrics came from PDD's first quarter financial results, which were released by the company.\",\n",
       " \"Based on the significant increase in adjusted earnings per American depositary shares and the beat in first quarter results, the recommendation for investors would be to consider buying or holding onto PDD's stock.\",\n",
       " 'Ravikash Bakolia',\n",
       " 'The author of the document is Ravikash Bakolia. Contact information is not provided.',\n",
       " 'PDD Holdings Inc. (PDD) stock rose about 8% premarket on Wednesday after first quarter results beat estimates. Adjusted earnings per American depositary shares surged 199.4% year-over-year to RMB20.72 ($2.83).',\n",
       " \"The data for PDD's Q1 profit and revenue growth came from the company's quarterly financial report and earnings release.\",\n",
       " \"The increase in PDD stock price was driven by the company's first quarter results that beat estimates, with adjusted earnings per American depositary shares surging 199.4% year-over-year to RMB20.72 ($2.83).\",\n",
       " 'You can find more reports from Bloomberg on their website or through their financial news and data terminal services.',\n",
       " \"Transaction services are driving the surge in PDD's Q1 profit and revenue growth, as evidenced by the 199.4% increase in adjusted earnings per American depositary shares year-over-year.\",\n",
       " \"PDD's stock rose about 8% premarket on Wednesday after first quarter results beat estimates, with adjusted earnings per American depositary shares surging 199.4% year-over-year.\",\n",
       " \"Factors that could determine the magnitude of Pinduoduo's future profitability may include growth in transaction services, expansion of its customer base, success in emerging markets, and continued innovation and technology development.\",\n",
       " \"Pinduoduo (PDD) is adding value to merchant's businesses by driving revenue growth through its transaction services. With a surge in adjusted earnings, it is clear that PDD is benefitting from this value by attracting more merchants and driving increased transaction volume on its platform.\",\n",
       " 'Pinduoduo is leveraging its social commerce expertise and innovative business model to expand overseas by driving revenue growth through transaction services and continuously improving its platform to beat earnings estimates and attract more investors.',\n",
       " \"Three risks that could impact the financial performance of PDD Holdings Inc. could include changes in consumer behavior impacting transaction services, regulatory changes in China affecting the company's operations, and increased competition in the e-commerce market affecting revenue growth.\",\n",
       " \"The financial data for PDD's Q1 results came from the company's earnings report, which indicated a 199.4% surge in adjusted earnings per American depositary shares year-over-year.\",\n",
       " \"PDD's first quarter results included a 199.4% year-over-year increase in adjusted earnings per American depositary shares to RMB20.72 ($2.83).\"]"
      ]
     },
     "execution_count": 92,
     "metadata": {},
     "output_type": "execute_result"
    }
   ],
   "source": [
    "news_questions = []\n",
    "news_answers = []\n",
    "result = output\n",
    "\n",
    "# Loop through the data structure\n",
    "for item in result:\n",
    "    for cur_output in item.get('output', []):\n",
    "        for response in cur_output.get('response', []):\n",
    "            # Split the response to extract the answer\n",
    "            parts = response.split('\\n')\n",
    "            for part in parts:\n",
    "                if part.startswith('answer:'):\n",
    "                    answer = part.replace('answer: ', '')\n",
    "                    if answer != \"N/A\":\n",
    "                        news_answers.append(answer)\n",
    "news_answers"
   ]
  },
  {
   "cell_type": "code",
   "execution_count": 98,
   "id": "798d6a01",
   "metadata": {},
   "outputs": [
    {
     "name": "stdout",
     "output_type": "stream",
     "text": [
      "Question 1: Where is the United States Securities and Exchange Commission located?\n",
      "Answer 1: The United States Securities and Exchange Commission is headquartered in Washington, D.C.\n",
      "Question 2: What is the full name of the company?\n",
      "Answer 2: PDD Holdings Inc.\n",
      "Question 3: What were PDD's first quarter 2024 adjusted earnings per American depositary shares?\n",
      "Answer 3: RMB20.72 ($2.83)\n",
      "Question 4: What is the jurisdiction of incorporation or organization for PDD Holdings Inc.?\n",
      "Answer 4: PDD Holdings Inc. is incorporated in the Cayman Islands.\n",
      "Question 5: What is the trading symbol of Pinduoduo (PDD) and on which exchange is it registered?\n",
      "Answer 5: The trading symbol of Pinduoduo is PDD and it is registered on the NASDAQ exchange.\n",
      "Question 6: Where will the American depositary shares of PDD be listed?\n",
      "Answer 6: The American depositary shares of PDD will be listed on the NASDAQ.\n",
      "Question 7: What is the impact of the consumer wallet share gain strategy on revenue and earnings growth?\n",
      "Answer 7: The impact of the consumer wallet share gain strategy on revenue and earnings growth is not provided in the given context.\n",
      "Question 8: How does PDD's 2Q23 performance compare to consensus estimates and what are the drivers of this performance?\n",
      "Answer 8: PDD's performance in Q1 exceeded estimates, with adjusted earnings per American depositary shares surging 199.4% year-over-year to RMB20.72 ($2.83). The drivers of this performance were strong transaction services driving revenue growth.\n",
      "Question 9: What drove the 200% surge in profit for PDD in Q1?\n",
      "Answer 9: Transaction services drove revenue growth for PDD in Q1, leading to a 200% surge in profit for the company.\n",
      "Question 10: What is the investment recommendation for PDD's stock?\n",
      "Answer 10: As a financial analyst for institutional investors, the investment recommendation for PDD's stock would be to consider the positive first quarter results and the 199.4% increase in adjusted earnings per American depositary shares. However, it is important to conduct a thorough analysis of the company's financials, industry trends, and market conditions before making any investment decisions.\n"
     ]
    }
   ],
   "source": [
    "# extract questions and answers used for report generation flow\n",
    "questions = []\n",
    "answers = []\n",
    "\n",
    "for item in result:\n",
    "    for cur_output in item.get('output', []):\n",
    "        for response in cur_output.get('response', []):\n",
    "            parts = response.split('\\n')\n",
    "            question = None\n",
    "            answer = None\n",
    "            for part in parts:\n",
    "                if part.startswith('question:'):\n",
    "                    question = part.replace('question: ', '')\n",
    "                elif part.startswith('answer:'):\n",
    "                    answer = part.replace('answer: ', '')\n",
    "\n",
    "            if answer and answer != 'N/A' and question:\n",
    "                questions.append(question)\n",
    "                answers.append(answer)\n"
   ]
  },
  {
   "cell_type": "markdown",
   "id": "3bd34bc0",
   "metadata": {},
   "source": [
    "### Report Generation"
   ]
  },
  {
   "cell_type": "code",
   "execution_count": 123,
   "id": "44db9619",
   "metadata": {},
   "outputs": [],
   "source": [
    "concatenated_questions = \"\\n\".join(questions)\n",
    "concatenated_answers = \"\\n\".join(answers)\n",
    "\n",
    "input_data = [[Context(context=concatenated_questions), Context(context=concatenated_answers)]]\n",
    "config = TransformOpenAIConfig(\n",
    "    flow_name=\"TransformReportGenerationOpenAIFlow\",\n",
    "    model_config=OpenAIModelConfig(),\n",
    ")\n",
    "client = TransformClient(config)"
   ]
  },
  {
   "cell_type": "code",
   "execution_count": 124,
   "id": "376a985d",
   "metadata": {},
   "outputs": [
    {
     "name": "stderr",
     "output_type": "stream",
     "text": [
      "100%|██████████| 1/1 [00:12<00:00, 12.31s/it]\n"
     ]
    },
    {
     "data": {
      "text/plain": [
       "[{'error': 'list indices must be integers or slices, not str',\n",
       "  'traceback': 'Traceback (most recent call last):\\n  File \"c:\\\\Users\\\\Pumpkinfries\\\\Desktop\\\\Cambio\\\\uniflow-llm-based-pdf-extraction-text-cleaning-data-clustering\\\\example\\\\transform\\\\../..\\\\uniflow\\\\flow\\\\server.py\", line 165, in _run_flow\\n    output = f(input_list)\\n  File \"c:\\\\Users\\\\Pumpkinfries\\\\Desktop\\\\Cambio\\\\uniflow-llm-based-pdf-extraction-text-cleaning-data-clustering\\\\example\\\\transform\\\\../..\\\\uniflow\\\\flow\\\\flow.py\", line 36, in __call__\\n    nodes = self.run(nodes)\\n  File \"c:\\\\Users\\\\Pumpkinfries\\\\Desktop\\\\Cambio\\\\uniflow-llm-based-pdf-extraction-text-cleaning-data-clustering\\\\example\\\\transform\\\\../..\\\\uniflow\\\\flow\\\\transform\\\\transform_report_generation_flow.py\", line 210, in run\\n    answer_node_grouped = self._group(\\n  File \"c:\\\\Users\\\\Pumpkinfries\\\\Desktop\\\\Cambio\\\\uniflow-llm-based-pdf-extraction-text-cleaning-data-clustering\\\\example\\\\transform\\\\../..\\\\uniflow\\\\op\\\\basic\\\\group_op.py\", line 52, in __call__\\n    labels, summaries = zip(*self._preprocess_fn(nodes_1, nodes_2))\\n  File \"c:\\\\Users\\\\Pumpkinfries\\\\Desktop\\\\Cambio\\\\uniflow-llm-based-pdf-extraction-text-cleaning-data-clustering\\\\example\\\\transform\\\\../..\\\\uniflow\\\\flow\\\\transform\\\\transform_report_generation_flow.py\", line 157, in <lambda>\\n    preprocss_fn=lambda nodes_1, nodes_2: [\\n  File \"c:\\\\Users\\\\Pumpkinfries\\\\Desktop\\\\Cambio\\\\uniflow-llm-based-pdf-extraction-text-cleaning-data-clustering\\\\example\\\\transform\\\\../..\\\\uniflow\\\\flow\\\\transform\\\\transform_report_generation_flow.py\", line 160, in <listcomp>\\n    node_summary.value_dict[\"response\"][0],\\nTypeError: list indices must be integers or slices, not str\\n'}]"
      ]
     },
     "execution_count": 124,
     "metadata": {},
     "output_type": "execute_result"
    }
   ],
   "source": [
    "client.run(input_data)"
   ]
  },
  {
   "cell_type": "markdown",
   "id": "a2942fd0",
   "metadata": {},
   "source": [
    "## End of the notebook\n",
    "\n",
    "Check more Uniflow use cases in the [example folder](https://github.com/CambioML/uniflow/tree/main/example/model#examples)!\n",
    "\n",
    "<a href=\"https://www.cambioml.com/\" title=\"Title\">\n",
    "    <img src=\"../image/cambioml_logo_large.png\" style=\"height: 100px; display: block; margin-left: auto; margin-right: auto;\"/>\n",
    "</a>"
   ]
  }
 ],
 "metadata": {
  "kernelspec": {
   "display_name": "Python 3 (ipykernel)",
   "language": "python",
   "name": "python3"
  },
  "language_info": {
   "codemirror_mode": {
    "name": "ipython",
    "version": 3
   },
   "file_extension": ".py",
   "mimetype": "text/x-python",
   "name": "python",
   "nbconvert_exporter": "python",
   "pygments_lexer": "ipython3",
   "version": "3.10.13"
  }
 },
 "nbformat": 4,
 "nbformat_minor": 5
}

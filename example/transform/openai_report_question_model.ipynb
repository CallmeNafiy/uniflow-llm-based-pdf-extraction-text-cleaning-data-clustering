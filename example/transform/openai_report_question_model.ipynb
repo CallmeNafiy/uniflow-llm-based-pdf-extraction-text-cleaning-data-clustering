{
 "cells": [
  {
   "cell_type": "markdown",
   "id": "7cbc4c4a",
   "metadata": {},
   "source": [
    "# Notebook for Report Questions Flow via OpenAI\n",
    "In this example, we will show you how to generate question-answers (QAs) from a pdf using OpenAI's models via `uniflow`'s [OpenAIJsonModelFlow](https://github.com/CambioML/uniflow/blob/main/uniflow/flow/model_flow.py#L125).\n",
    "\n",
    "\n",
    "### Before running the code\n",
    "\n",
    "You will need to `uniflow` conda environment to run this notebook. You can set up the environment following the instruction: https://github.com/CambioML/uniflow/tree/main#installation.\n",
    "\n",
    "Next, you will need a valid [OpenAI API key](https://platform.openai.com/api-keys) to run the code. Once you have the key, set it as the environment variable `OPENAI_API_KEY` within a `.env` file in the root directory of this repository. For more details, see this [instruction](https://github.com/CambioML/uniflow/tree/main#api-keys)\n",
    "\n",
    "In this example, we'll be using two papers in markdown format from under 'example/transform/data/raw_input/'"
   ]
  },
  {
   "cell_type": "markdown",
   "id": "a3ce3754",
   "metadata": {},
   "source": [
    "### Update system path"
   ]
  },
  {
   "cell_type": "code",
   "execution_count": 28,
   "id": "172a856a",
   "metadata": {},
   "outputs": [],
   "source": [
    "%reload_ext autoreload\n",
    "%autoreload 2\n",
    "\n",
    "import sys\n",
    "\n",
    "sys.path.append(\".\")\n",
    "sys.path.append(\"..\")\n",
    "sys.path.append(\"../..\")"
   ]
  },
  {
   "cell_type": "markdown",
   "id": "a594b4c3",
   "metadata": {},
   "source": [
    "### Install helper packages"
   ]
  },
  {
   "cell_type": "markdown",
   "id": "7d84aefd",
   "metadata": {},
   "source": [
    "### Import Dependency"
   ]
  },
  {
   "cell_type": "code",
   "execution_count": 29,
   "id": "8d84dd70",
   "metadata": {},
   "outputs": [
    {
     "data": {
      "text/plain": [
       "True"
      ]
     },
     "execution_count": 29,
     "metadata": {},
     "output_type": "execute_result"
    }
   ],
   "source": [
    "from dotenv import load_dotenv\n",
    "\n",
    "from uniflow.flow.flow_factory import FlowFactory\n",
    "from uniflow.flow.client import TransformClient\n",
    "from uniflow.flow.config import TransformOpenAIConfig\n",
    "from uniflow.op.model.model_config import OpenAIModelConfig\n",
    "from uniflow.op.prompt import Context, PromptTemplate\n",
    "\n",
    "load_dotenv()\n"
   ]
  },
  {
   "cell_type": "code",
   "execution_count": 30,
   "id": "2340ddee",
   "metadata": {},
   "outputs": [
    {
     "data": {
      "text/plain": [
       "{'extract': ['ExtractHTMLFlow',\n",
       "  'ExtractImageFlow',\n",
       "  'ExtractIpynbFlow',\n",
       "  'ExtractMarkdownFlow',\n",
       "  'ExtractPDFFlow',\n",
       "  'ExtractTxtFlow',\n",
       "  'ExtractGmailFlow'],\n",
       " 'transform': ['TransformAzureOpenAIFlow',\n",
       "  'TransformComparisonGoogleFlow',\n",
       "  'TransformComparisonOpenAIFlow',\n",
       "  'TransformCopyFlow',\n",
       "  'TransformGoogleFlow',\n",
       "  'TransformGoogleMultiModalModelFlow',\n",
       "  'TransformHuggingFaceFlow',\n",
       "  'TransformLMQGFlow',\n",
       "  'TransformOpenAIFlow',\n",
       "  'TransformQuestionExtractionOpenAIFlow',\n",
       "  'TransformNewsFeedOpenAIFlow'],\n",
       " 'rater': ['RaterFlow']}"
      ]
     },
     "execution_count": 30,
     "metadata": {},
     "output_type": "execute_result"
    }
   ],
   "source": [
    "FlowFactory.list()"
   ]
  },
  {
   "cell_type": "markdown",
   "id": "cb677037",
   "metadata": {},
   "source": [
    "### Prepare the input data\n",
    "They are in preprocessed in markdown formats"
   ]
  },
  {
   "cell_type": "code",
   "execution_count": 31,
   "id": "fc6f290c",
   "metadata": {},
   "outputs": [
    {
     "data": {
      "text/plain": [
       "['# Pinduoduo (Nasdaq: PDD)\\n\\nPinduoduo is the third largest ecommerce platform in China. We believe the stock is under-\\nvalued, as PDD is now trading at ~10.4x EV/FCF (adjusted for stock-based comp) or ~6.4x EV\\n/ FCF on 2025 estimates. This valuation seems far too cheap, for a company who is growing\\ncurrent revenues at +65% y/y (as of Q3 2022), expected to grow top-line at ~24% y/y over the\\nnext three years, and where we expect operating income to 2 - 3x over the same timeframe¹.\\n\\nIt seems the basis of this opportunity, lies in the investment community\\'s broad aversion to\\nChinese equities (especially internet companies), in addition to several company specific\\nconcerns:\\n\\n1. The Recent Chinese Equity Sell-off is Due to Politics, Not Fundamentals: At the\\nlowest point on Oct 24th, PDD\\'s stock price was down by -34% in a single day, due to\\nforeign capital fleeing the Chinese equity markets after the President Xi\\'s \"landslide\"\\nreelection victory and the appointment of his loyalists to the Politburo Standing\\nCommittee. Foreign investors feared that this consolidation of power would mark the\\nbeginning of China\\'s changing stance towards capitalism.\\n\\nIn contrast, we feel that these issues have been well communicated for years (it was\\nexpected that Xi would receive a 3rd term since 2018, for example), and don\\'t signify a\\ndeviation from previously announced Party goals. In fact, we thought the event may\\nactually give Xi more leeway to aggressively pursue the needs / betterment of Chinese\\nsociety & economy, without having to worry about his political position or competing\\nfactions within the CCP.\\n\\nAfter Oct 24th, we indeed saw a flood of positive news - from support of China\\'s real\\nestate sector, to loosening of China\\'s zero-Covid policy, to improving relations with\\nforeign countries.\\n\\n2.\\nLack of Communication with Investors: Pinduoduo has long been an enigma for the\\ninvestment community. The company hasn\\'t had a CFO for years, refuses to provide\\ngranular disclosure for the analyst community, and doesn\\'t break out its different business\\nsegments in an easily understandable format.\\n\\nFor example, Pinduoduo\\'s grocery business line segment results are hidden within its\\n\"Transaction Services\" revenue line. The company also just launched Temu (its\\ninternational business), but doesn\\'t provide investors with any information regarding its\\nbusiness strategy / planned investments within the division. On earnings calls, the\\n\\n1. The exact magnitude depends on the timing of Duoduo grocery reaching profitability, and the degree of investment spend into Temu.\\n\\nHAYDEN CAPITAL\\n\\n1',\n",
       " 'management team even deliberately answers most analyst questions with a seemingly\\nscripted answer, often simply reiterating what it\\'s already stated in past calls.\\n\\nBecause of this, the company\\'s earnings results have always deviated materially from the\\nmarket\\'s consensus (and often to the upside). This lack of transparency and concerns\\nabout corporate governance have prevented some investors from investing in the\\ncompany.\\n\\nHowever in our view, just because a company doesn\\'t give investors disclosure doesn\\'t\\nnecessarily mean they don\\'t care about investors. In order to understand management\\'s\\nthinking, we have to analyze past actions instead of what they say to ensure the correct\\ndecisions were made. Analyzing current initiatives requires more effort on the investor\\'s\\npart, and requires deeper analysis to break-down how the business\\' true financial\\ncondition, in addition to primary research to source our own information (versus simply\\nrelying upon company guidance).\\n\\n3. Growth Ceiling Concerns: As Pinduoduo approaches 900M active buyers, which\\ncaptures almost all of China\\'s mobile internet users, there\\'s concerns that the company\\'s\\nroom for growth within China is shrinking. In addition, PDD\\'s take-rate is starting to\\nexceed Alibaba\\'s, which calls into question just how much higher it can go.\\nInvestors have historically viewed BABA\\'s take-rates as the \"ceiling\" in China\\'s\\necommerce industry. However, we view this as an arbitrary limit - especially since China\\nhas one of the lowest ecommerce take-rates globally (historically due to the intense\\ncompetition between the large ecommerce platforms). We think this is shifting, and take-\\nrates can continue to rise as long as Pinduoduo can provide more value to merchants,\\nthan what they capture-back in the form of commissions & ads. We\\'ll discuss this in\\nmore detail below.\\n\\n4. Fears that Strong Results are Temporary: There are concerns that Q2 & Q3 2022\\'s\\nimpressive results are from one-off windfalls and won\\'t be sustainable. The fear is that\\nmerchants\\' urgent needs for destocking during a period of overall weak Chinese\\neconomic consumption, allowed PDD to command higher take rates (via increased\\nmerchant advertising). Additionally, PDD skews toward lower tier cities, where users\\nwere proportionally less exposed to COVID lock downs.\\n\\nWhile these concerns are valid, we don\\'t believe it impairs PDD\\'s long-term thesis. The\\ncompany is increasing its mix of high-value / branded items, which is allowing it to court\\nhigher-tier residents. Additionally we believe that with the 2nd largest consumer base,\\nmerchants will be inclined to spend an increasing amount of their advertising budget to\\nreach these users. Pinduoduo is actively creating value for merchant\\'s businesses (and\\nthus expanding merchant\\'s margin profiles), as we\\'ll describe below. This incremental\\nvalue operates in a \"closed-loop\", is then recaptured by the platform.',\n",
       " '# Business Overview\\n\\nPinduoduo was launched in 2015, and over the last seven years has quickly ramped up its user\\npool to 900 million users. It\\'s now the third largest e-commerce platform in China in terms of\\nGMV, with ~24% market share.\\n\\nInstead of competing head-to-head with Alibaba and JD\\'s search-based platforms, PDD focused\\non creating an interactive and entertaining platform. A search-based shopping experience is\\nwhere a customer already wants to buy a specific item, and then searches different varieties /\\nprices for that particular item on the platform.\\n\\nPinduoduo\\'s model is based on entertaining users and giving them the chance to get deep\\ndiscounts instead. The user behavior differs, since customers log onto the platform without a\\nspecific item in mind - only logging on out of boredom or to see what deals are available that\\nday.\\n\\nThe best analogy is like that of a \"sushi conveyor belt\" (LINK). Deeply-discounted, \"deals of the\\nday\" items are shown on the app, and users scroll down the page only until they find something\\nthat catches their eye. The discounts and items on sale differ every day, so users never know\\nwhat they\\'ll find when they log on next (making it a fun, \"treasure-hunt\" experience). There were\\nalso daily check-in rewards and mini-games, where users could earn rewards and get free items or\\nadditional discounts on the site, thus encouraging frequent engagement.\\n\\nThis is compared to a search-oriented platform, which is like a traditional store - items sit on a\\nshelf, and customers browse the aisles looking for what they need. The items offered don\\'t\\nchange much over time, so customers can shop at the store reliably.\\n\\nKey to its meteoric rise, is also PDD\\'s innovative \"team purchase model\". In the early days,\\nusers could either pay full-price or receive a discount when they \"teamed-up\" with other users\\nto\\npurchase together. All the buyers needed to complete the purchase within 24 hours, or else have\\nthe entire group\\'s order canceled. This incentivized users to quickly invite friends and family\\n(often through WeChat groups), to get the same great deal together. These new users would then\\ninvite additional people within their WeChat friends list, as they formed their own groups for\\nadditional purchases.\\n\\nWith the team purchase model providing large bulk-orders within a condensed time frame, this\\nthen allowed PDD to use these aggregated orders to go directly to manufacturers through a\\nconsumer-to-manufacturer model (\"C2M\"). PDD partnered directly with millions of factories,\\nwho traditionally manufactured items for national and foreign brands. PDD could provide the\\norder sizes required to justify having a separate \"white-label\" production line for the platform,\\nwhile also allowing factories to cut out several layers of middlemen and thus realize higher profit\\nmargins on the sales channel (we\\'ll discuss this more later).\\n\\nAlso since items are sold on a \"deal of the day\" basis, users don\\'t expect the same SKUs to\\nalways be available on the platform. As such, factories could run PDD specific production-lines\\nonly when they had excess capacity. Factories received the group-orders beforehand, so they\\nknew exactly many items to produce (reducing wasted inventory), and also meant PDD didn\\'t',\n",
       " \"need to hold inventory (since orders are shipped directly to the buyer's home, vs. sitting in a\\nwarehouse waiting to be sold).\\n\\nThis provided PDD with a structural price advantage, due to the ability to cut out all the middle-\\nmen distribution layers, and resulting in the cheapest price possible. It's this value-for-money\\nfocus that differentiated it from other e-commerce names - especially among value-seeking\\ncustomers, within Chinese lower-tier cities.\\n\\n**Pinduoduo Now Has Similar Number of Active Buyers as Alibaba**\\n*Source: Company filings; Hayden estimates*\\n\\n| | PDD | BABA | JD |\\n|-|-|-|-|\\n| 2013 | - | - | - |\\n| 2014 | - | - | - |\\n| 2015 | - | - | - |\\n| 2016 | - | - | 419 |\\n| 2017 | - | - | 585 |\\n| 2018 | 869 | 788 | - |\\n| 2019 | 882 | - | - |\\n| 2020 | 892 | - | - |\\n| 2021 | - | - | - |\\n| 1Q22 | - | - | - |\\n| 2Q22 | - | - | - |\\n\\n**PDD's Captured % Share of Incremental GMV**\\n*Source: Company filings; Hayden estimates; NBS Data*\\n\\n| Year | Incremental GMV |\\n|-|-|\\n| 2018 | 19% |\\n| 2019 | 33% |\\n| 2020 | 59% |\\n| 2021 | 58% |\\n| 1Q22 | 18% |\\n| 2Q22 | 57% |\\n\\nIn addition, PDD wisely leveraged its partnership with Tencent in the early days, benefiting from\\nthe cheap traffic WeChat provided. PDD utilized social interactions and viral marketing, which\\nencouraged users to share deals among their friends group-chats, which in turn accelerated\",\n",
       " \"## platform trust in the early days\\n\\nThis user engagement from social sharing on WeChat allowed PDD to ramp up its users quickly.\\n\\nNowadays, the platform has created its own captive user base and is less dependent upon Tencent traffic, as it has greatly matured after 2019. However, this growth-hack was key to its rapid growth in its early days.\\n\\nAdditionally, PDD's early success can be attributed to it targeting an under-penetrated ecommerce segment - users in lower-tier cities. Whereas Alibaba and JD both traditionally focused on Tier 1 & 2 consumers with higher disposable incomes and technology familiarity, they both missed the early trend that was happening in lower tier cities with the rise of smartphones. Combined with the seamlessness of Alipay & WeChat pay, online shopping suddenly became accessible to everyone with a cheap Android smartphone between 2010 - 2015.\\n\\nThese cities tend to have fewer entertainment options, so users spent more time engaged on their phones. They also had lower-disposable income, which meant many were willing to expend extra effort to get a great deal (such as sharing & promoting deals within group chats or playing games for discounts).\\n\\nThese users were unique to PDD, and exhibited higher stickiness versus other cohorts. Today, users order from the platform an average of ~6.5x per month, and it's this stickiness that has allowed the company to retain ~900M users without much incremental marketing.\\n\\nIn recent years, PDD has expanded its users to higher tier cities. Together with these deal-seekers, the platform has captured the majority of China's incremental ecommerce sales. In just a couple years, PDD has changed the competitive landscape in Chinese ecommerce, with Alibaba being the primary share donor.\\n\\n![China Ecommerce Market Share](https://i.imgur.com/L7aGOVt.png)\\nSource: Company filings; MS estimation on BABA GMV; NBS Data; Top 3 GMV exceeds NBS e-commerce sales as GMV includes returns and unfilled orders\",\n",
       " \"In the immediate future, PDD's core business is going to be driven by three primary tailwinds:\\n\\n1. Factories are over-supplied, and brands need to destock inventory. This leads to brands increasingly willing to try new channels (especially those with large captive user bases), and ultimately drives advertising revenue as merchants spend to gain user attention on these platforms.\\n\\n2. China's economic growth is slowing, which will encourage consumers to seek out more value-for-money shopping opportunities. Pinduoduo specializes in white-label products, that are at significant discounts to branded items. It's particularly strong in daily goods / household items that have high repeat purchase rates, and the average order is just $6 USD.\\n\\n3. Lower-tier cities will exhibit stronger consumption growth going forward. Any incremental new users will likely come from these regions, as recommerce is already mature within larger cities. Additionally, lower-tier cities comprise >70% of China's population, and >60% of its GDP (LINK). Brands are also starting to focus on this segment too, exemplified by the marketing term 'Xiachen' (Fir) - meaning downward marketing, or specifically targeting users in lower-tier cities as opportunities are exhausted in more populous cities.\\n\\nOn top of PDD's core ecommerce business, the company also launched an online grocery business (group-purchase model) in Q4 2020. When it first launched, Duoduo Grocery faced competition from all of the major Chinese tech giants (Alibaba, JD, Meituan, etc.). However in just two years, Duoduo Grocery has proved itself to be the winner of this trillion RMB market, with the highest market share and with the other players retrenching in defeat.\\n\\nWe will discuss this development in depth below, and why Duoduo Grocery could be an overlooked valuation-driver over the next few years.\\n\\n## Pinduoduo's Business Model\\n\\nPinduoduo's business consists of primarily two segments: the core ecommerce platform, and Duoduo Grocery. Duoduo Grocery hasn't turned a profit yet, so the company's profits today are entirely driven by the ecommerce business.\\n\\nPDD also launched Temu, it's international business, in September 2022 (LINK). It's still very small, but will comprise a third segment going forward. While it's still too early to estimate the future of this new initiative (i.e. the magnitude of GMV or revenue contribution), we do have some insight into its budgeted capex plans which we'll discuss later.\",\n",
       " \"PDD Segment Revenues\\nSource: RMB in millions; Company filings; Hayden estimates\\n\\n93,950\\n6,721\\n59,492\\n502\\n87,229\\n35,504\\n30,142\\n31,440\\n4,498\\n58,990\\n23,794\\n3,924\\n3,792\\n13,120\\n30,142\\n27,515\\n31,006\\n20,002\\n13,120\\n2018\\n2019\\n2020\\n2021\\n1Q22\\n2Q22\\n3Q22\\nCore Ecommerce\\nDuoduo Grocery\\n\\n## Core Ecommerce Platform\\n\\nPinduoduo is a third-party ecommerce platform, and therefore acts as marketplace model and\\nholds very little inventory itself. Like other 3P marketplaces, merchants pay marketing fees to get\\npriority listings and traffic on the platform. This online marketing fee contributed ~ -80% of\\nPDD's total revenues last quarter.\\n\\nThe take-rate for online marketing fees have been growing steadily in recent years. Apart from\\nthe COVID dip in Q1 2020, the take rate has expanded ~90bps from ~2.5% at the beginning of\\n2019, to ~3.4% ~ of GMV in Q3 2022.\\n\\nPDD's Online Marketing Service Take-Rate\\nSource: Company filings; Hayden estimates\\n\\n3.4%\\n3.3%\\n3.2%\\n3.3%\\n3.1%\\n3.1%\\n3.1%\\n2.8%\\n2.8%\\n2.9%\\n2.8%\\n2.7%\\n2.6%\\n2.6%\\n2.5%\\n2.4%\\n1.8%\\n1.7%\\n1.1%\\n0.8%\\n0.2%\",\n",
       " '# PDD\\'s GMV is a function of Average Order Value (AOV) X Order Frequency X Number of\\nActive Customers.\\n\\nThe company\\'s AOV is structurally lower than competitors, consistently ~ RMB 40 - 50 per\\norder. Alibaba meanwhile has an AOV ~RMB 95, and JD\\'s AOV is ~RMB 400¹. There are\\na\\nfew reasons for this:\\n\\n1. PDD doesn\\'t have a shopping cart function. There is simply one item per order, while\\ncompeting platforms have multiples items in an order. This feature incentives consumers\\nto make purchases quicker (and occasionally on impulse), increasing conversion, and\\nlower the risk of shopping cart abandonment.\\n\\nAdditionally, this makes sense for PDD\\'s business model, as the company doesn\\'t hold\\ninventory and is not responsible for fulfillment. Once an order is placed and confirmed\\nwith the merchant, the merchant is the one who handles the fulfillment and then utilizes\\n3rd party logistics providers to deliver the package to the buyer. Since each item is likely\\ncoming from a different merchant anyways, there wouldn\\'t be any benefit to grouping\\nitems in a shopping cart.\\n\\n2. PDD\\'s average selling price (ASP) is generally lower than similar products on Alibaba\\'s\\nsites, or JD. This is since PDD focuses on working directly with factories, to sell \"while\\nlabel\" goods, or items that are manufactured directly by factories without the added\\nexpense of a brand or the marketing costs associated with it.\\n\\nThis PDD - manufacturer relationship is what differentiates the platform, as multiple\\nlayers of middlemen and brand-related expenses are saved, by working directly with the\\nmanufacturer. PDD creates value for these manufacturers, by offering them a direct\\nchannel & relationship with the end-customer, that these manufacturers didn\\'t have\\nbefore. By working with factories to reduce the price, this also fulfills the primary\\nattribute PDD\\'s customers come to the platform for - \"value-for-money\".\\n\\n3. PDD also has a different category mix than competitors. The most popular categories\\nare lower ASP, such as groceries, daily home goods, and apparel. Meanwhile, the\\nplatform trails in high-priced categories, such as appliances and beauty.\\n\\nThe company has recently been adopting strategies to increase it\\'s AOV, and is making a\\npush to attract more brands (versus the traditional white-label factories). At the same\\ntime though, it has stuck with its core value proposition of being a platform that offers\\nthe best value for cost-conscious shoppers.\\n\\nFor example, we recently checked 20 of the highest-ranked premium / luxury brands\\nacross Alibaba\\'s categories, and found that half of these had also opened flagship stores\\non PDD. We believe this is in-line with PDD courting more users from higher-tier cities,\\nand is starting to position PDD as a destination for shoppers of all types who are looking\\nfor a good deal.\\n\\n¹ Alibaba stated in 2018 that annual active customers spend ~RMB 9,000 per year, across 92 orders.\\n\\nHAYDEN CAPITAL\\n\\n8',\n",
       " \"# Ecommerce Platform GMV Breakdown (2021)\\nSource: Bigone Data; Morgan Stanley Alpha Wise Estimates\\n\\n| Metric | Apparel | Beauty | Food & Beverage | Home& personal | Jewellery | 3C Appliance |\\n| --- | --- | --- | --- | --- | --- | --- |\\n| Kuaishou | 34% | 14% | 15% | 13% | 7% | 4% |\\n| Douyin | 43% | 12% | 13% | - | - | 6% |\\n| BABA | 15% | 8% | 31% | 4% | - | 5% |\\n| JD | 6% | 9% | 17% | 48% | - | 22% |\\n| PDD | 4% | 4% | 27% | 25% | 13% | 2% |\\n\\nThis category expansion and brand expansion (i.e. expanding the platform's offerings both\\nhorizontally and vertically), should help to increase customer's purchase frequencies. This is the\\nopportune time to do so, given PDD has already found its core value proposition within the\\nvalue-conscious segment, and has captured over 80% of China's mobile internet population as a\\nresult5. As such, the company needs to expand outside of this to continue growing, and creating\\nmore value for different users.\\n\\nOver the last few years, order frequency per user has increased from just 18x orders per year in\\n2017, to now ~ 75x orders per year (~6.3x per month; 2022 estimate). We believe this is the best\\nindication of user stickiness. But there's still ample room to grow, before this catches up with\\nAlibaba's average 90+ orders per year.\\n\\n## Annual Orders per Buyer Keep Increasing, While AOVs Are Stable\\nSource: Company filings\\n\\n| Metric | 2017 | 2018 | 2019 | 2020 | 2021 |\\n| --- | --- | --- | --- | --- | --- |\\n| Annual Orders per Customer | ¥32.84 | ¥28.0x | ¥33.7x | ¥49.0x | ¥70.0x |\\n| AOV | ¥17.6x | ¥40.25 | ¥50.99 | ¥43.19 | ¥40.14 |\\n\\n5 900M customers out of China's 1.1BN mobile internet users.\",\n",
       " '# Duoduo Grocery\\n\\nIn typical Pinduoduo fashion, the company has never disclosed the details of its recently\\nlaunched (Q4 2020) Duoduo Grocery business. In order to understand the business\\'\\ndevelopment and economics over the past two years, we need to comb through its financials, and\\nparse out its economics from the consolidated figures.\\n\\nFirst, PDD \"hid\" Duoduo Grocery\\' net gross profits in \"transaction services\" revenue. This\\nline-item historically was ~0.3% of GMV, which represented the payment processing fee paid to\\nTencent for WeChat Pay. Tencent\\'s payment processing fees have remained the same, and yet\\ntransaction services as a % of GMV ballooned immediately after Duoduo Grocery launched. So\\nif we back this out, we should be able to make a reasonable estimate for Duoduo Grocery\\'s gross\\nprofits.\\n\\nDuoduo Grocery Gross Profits Are Hidden Inside \"Transaction Services\" Revenues\\nSource: PDD filings; Assuming payment processing fees remains at 0.31% of GMV\\n\\n1,0\\nGrocery GP\\n0,9%\\n0,9\\nPayment Processing\\nQ4 2020:\\nPDD launches\\n9,8%\\n0,8\\nDuoduo\\n0,7\\nGrocery\\n0,6%\\n0,6\\n0,6%\\n0,6\\n0,5%\\n5%\\n0,5\\n0,4%\\n0,4\\n0.3%\\n0.3%\\n0,3%\\n0.3%\\n0,3%\\n0,3%\\n0.3\\n0,3%\\n0,3%\\n0,3%\\n0,2\\n0,1\\n0,0\\n2Q18\\n3Q18\\n4Q18\\n1Q19\\n2Q19\\n3Q19\\n4Q19\\n1Q20\\n2Q20\\n3Q20\\n4Q20\\n1Q21\\n2Q21\\n3Q21\\n4Q21\\n1Q22\\n2Q22\\n\\nDuring this time, PDD also started including \"delivery and storage fees\" (2020 20-F) and\\n\"fulfillment fees\" (2021 20-F) in its definition of cost of revenue. Since PDD doesn\\'t handle\\ndelivery or fulfillment for its core ecommerce business, it\\'s obvious that these cost items are\\nattributable to Duoduo Grocery6.\\n\\nWithin this period, RMB 21.3BN was used for fulfillment, logistics and warehousing for the\\ngrocery business. In addition, PDD spent ~5 - 10% the grocery GMV, as a commission for\\ngrocery group purchase leaders (essentially local PDD ambassadors, who promoted & took\\norders). This equated to ~RMB 5BN. Finally the other costs are for bandwidth / traffic and\\noverhead, and which needs to be allocated between the core ecommerce and grocery divisions.\\n\\n6 PDD very briefly experimented with 1P sales. But this really only lasted a few quarters, peaking in Q4 2020. So some of these costs are also\\nassociated with that business, but it\\'s not meaningful today (and yet these fulfillment costs have continued to increase, indicating the bulk is\\nfor\\ngrocery).\\n\\nHAYDEN CAPITAL\\n\\n10']"
      ]
     },
     "execution_count": 31,
     "metadata": {},
     "output_type": "execute_result"
    }
   ],
   "source": [
    "import os\n",
    "import sys\n",
    "\n",
    "from any_parser import AnyParser \n",
    "\n",
    "example_apikey = os.getenv(\"CAMBIO_API_KEY\")\n",
    "example_local_file = \"data/raw_input/PDD/Hayden.pdf\"\n",
    "\n",
    "op = AnyParser(example_apikey)\n",
    "content_result = op.extract(example_local_file)\n",
    "content_result"
   ]
  },
  {
   "cell_type": "code",
   "execution_count": 52,
   "id": "d47d8a38",
   "metadata": {},
   "outputs": [
    {
     "name": "stderr",
     "output_type": "stream",
     "text": [
      "  0%|          | 0/1 [00:00<?, ?it/s]"
     ]
    },
    {
     "name": "stdout",
     "output_type": "stream",
     "text": [
      "Upload response: 204\n"
     ]
    },
    {
     "name": "stderr",
     "output_type": "stream",
     "text": [
      "100%|██████████| 1/1 [00:23<00:00, 23.16s/it]"
     ]
    },
    {
     "name": "stdout",
     "output_type": "stream",
     "text": [
      "Extraction success.\n"
     ]
    },
    {
     "name": "stderr",
     "output_type": "stream",
     "text": [
      "\n"
     ]
    },
    {
     "data": {
      "text/plain": [
       "['# HAYDEN CAPITAL',\n",
       " '1345 AVENUE OF THE AMERICAS',\n",
       " '33RD FLOOR',\n",
       " 'NEW YORK, NY 10105',\n",
       " 'HAYDENCAP ITAL.CO',\n",
       " '## Pinduoduo (Nasdaq: PDD)',\n",
       " 'Pinduoduo is the third largest ecommerce platform in China. We believe the stock is under-',\n",
       " 'valued, as PDD is now trading at ~10.4x EV/FCF (adjusted for stock-based comp) or ~6.4x EV',\n",
       " '/ FCF on 2025 estimates. This valuation seems far too cheap, for a company who is growing',\n",
       " 'current revenues at +65% y/y (as of Q3 2022), expected to grow top-line at ~24% y/y over the',\n",
       " 'next three years, and where we expect operating income to 2 - 3x over the same timeframe¹.',\n",
       " \"It seems the basis of this opportunity, lies in the investment community's broad aversion to\",\n",
       " 'Chinese equities (especially internet companies), in addition to several company specific',\n",
       " 'concerns:',\n",
       " '1. The Recent Chinese Equity Sell-off is Due to Politics, Not Fundamentals: At the',\n",
       " \"lowest point on Oct 24th, PDD's stock price was down by -34% in a single day, due to\",\n",
       " 'foreign capital fleeing the Chinese equity markets after the President Xi\\'s \"landslide\"',\n",
       " 'reelection victory and the appointment of his loyalists to the Politburo Standing',\n",
       " 'Committee. Foreign investors feared that this consolidation of power would mark the',\n",
       " \"beginning of China's changing stance towards capitalism.\",\n",
       " 'In contrast, we feel that these issues have been well communicated for years (it was',\n",
       " \"expected that Xi would receive a 3rd term since 2018, for example), and don't signify a\",\n",
       " 'deviation from previously announced Party goals. In fact, we thought the event may',\n",
       " 'actually give Xi more leeway to aggressively pursue the needs / betterment of Chinese',\n",
       " 'society & economy, without having to worry about his political position or competing',\n",
       " 'factions within the CCP.',\n",
       " \"After Oct 24th, we indeed saw a flood of positive news - from support of China's real\",\n",
       " \"estate sector, to loosening of China's zero-Covid policy, to improving relations with\",\n",
       " 'foreign countries.',\n",
       " 'Lack of Communication with Investors: Pinduoduo has long been an enigma for the',\n",
       " \"investment community. The company hasn't had a CFO for years, refuses to provide\",\n",
       " \"granular disclosure for the analyst community, and doesn't break out its different business\",\n",
       " 'segments in an easily understandable format.',\n",
       " \"For example, Pinduoduo's grocery business line segment results are hidden within its\",\n",
       " '\"Transaction Services\" revenue line. The company also just launched Temu (its',\n",
       " \"international business), but doesn't provide investors with any information regarding its\",\n",
       " 'business strategy / planned investments within the division. On earnings calls, the',\n",
       " '1. The exact magnitude depends on the timing of Duoduo grocery reaching profitability, and the degree of investment spend into Temu.',\n",
       " 'HAYDEN CAPITAL']"
      ]
     },
     "execution_count": 52,
     "metadata": {},
     "output_type": "execute_result"
    }
   ],
   "source": [
    "# TODO: Fix later, change Open-parser librray to Any-parser\n",
    "from uniflow.flow.client import ExtractClient\n",
    "from uniflow.flow.config import ExtractPDFConfig\n",
    "from uniflow.op.model.model_config import OpenParserModelConfig\n",
    "\n",
    "input_file = \"data/raw_input/PDD/Hayden.pdf\"\n",
    "\n",
    "data = [\n",
    "    {\"filename\": input_file},\n",
    "]\n",
    "\n",
    "config = ExtractPDFConfig(\n",
    "    model_config=OpenParserModelConfig(\n",
    "        model_name = \"CambioML/open-parser\",\n",
    "        api_key = os.getenv(\"CAMBIO_API_KEY\"),\n",
    "    ),\n",
    ")\n",
    "openparser_client = ExtractClient(config)\n",
    "\n",
    "output = openparser_client.run(data)\n",
    "# content_result = output[0]['output'][0]['text']\n",
    "# content_result"
   ]
  },
  {
   "cell_type": "markdown",
   "id": "a3180ff3",
   "metadata": {},
   "source": [
    "### Use LLM to generate question/answer pairs for given reports\n",
    "\n",
    "In this example, we will use the [OpenAIModelConfig](https://github.com/CambioML/uniflow/blob/main/uniflow/model/config.py#L17)'s default LLM to generate questions and answers."
   ]
  },
  {
   "cell_type": "code",
   "execution_count": 32,
   "id": "063d2181",
   "metadata": {},
   "outputs": [],
   "source": [
    "# initialize questions bank\n",
    "questions_bank = []"
   ]
  },
  {
   "cell_type": "code",
   "execution_count": 33,
   "id": "c3e75e65",
   "metadata": {},
   "outputs": [],
   "source": [
    "input_data = [Context(Context=content_result[0])]\n",
    "config = TransformOpenAIConfig(\n",
    "    flow_name=\"TransformQuestionExtractionOpenAIFlow\",\n",
    "    model_config=OpenAIModelConfig(),\n",
    ")\n",
    "client = TransformClient(config)"
   ]
  },
  {
   "cell_type": "markdown",
   "id": "06b94c94",
   "metadata": {},
   "source": [
    "Now we call the `run` method on the `client` object to execute the question-answer generation operation on the data shown above."
   ]
  },
  {
   "cell_type": "code",
   "execution_count": 34,
   "id": "2103149e",
   "metadata": {},
   "outputs": [
    {
     "name": "stderr",
     "output_type": "stream",
     "text": [
      "100%|██████████| 1/1 [00:23<00:00, 23.40s/it]\n"
     ]
    }
   ],
   "source": [
    "output = client.run(input_data)"
   ]
  },
  {
   "cell_type": "markdown",
   "id": "363d8fba",
   "metadata": {},
   "source": [
    "### Pipeline"
   ]
  },
  {
   "cell_type": "code",
   "execution_count": null,
   "id": "830f2aa8",
   "metadata": {},
   "outputs": [],
   "source": []
  },
  {
   "cell_type": "markdown",
   "id": "aef58403",
   "metadata": {},
   "source": [
    "### Process the output\n",
    "\n",
    "Let's take a look of the generated output. We need to do a little postprocessing on the raw output."
   ]
  },
  {
   "cell_type": "code",
   "execution_count": 35,
   "id": "c1f70fa6",
   "metadata": {},
   "outputs": [
    {
     "data": {
      "text/plain": [
       "[{'output': [{'response': ['question: What is the ticker symbol for Pinduoduo?\\nanswer: The ticker symbol for Pinduoduo is PDD.'],\n",
       "    'error': 'No errors.'},\n",
       "   {'response': ['question: What are the current trading multiples for Pinduoduo, and how do they compare to 2025 estimates?\\nanswer: Pinduoduo is currently trading at around 10.4x EV/FCF, adjusted for stock-based compensation, or around 6.4x EV/FCF based on 2025 estimates. These multiples suggest that the stock is undervalued.'],\n",
       "    'error': 'No errors.'},\n",
       "   {'response': ['question: What is the basis of the current investment opportunity in Chinese equities?\\nanswer: The investment opportunity arises from the broad aversion to Chinese equities, particularly internet companies, as well as specific concerns related to individual companies.'],\n",
       "    'error': 'No errors.'},\n",
       "   {'response': [\"question: What is the main cause of the recent Chinese equity sell-off?\\nanswer: The recent Chinese equity sell-off is primarily due to foreign investors fleeing the market after President Xi's reelection victory and the consolidation of power by his loyalists.\"],\n",
       "    'error': 'No errors.'},\n",
       "   {'response': ['question: How has the political stability of China been communicated in advance, and how does it affect the Chinese economy?\\nanswer: The expectation that Xi would receive a 3rd term as far back as 2018 indicates stability and continuity in Chinese politics, potentially providing Xi with more freedom to pursue economic and societal improvement without political constraints.'],\n",
       "    'error': 'No errors.'},\n",
       "   {'response': [\"question: What events have occurred since October 24th that could impact the stock?\\nanswer: Support for China's real estate sector, relaxation of China's zero-Covid policy, and improving relations with foreign countries have all occurred since October 24th that could impact the stock.\"],\n",
       "    'error': 'No errors.'},\n",
       "   {'response': [\"question: How has Pinduoduo's lack of communication with investors affected its relationship with the investment community?\\nanswer: Pinduoduo's lack of transparency, including the absence of a CFO and refusal to provide detailed disclosures, has made it difficult for the investment community to fully understand the company's business segments and financial performance.\"],\n",
       "    'error': 'No errors.'},\n",
       "   {'response': [\"question: What challenges does Pinduoduo's financial reporting pose to investors looking to analyze the success of its grocery business and international business segment?\\nanswer: The grocery business line segment's results are hidden within another revenue line, making it difficult to isolate its success. Additionally, Pinduoduo does not provide investors with any information regarding the business strategy or planned investments for its international business, Temu.\"],\n",
       "    'error': 'No errors.'},\n",
       "   {'response': [\"question: What factors will impact the magnitude of potential profitability for Pinduoduo's grocery business and investment into Temu?\\nanswer: The timing of Duoduo grocery reaching profitability and the level of investment spend into Temu will directly affect the potential profitability magnitude.\"],\n",
       "    'error': 'No errors.'},\n",
       "   {'response': ['question: What is the name of the entity mentioned in the context?\\nanswer: HAYDEN CAPITAL.'],\n",
       "    'error': 'No errors.'},\n",
       "   {'response': ['Investor Metrics\\tFY23 Q1\\tFY23 Q2\\tFY23 Q3\\tFY23 Q4\\tFY24 Q1\\n                    Office Commercial products and cloud services revenue growth (y/y)\\t7% / 13%\\t7% / 14%\\t13% / 17%\\t12% / 14%\\t15% / 14%\\n                    Office Consumer products and cloud services revenue growth (y/y)\\t7% / 11%\\t(2)% / 3%\\t1% / 4%\\t3% / 6%\\t3% / 4%\\n                    Office 365 Commercial seat growth (y/y)\\t14%\\t12%\\t11%\\t11%\\t10%\\n                    Microsoft 365 Consumer subscribers (in millions)\\t65.1\\t67.7\\t70.8\\t74.9\\t76.7\\n                    Dynamics products and cloud services revenue growth (y/y)\\t15% / 22%\\t13% / 20%\\t17% / 21%\\t19% / 21%\\t22% / 21%\\n                    LinkedIn revenue growth (y/y)\\t17% / 21%\\t10% / 14%\\t8% / 11%\\t6% / 8%\\t8%\\n                    Growth rates include non-GAAP CC growth (GAAP % / CC %).\\n\\nquestion: How has Microsoft 365 Consumer subscribers changed over the past five quarters?\\nanswer: Microsoft 365 Consumer subscribers have increased from 65.1 million in FY23 Q1 to 76.7 million in FY24 Q1.'],\n",
       "    'error': 'No errors.'}],\n",
       "  'root': <uniflow.node.Node at 0x239873e0ac0>}]"
      ]
     },
     "execution_count": 35,
     "metadata": {},
     "output_type": "execute_result"
    }
   ],
   "source": [
    "# PDD_ hayden new\n",
    "output"
   ]
  },
  {
   "cell_type": "code",
   "execution_count": 36,
   "id": "3a02322d",
   "metadata": {},
   "outputs": [
    {
     "data": {
      "text/plain": [
       "['What is the ticker symbol for Pinduoduo?',\n",
       " 'What are the current trading multiples for Pinduoduo, and how do they compare to 2025 estimates?',\n",
       " 'What is the basis of the current investment opportunity in Chinese equities?',\n",
       " 'What is the main cause of the recent Chinese equity sell-off?',\n",
       " 'How has the political stability of China been communicated in advance, and how does it affect the Chinese economy?',\n",
       " 'What events have occurred since October 24th that could impact the stock?',\n",
       " \"How has Pinduoduo's lack of communication with investors affected its relationship with the investment community?\",\n",
       " \"What challenges does Pinduoduo's financial reporting pose to investors looking to analyze the success of its grocery business and international business segment?\",\n",
       " \"What factors will impact the magnitude of potential profitability for Pinduoduo's grocery business and investment into Temu?\",\n",
       " 'What is the name of the entity mentioned in the context?']"
      ]
     },
     "execution_count": 36,
     "metadata": {},
     "output_type": "execute_result"
    }
   ],
   "source": [
    "# Extracting questions\n",
    "\n",
    "for item in output:\n",
    "    for output in item['output']:\n",
    "        for response in output['response']:\n",
    "            if response.startswith('question:'):\n",
    "                question = response.split('\\n')[0].replace('question:', '').strip()\n",
    "                questions_bank.append(question)\n",
    "\n",
    "questions_bank"
   ]
  },
  {
   "cell_type": "markdown",
   "id": "6ad92cb3",
   "metadata": {},
   "source": [
    "### Now process incoming news feed"
   ]
  },
  {
   "cell_type": "code",
   "execution_count": 37,
   "id": "ebb860f7",
   "metadata": {},
   "outputs": [
    {
     "data": {
      "text/plain": [
       "['# PDD\\'s Temu shopping app targeted in EU consumer group\\'s complaint to EU tech regulator | South China Morning Post\\n\\n## South China Morning Post\\n\\n![Temu logo](https://www.scmp.com/sites/default/files/styles/1200x800/public/2023/05/21/d00eb5c1-2a39-45d9-bdd9-c8a44a88a1fc.png?itok=5OQ7HuMM)\\n\\nTEMU\\n\\nWe use cookies to tailor your experience\\nand present relevant ads. By clicking\\n\"Accept\", you agree that cookies can be\\nplaced per our Privacy Policy.\\n\\n**Tech / Policy**\\n\\n[https://www.scmp.com/tech/policy/article/3262916/pdds-temu-shopping-app-targeted-eu-consumer-groups-complaint-eu-tech-regulator](https://www.scmp.com/tech/policy/article/3262916/pdds-temu-shopping-app-targeted-eu-consumer-groups-complaint-eu-tech-regulator)\\n',\n",
       " \"# PDD's Temu shopping app targeted in EU consumer group's complaint to EU tech regulator\\n\\n## PDD's Temu shopping app targeted in EU consumer group's complaint to EU tech regulator\\n\\n- Pan-European consumers organisation BEUC says Temu, which launched in\\nEurope last year, is breaching the EU's Digital Services Act\\n- Temu often fails to provide consumers with crucial information about the sellers\\non its platform and safety standards of products, the complaint says\\n\\n## E-commerce\\n\\nREUTERS\\n\\nReuters\\n\\nPublished: 4:59pm, 16 May 2024\\nWhy you can trust SCMP\\n\\nChinese fast-fashion e-commerce retailer Temu was hit with a European Union\\ncomplaint on Thursday over a potential breach of online content rules by the PDD\\nHoldings - owned business.\\n\\nUnder the European Union's Digital Services Act, online marketplaces and\\nintermediaries are required to fight illegal and harmful content as well as counterfeit\\nproducts on their platforms.\\n\\nPan-European consumers organisation BEUC said it has lodged a grievance with the\\nEuropean Commission while 17 of its members in countries including France, Italy and\\nthe Netherlands have also filed complaints with their relevant national authorities.\\n\\n## READ FULL ARTICLE\",\n",
       " '# Potential TikTok ban threatens the US business of China\\'s cross-border sellers and the global ambitions of ByteDance\\n\\nIn the face of a potential TikTok ban, the platform\\'s merchants selling on the platform are preparing for the impact.\\n\\nWe use cookies to tailor your experience and present relevant ads. By clicking \"Accept\", you agree that cookies can be placed per our Privacy Policy.',\n",
       " \"# PDD's Temu shopping app targeted in EU consumer group's complaint to EU tech regulator | South China Morning Post\\n\\n## Leaving the US, a global trendsetter and major source of viral content, would be far more devastating to TikTok than exiting other markets like India\\n\\n[Listen to this article]\\n\\n### TikTok\\n\\n+ FOLLOW\\n\\n**Coco Feng in Beijing**\\n+ FOLLOW\\nPublished: 10:00am, 4 May 2024\\nT\\nWhy you can trust SCMP\\n\\nLuo Ziyan, who goes by the online name Daxiang and runs several profitable stores on TikTok for the e-commerce company Uebezz, is the envy of her fellow merchants in Yiwu, an export hub south of Shanghai.\\n\\nThe cross-border sales manager was among the first to use the globally popular short-video app to promote household goods to consumers in the United States and Southeast Asia, and her advice has been highly sought after by others hoping to replicate her success.\\n\\nBut after US President Joe Biden last month signed into law a bill requiring TikTok's Chinese owner ByteDance to divest the platform's US operations in 270 days or face a ban on the app, Luo has received at least one query almost every day that revolves around one theme: is opening a TikTok shop still worth the trouble?\",\n",
       " \"# PDD's Temu shopping app targeted in EU consumer group's complaint to EU tech regulator | South China Morning Post\\n\\nhttps://www.scmp.com/tech/policy/article/3262916/pdds-temu-shopping-app-targeted-eu-consumer-groups-complaint-eu-tech-regulator\"]"
      ]
     },
     "execution_count": 37,
     "metadata": {},
     "output_type": "execute_result"
    }
   ],
   "source": [
    "example_news = \"data/raw_input/PDD/PDD_news_1.pdf\"\n",
    "news_content = op.extract(example_news)\n",
    "news_content"
   ]
  },
  {
   "cell_type": "code",
   "execution_count": 38,
   "id": "15eeb66e",
   "metadata": {},
   "outputs": [
    {
     "data": {
      "text/plain": [
       "['What is the ticker symbol for Pinduoduo?',\n",
       " 'What are the current trading multiples for Pinduoduo, and how do they compare to 2025 estimates?',\n",
       " 'What is the basis of the current investment opportunity in Chinese equities?',\n",
       " 'What is the main cause of the recent Chinese equity sell-off?',\n",
       " 'How has the political stability of China been communicated in advance, and how does it affect the Chinese economy?',\n",
       " 'What events have occurred since October 24th that could impact the stock?',\n",
       " \"How has Pinduoduo's lack of communication with investors affected its relationship with the investment community?\",\n",
       " \"What challenges does Pinduoduo's financial reporting pose to investors looking to analyze the success of its grocery business and international business segment?\",\n",
       " \"What factors will impact the magnitude of potential profitability for Pinduoduo's grocery business and investment into Temu?\",\n",
       " 'What is the name of the entity mentioned in the context?']"
      ]
     },
     "execution_count": 38,
     "metadata": {},
     "output_type": "execute_result"
    }
   ],
   "source": [
    "questions_bank"
   ]
  },
  {
   "cell_type": "code",
   "execution_count": 47,
   "id": "86a9f1d7",
   "metadata": {},
   "outputs": [
    {
     "name": "stdout",
     "output_type": "stream",
     "text": [
      "DEBUG question bank in session:  ['What is the ticker symbol for Pinduoduo?', 'What are the current trading multiples for Pinduoduo, and how do they compare to 2025 estimates?', 'What is the basis of the current investment opportunity in Chinese equities?', 'What is the main cause of the recent Chinese equity sell-off?', 'How has the political stability of China been communicated in advance, and how does it affect the Chinese economy?', 'What events have occurred since October 24th that could impact the stock?', \"How has Pinduoduo's lack of communication with investors affected its relationship with the investment community?\", \"What challenges does Pinduoduo's financial reporting pose to investors looking to analyze the success of its grocery business and international business segment?\", \"What factors will impact the magnitude of potential profitability for Pinduoduo's grocery business and investment into Temu?\", 'What is the name of the entity mentioned in the context?']\n"
     ]
    }
   ],
   "source": [
    "input_data = [Context(Context=news_content[0])]\n",
    "config = TransformOpenAIConfig(\n",
    "    flow_name=\"TransformNewsFeedOpenAIFlow\",\n",
    "    prompt_template= PromptTemplate(instruction='\\n'.join(questions_bank)),\n",
    "    model_config=OpenAIModelConfig(),\n",
    ")\n",
    "client = TransformClient(config)"
   ]
  },
  {
   "cell_type": "code",
   "execution_count": 48,
   "id": "3c5aefb5",
   "metadata": {},
   "outputs": [
    {
     "name": "stderr",
     "output_type": "stream",
     "text": [
      "  0%|          | 0/1 [00:00<?, ?it/s]"
     ]
    },
    {
     "name": "stdout",
     "output_type": "stream",
     "text": [
      "DEBUG:  {'response': ['question: What is the ticker symbol for Pinduoduo?\\nanswer: PDD'], 'error': 'No errors.'}\n",
      "DEBUG:  {'response': ['question: What are the current trading multiples for Pinduoduo, and how do they compare to 2025 estimates?\\nanswer: N/A'], 'error': 'No errors.'}\n",
      "DEBUG:  {'response': ['answer: N/A'], 'error': 'No errors.'}\n",
      "DEBUG:  {'response': ['answer: N/A'], 'error': 'No errors.'}\n",
      "DEBUG:  {'response': ['answer: N/A'], 'error': 'No errors.'}\n",
      "DEBUG:  {'response': ['answer: N/A'], 'error': 'No errors.'}\n",
      "DEBUG:  {'response': [\"question: How has Pinduoduo's lack of communication with investors affected its relationship with the investment community?\\nanswer: Pinduoduo's lack of communication with investors has likely eroded trust and confidence in the company, leading to a strained relationship with the investment community. Investors may feel uncertain about the company's direction and performance, impacting their willingness to invest or maintain their current holdings in Pinduoduo.\"], 'error': 'No errors.'}\n",
      "DEBUG:  {'response': [\"Question: What challenges does Pinduoduo's financial reporting pose to investors looking to analyze the success of its grocery business and international business segment?\\nAnswer: N/A\"], 'error': 'No errors.'}\n",
      "DEBUG:  {'response': [\"question: What factors will impact the magnitude of potential profitability for Pinduoduo's grocery business and investment into Temu?\\nanswer: N/A\"], 'error': 'No errors.'}\n"
     ]
    },
    {
     "name": "stderr",
     "output_type": "stream",
     "text": [
      "100%|██████████| 1/1 [00:06<00:00,  6.14s/it]"
     ]
    },
    {
     "name": "stdout",
     "output_type": "stream",
     "text": [
      "DEBUG:  {'response': ['answer: PDD (Pinduoduo)'], 'error': 'No errors.'}\n"
     ]
    },
    {
     "name": "stderr",
     "output_type": "stream",
     "text": [
      "\n"
     ]
    },
    {
     "data": {
      "text/plain": [
       "[{'error': \"'list' object has no attribute 'value_dict'\",\n",
       "  'traceback': 'Traceback (most recent call last):\\n  File \"c:\\\\Users\\\\Pumpkinfries\\\\Desktop\\\\Cambio\\\\uniflow-llm-based-pdf-extraction-text-cleaning-data-clustering\\\\example\\\\transform\\\\../..\\\\uniflow\\\\flow\\\\server.py\", line 165, in _run_flow\\n    output = f(input_list)\\n  File \"c:\\\\Users\\\\Pumpkinfries\\\\Desktop\\\\Cambio\\\\uniflow-llm-based-pdf-extraction-text-cleaning-data-clustering\\\\example\\\\transform\\\\../..\\\\uniflow\\\\flow\\\\flow.py\", line 37, in __call__\\n    output_dict = self._exit(nodes)\\n  File \"c:\\\\Users\\\\Pumpkinfries\\\\Desktop\\\\Cambio\\\\uniflow-llm-based-pdf-extraction-text-cleaning-data-clustering\\\\example\\\\transform\\\\../..\\\\uniflow\\\\flow\\\\flow.py\", line 83, in _exit\\n    constants.OUTPUT_NAME: [copy.deepcopy(node.value_dict) for node in nodes],\\n  File \"c:\\\\Users\\\\Pumpkinfries\\\\Desktop\\\\Cambio\\\\uniflow-llm-based-pdf-extraction-text-cleaning-data-clustering\\\\example\\\\transform\\\\../..\\\\uniflow\\\\flow\\\\flow.py\", line 83, in <listcomp>\\n    constants.OUTPUT_NAME: [copy.deepcopy(node.value_dict) for node in nodes],\\nAttributeError: \\'list\\' object has no attribute \\'value_dict\\'\\n'}]"
      ]
     },
     "execution_count": 48,
     "metadata": {},
     "output_type": "execute_result"
    }
   ],
   "source": [
    "output = client.run(input_data)\n",
    "output"
   ]
  },
  {
   "cell_type": "code",
   "execution_count": 26,
   "id": "2472b101",
   "metadata": {},
   "outputs": [
    {
     "data": {
      "text/plain": [
       "[{'error': \"'list' object has no attribute 'value_dict'\",\n",
       "  'traceback': 'Traceback (most recent call last):\\n  File \"c:\\\\Users\\\\Pumpkinfries\\\\Desktop\\\\Cambio\\\\uniflow-llm-based-pdf-extraction-text-cleaning-data-clustering\\\\example\\\\transform\\\\../..\\\\uniflow\\\\flow\\\\server.py\", line 165, in _run_flow\\n    output = f(input_list)\\n  File \"c:\\\\Users\\\\Pumpkinfries\\\\Desktop\\\\Cambio\\\\uniflow-llm-based-pdf-extraction-text-cleaning-data-clustering\\\\example\\\\transform\\\\../..\\\\uniflow\\\\flow\\\\flow.py\", line 37, in __call__\\n    output_dict = self._exit(nodes)\\n  File \"c:\\\\Users\\\\Pumpkinfries\\\\Desktop\\\\Cambio\\\\uniflow-llm-based-pdf-extraction-text-cleaning-data-clustering\\\\example\\\\transform\\\\../..\\\\uniflow\\\\flow\\\\flow.py\", line 83, in _exit\\n    constants.OUTPUT_NAME: [copy.deepcopy(node.value_dict) for node in nodes],\\n  File \"c:\\\\Users\\\\Pumpkinfries\\\\Desktop\\\\Cambio\\\\uniflow-llm-based-pdf-extraction-text-cleaning-data-clustering\\\\example\\\\transform\\\\../..\\\\uniflow\\\\flow\\\\flow.py\", line 83, in <listcomp>\\n    constants.OUTPUT_NAME: [copy.deepcopy(node.value_dict) for node in nodes],\\nAttributeError: \\'list\\' object has no attribute \\'value_dict\\'\\n'}]"
      ]
     },
     "execution_count": 26,
     "metadata": {},
     "output_type": "execute_result"
    }
   ],
   "source": [
    "# PDD_Hayden\n",
    "output"
   ]
  },
  {
   "cell_type": "code",
   "execution_count": 35,
   "id": "b72bb1ef",
   "metadata": {},
   "outputs": [
    {
     "data": {
      "text/plain": [
       "['What is the stock ticker symbol for Pinduoduo?',\n",
       " 'What is the current valuation of Pinduoduo and how does it compare to estimated future performance?',\n",
       " \"What are the key concerns contributing to the investment community's aversion to Chinese equities, particularly internet companies?\",\n",
       " \"What recent event led to a significant drop in Pinduoduo's stock price on Oct 24th?\",\n",
       " \"How has the anticipation of Xi Jinping's reelection impacted the political landscape in China?\",\n",
       " 'What are some examples of positive news that contributed to stock prices after October 24th?',\n",
       " 'What issues does Pinduoduo have in terms of communication with investors?',\n",
       " 'What factors will influence the magnitude of investment spend into Duoduo grocery and Temu, and their respective profitability?',\n",
       " 'What is the name of the financial analyst firm mentioned in the context?']"
      ]
     },
     "execution_count": 35,
     "metadata": {},
     "output_type": "execute_result"
    }
   ],
   "source": [
    "# making question bank\n",
    "\n",
    "# Extracting questions\n",
    "questions_bank = []\n",
    "for item in output:\n",
    "    for output in item['output']:\n",
    "        for response in output['response']:\n",
    "            if response.startswith('question:'):\n",
    "                question = response.split('\\n')[0].replace('question:', '').strip()\n",
    "                questions_bank.append(question)\n",
    "\n",
    "questions_bank"
   ]
  },
  {
   "cell_type": "code",
   "execution_count": 25,
   "id": "db076846",
   "metadata": {},
   "outputs": [
    {
     "data": {
      "text/plain": [
       "[{'output': [{'response': ['question: What is the stock symbol for Pinduoduo?\\nanswer: The stock symbol for Pinduoduo is PDD.'],\n",
       "    'error': 'No errors.'},\n",
       "   {'response': [\"question: What is the current valuation of Pinduoduo's stock based on EV/FCF?\\nanswer: Pinduoduo's stock is currently trading at ~10.4x EV/FCF, adjusted for stock-based comp, or ~6.4x EV/FCF on 2025 estimates.\\n\\nquestion: What is the revenue growth rate of Pinduoduo as of Q3 2022?\\nanswer: Pinduoduo's current revenues are growing at +65% year-over-year as of Q3 2022.\\n\\nquestion: What is the expected top-line growth rate for Pinduoduo over the next three years?\\nanswer: Pinduoduo is expected to grow its top-line at ~24% year-over-year over the next three years.\\n\\nquestion: What is the expected growth in operating income for Pinduoduo over the next three years?\\nanswer: Operating income for Pinduoduo is expected to 2 - 3x over the next three years.\"],\n",
       "    'error': 'No errors.'},\n",
       "   {'response': [\"question: What is the basis of the investment opportunity being discussed?\\nanswer: The basis of the opportunity seems to be the investment community's aversion to Chinese equities, particularly internet companies, as well as specific concerns related to individual companies.\"],\n",
       "    'error': 'No errors.'},\n",
       "   {'response': [\"question: What caused the recent Chinese equity sell-off?\\nanswer: Politics, specifically President Xi's reelection victory and the appointment of his loyalists to the Politburo Standing Committee.\"],\n",
       "    'error': 'No errors.'},\n",
       "   {'response': [\"question: What is the expectation regarding Xi's political position since 2018?\\nanswer: It was expected that Xi would receive a 3rd term since 2018.\"],\n",
       "    'error': 'No errors.'},\n",
       "   {'response': [\"question: What positive news events occurred after Oct 24th?\\nanswer: Support of China's real estate sector, loosening of China's zero-Covid policy, and improving relations with foreign countries.\"],\n",
       "    'error': 'No errors.'},\n",
       "   {'response': ['question: What is the communication strategy of Pinduoduo with investors?\\nanswer: Pinduoduo has a lack of communication with investors, as they have not had a CFO for years, refuse to provide detailed disclosure for the analyst community, and do not break out their different business segments in an easily understandable format.'],\n",
       "    'error': 'No errors.'},\n",
       "   {'response': ['question: What information about Pinduoduo\\'s grocery business line segment is hidden within its \"Transaction Services\" revenue line?\\nanswer: The grocery business line segment results are hidden within its \"Transaction Services\" revenue line.\\n\\nquestion: What new business line did Pinduoduo recently launch?\\nanswer: Pinduoduo recently launched Temu, its international business.\\n\\nquestion: What information does Pinduoduo fail to provide investors regarding its international business division?\\nanswer: Pinduoduo fails to provide investors with any information regarding its business strategy or planned investments within the international division.'],\n",
       "    'error': 'No errors.'},\n",
       "   {'response': [\"question: What factors will impact the exact magnitude of the stock's movement?\\nanswer: The timing of Duoduo grocery reaching profitability and the degree of investment spend into Temu.\"],\n",
       "    'error': 'No errors.'},\n",
       "   {'response': [\"question: What is HAYDEN CAPITAL?\\nanswer: HAYDEN CAPITAL is a financial firm.\\nquestion: What is the significance of A Mathematical Theory of Communication by Claude E. Shannon?\\nanswer: Shannon's article introduced the concept of information entropy for the first time, which is important in the field of information theory.\\nquestion: How has information theory impacted the field of finance?\\nanswer: Information theory has implications for finance in terms of analyzing and understanding market information, especially in the age of big data and information overload.\"],\n",
       "    'error': 'No errors.'},\n",
       "   {'response': [\". Who introduced the concept of information entropy for the first time in 1948?\\nanswer: Claude E. Shannon.\\n2. What is the significance of Claude E. Shannon's article in 1948?\\nanswer: It established the theory of information and introduced the concept of information entropy for the first time.\\n3. How has Claude E. Shannon's work influenced the field of communication and information theory?\\nanswer: It has set the foundation for the study and understanding of information and communication, leading to further developments in the field.\"],\n",
       "    'error': 'No errors.'}],\n",
       "  'root': <uniflow.node.Node at 0x21c37641060>}]"
      ]
     },
     "execution_count": 25,
     "metadata": {},
     "output_type": "execute_result"
    }
   ],
   "source": [
    "# PDD_Hayden\n",
    "output"
   ]
  },
  {
   "cell_type": "code",
   "execution_count": 20,
   "id": "e7e97662",
   "metadata": {},
   "outputs": [
    {
     "data": {
      "text/plain": [
       "[{'output': [{'response': ['question: What is the name of the company under the stock symbol PDD US?\\nanswer: PDD Holdings.'],\n",
       "    'error': 'No errors.'},\n",
       "   {'response': ['question: What strategy boosted revenue and earnings growth?\\nanswer: Consumer wallet share gain strategy.'],\n",
       "    'error': 'No errors.'},\n",
       "   {'response': [\"question: What were PDD Holdings' 2Q23 revenue and non-GAAP net income results?\\nanswer: 2Q23 revenue was up 66.3% YoY to RMB52.3bn, and non-GAAP net income increased by 42% YoY to RMB15.3bn.\\n\\nquestion: What factors contributed to the strong revenue and net income results for PDD Holdings in 2Q23?\\nanswer: The strong results were attributed to robust GMV growth, continuous increase in monetization, and operating leverage, as well as sales and marketing spending geared at generating higher GMV from key consumer wallet-share gain categories.\\n\\nquestion: What is the analyst's recommendation for PDD Holdings after the 2Q23 results?\\nanswer: The analyst maintains a BUY recommendation for PDD Holdings based on the strong beat in results and the view that the company has relatively more proactive room to drive GMV growth in the e-commerce sector.\"],\n",
       "    'error': 'No errors.'},\n",
       "   {'response': ['question: What was the YoY growth in online marketing services and other revenue in 2Q23?\\nanswer: 50.4% YoY to RMB37.9bn.\\nquestion: What factors contributed to the strong beat in revenue in 2Q23?\\nanswer: Stronger-than-expected GMV growth, high ASP products, and stronger-than-expected expansion in monetization rate.\\nquestion: By what percentage did transaction services revenue grow in 2Q23?\\nanswer: 130.8% YoY to RMB14.3bn.\\nquestion: What are the potential reasons for the significant growth in transaction services revenue?\\nanswer: Robust development of Duoduo Grocery (DDG) business and incremental monetization generated from commission revenue.'],\n",
       "    'error': 'No errors.'},\n",
       "   {'response': [\"question: What was the Non-GAAP GPM in 2Q23 and how does it compare to 2Q22?\\nanswer: The Non-GAAP GPM in 2Q23 declined to 64.3% (2Q22: 74.7%).\\n\\nquestion: How did the Non-GAAP R&D expense ratio in 2Q23 compare to 2Q22?\\nanswer: The Non-GAAP R&D expense ratio in 2Q23 was 4.0% (2Q22: 6.2%).\\n\\nquestion: How did the Non-GAAP S&M expenses in 2Q23 compare to 2Q22?\\nanswer: Non-GAAP S&M expenses were RMB16.6bn in 2Q23, up 52.8% YoY.\\n\\nquestion: What percentage of total revenue did Non-GAAP S&M expenses account for in 2Q23 and how does it compare to 2Q22?\\nanswer: Non-GAAP S&M expenses were 31.7% of total revenue in 2Q23 (2Q22: 34.4%).\\n\\nquestion: What was the overall non-GAAP OPM in 2Q23 and how did it compare to 2Q22?\\nanswer: PDD's overall non-GAAP OPM was 27.9% in 2Q23 (2Q22: 33.5%).\\n\\nquestion: Was the overall non-GAAP OPM better or worse than the estimate?\\nanswer: The overall non-GAAP OPM was better than the estimate at 26.6%.\"],\n",
       "    'error': 'No errors.'},\n",
       "   {'response': [\"question: What is PDD's future growth strategy and outlook?\\nanswer: PDD plans to strengthen its infrastructure and supply chain capabilities within domestic and overseas markets to help merchants and brands achieve sustainable business operation on its platform, aiming to remain competitive in the long term.\"],\n",
       "    'error': 'No errors.'},\n",
       "   {'response': ['question: What is the recommendation for the stock?\\nanswer: The recommendation is to buy and maintain the stock.'],\n",
       "    'error': 'No errors.'},\n",
       "   {'response': ['question: What is the current target price for the stock?\\nanswer: The current target price for the stock is US$109.00.\\nquestion: What is the current price of the stock?\\nanswer: The current price of the stock is US$79.91.\\nquestion: What is the upside/downside percentage for the stock?\\nanswer: The upside/downside percentage for the stock is 36.4%.'],\n",
       "    'error': 'No errors.'},\n",
       "   {'response': ['Finance Holdings Limited (NASDAQ: CIFS) is a leading financial technology company in China, providing comprehensive financial services including loan facilitation, personal credit and wealth management, microloan, and insurance products.\\nquestion: What services does China Internet Finance Holdings provide?\\nanswer: China Internet Finance Holdings provides loan facilitation, personal credit and wealth management, microloan, and insurance products.\\nquestion: What is the stock ticker symbol for China Internet Finance Holdings?\\nanswer: The stock ticker symbol is CIFS.'],\n",
       "    'error': 'No errors.'},\n",
       "   {'response': ['question: Who is the author of the article that introduced the concept of information entropy for the first time?\\nanswer: Claude E. Shannon.\\nquestion: What is the contact information for Saiyi He, CFA?\\nanswer: Phone: (852) 3916 1739, Email: hesaiyi@cmbi.com.hk.'],\n",
       "    'error': 'No errors.'},\n",
       "   {'response': ['question: What is the name of the individual associated with the email franktao@cmbi.com.hk?\\nanswer: Ye TAO.'],\n",
       "    'error': 'No errors.'},\n",
       "   {'response': ['question: What is the name of the author and their contact information?\\nanswer: Wentao Lu, CFA and their email is luwentao@cmbi.com.hk.\\n\\nquestion: What significant theory was established by Claude E. Shannon in 1948?\\nanswer: Claude E. Shannon established the theory of information and introduced the concept of information entropy for the first time.'],\n",
       "    'error': 'No errors.'},\n",
       "   {'response': [\"\\n\\nquestion: What is the current stock price?\\nanswer: The current stock price is $100.\\n\\nquestion: What is the historical performance of the stock over the past year?\\nanswer: The stock has shown consistent growth over the past year, increasing by 20%.\\n\\nquestion: Are there any upcoming events or news that could impact the stock price?\\nanswer: Yes, the company is set to release its earnings report next month, which could have a significant impact on the stock price.\\n\\nquestion: What is the company's debt-to-equity ratio?\\nanswer: The company's debt-to-equity ratio is 0.5, indicating a relatively low level of debt compared to equity.\\n\\nquestion: What is the company's market share in its industry?\\nanswer: The company holds a 15% market share in its industry, making it a significant player in the market.\\n\\nquestion: What is the company's dividend yield?\\nanswer: The company's dividend yield is 3%, indicating a solid return for investors.\\n\\nquestion: How does the company's stock performance compare to its competitors?\\nanswer: The company's stock performance has outperformed its competitors over the past year.\\n\\nquestion: What are the company's main sources of revenue?\\nanswer: The company's main sources of revenue are product sales and subscription services.\\n\\nquestion: What is the company's cash flow position?\\nanswer: The company has strong positive cash flow, indicating healthy financial operations.\\n\\nquestion: What is the outlook for the company's industry?\\nanswer: The outlook for the company's industry is positive, with projected growth and increasing demand for its products and services.\"],\n",
       "    'error': 'No errors.'},\n",
       "   {'response': ['question: What is the market capitalization in US$ million?\\nanswer: 115,096.2\\n\\nquestion: What is the average 3 month turnover in US$ million?\\nanswer: 553.8\\n\\nquestion: What is the 52 week high/low in US$?\\nanswer: 104.68/44.46\\n\\nquestion: How many total issued shares are there in million?\\nanswer: 1440.3'],\n",
       "    'error': 'No errors.'},\n",
       "   {'response': ['question: What is the source of the information?\\nanswer: FactSet.'],\n",
       "    'error': 'No errors.'},\n",
       "   {'response': [\"question: What is the shareholding structure of the company?\\nanswer: The shareholding structure refers to the distribution of shares among different shareholders, including individuals, institutional investors, and insiders.\\nquestion: How does the shareholding structure impact the company's decision-making processes?\\nanswer: The shareholding structure can impact decision-making processes by giving more influence to larger shareholders or institutional investors. It can also determine the level of control and voting rights different shareholders have.\"],\n",
       "    'error': 'No errors.'},\n",
       "   {'response': ['question: What percentage of entities are affiliated with Zheng Huang?\\nanswer: 27.9%. \\nquestion: What percentage of entities are affiliated with Tencent?\\nanswer: 15.5%.'],\n",
       "    'error': 'No errors.'},\n",
       "   {'response': ['question: Where did the information come from?\\nanswer: Nasdaq.'],\n",
       "    'error': 'No errors.'},\n",
       "   {'response': [\"question: How has the company's stock performed in the past year?\\nanswer: The company's stock has shown a 20% increase in the past year.\\nquestion: What are the factors that have influenced the company's stock performance?\\nanswer: Factors such as strong sales growth, innovative product launches, and positive earnings reports have influenced the company's stock performance.\\nquestion: Is the company's stock currently trading at a high or low price compared to its historical average?\\nanswer: The company's stock is currently trading at a high price compared to its historical average.\\nquestion: What is the market sentiment towards the company's stock?\\nanswer: The market sentiment towards the company's stock is currently bullish, with many analysts recommending a buy rating. \\nquestion: How has the company's stock performance compared to its competitors?\\nanswer: The company's stock performance has outperformed its competitors in the same industry.\\nquestion: Are there any external events or industry trends that have impacted the company's stock performance?\\nanswer: The company's stock performance has been impacted by external events such as changes in government regulations and industry trends such as increased demand for renewable energy products.\"],\n",
       "    'error': 'No errors.'},\n",
       "   {'response': ['question: What are the stock returns for the 1 month, 3 month, and 6 month periods?\\nanswer: The stock returns for the 1 month, 3 month, and 6 month periods are -3.7%, -31.1%, and -4.6% respectively.'],\n",
       "    'error': 'No errors.'},\n",
       "   {'response': ['question: What is the source of the information?\\nanswer: FactSet.'],\n",
       "    'error': 'No errors.'},\n",
       "   {'response': ['question: What is the 12-month price performance of the stock?\\nanswer: The 12-month price performance of the stock has increased by 20%. \\nquestion: How does the 12-month price performance of the stock compare to its industry peers?\\nanswer: The 12-month price performance of the stock is higher than its industry peers. \\nquestion: What factors have influenced the 12-month price performance of the stock?\\nanswer: Factors such as strong earnings, positive product developments, and favorable market conditions have influenced the 12-month price performance of the stock. \\nquestion: Is the 12-month price performance of the stock consistent with its historical performance?\\nanswer: Yes, the 12-month price performance of the stock is consistent with its historical performance of steady growth. \\nquestion: How does the 12-month price performance of the stock align with analyst expectations?\\nanswer: The 12-month price performance of the stock is in line with analyst expectations, with some analysts even revising their price targets upward.'],\n",
       "    'error': 'No errors.'},\n",
       "   {'response': ['question: What is the currency symbol for the stock price mentioned?\\nanswer: US$\\nquestion: What is the stock symbol for the company mentioned?\\nanswer: PDD\\nquestion: What is the value of the stock on Nov-22?\\nanswer: 70'],\n",
       "    'error': 'No errors.'},\n",
       "   {'response': ['question: What is the source of the information?\\nanswer: FactSet.'],\n",
       "    'error': 'No errors.'}],\n",
       "  'root': <uniflow.node.Node at 0x21c3773bb50>}]"
      ]
     },
     "execution_count": 20,
     "metadata": {},
     "output_type": "execute_result"
    }
   ],
   "source": [
    "# PDD_H3_AP\n",
    "output"
   ]
  },
  {
   "cell_type": "code",
   "execution_count": 14,
   "id": "cbd26ac5",
   "metadata": {},
   "outputs": [
    {
     "data": {
      "text/plain": [
       "[{'output': [{'response': ['question: What is the name of the research group?\\nanswer: DBS Group Research.'],\n",
       "    'error': 'No errors.'},\n",
       "   {'response': ['question: What is the focus of the research?\\nanswer: The focus of the research is on United States equity.'],\n",
       "    'error': 'No errors.'},\n",
       "   {'response': ['question: What significant event happened on 22 Mar 2024?\\nanswer: There is not enough context to determine the significance of this date for stock analysis.'],\n",
       "    'error': 'No errors.'},\n",
       "   {'response': ['question: What is the name of the company associated with \"## PDD Holdings\"?\\nanswer: The name of the company associated with \"## PDD Holdings\" is Pinduoduo Inc.'],\n",
       "    'error': 'No errors.'},\n",
       "   {'response': ['question: What is the title of the article published by Claude E. Shannon in 1948 that established the theory of information?\\nanswer: A Mathematical Theory of Communication.\\nquestion: What concept did Claude E. Shannon introduce for the first time in his article?\\nanswer: Information entropy.'],\n",
       "    'error': 'No errors.'},\n",
       "   {'response': [\"question: What is the name of the company?\\nanswer: Company name is not provided in the context.\\nquestion: Can you provide a brief overview of the company's history and operations?\\nanswer: Company history and operations are not provided in the context.\\nquestion: Is there any information about the company's financial performance or market position?\\nanswer: Financial performance and market position are not provided in the context.\"],\n",
       "    'error': 'No errors.'},\n",
       "   {'response': ['question: What is the focus of PDD Holdings Inc.?\\nanswer: Bringing businesses and people into the digital economy to benefit local communities and small businesses from improved productivity and new opportunities.\\nquestion: What capabilities has the company built to support its underlying businesses?\\nanswer: PDD Holdings Inc. has built a network of sourcing, logistics, and fulfillment capabilities.'],\n",
       "    'error': 'No errors.'},\n",
       "   {'response': ['question: What is the investment overview?\\nanswer: The investment overview is a snapshot of the current state of the investment, including key financial metrics, industry analysis, and potential opportunities and risks.'],\n",
       "    'error': 'No errors.'},\n",
       "   {'response': ['question: What is the main focus of PDD\\'s e-commerce platform?\\nanswer: PDD primarily focuses on lower tier cities in China and offers more affordable \"low-price\" products, with a competitive edge on agricultural and fresh products.\\n\\nquestion: How does PDD drive revenue besides selling products?\\nanswer: PDD also drives revenue via advertising.\\n\\nquestion: What is the size of PDD\\'s user base?\\nanswer: PDD has a 900m+ user base.\\n\\nquestion: What trend does PDD benefit from?\\nanswer: PDD benefits from the consumption downgrade trend.'],\n",
       "    'error': 'No errors.'},\n",
       "   {'response': [\"question: What is the key growth driver for PDD?\\nanswer: E-grocery is the key growth driver for PDD.\\nquestion: What is PDD's expected revenue growth rate in the forecast period?\\nanswer: PDD's revenue is forecasted to grow by 30% per annum in FY24-FY26F.\"],\n",
       "    'error': 'No errors.'},\n",
       "   {'response': [\"question: What is the name of PDD's overseas marketplace platform?\\nanswer: Temu.\\nquestion: In which region did PDD debut its overseas marketplace platform in 2022?\\nanswer: North America.\\nquestion: How many regions has Temu expanded into, according to management?\\nanswer: More than 50 regions.\\nquestion: What percentage of PDD's total GMV did Temu's GMV account for in FY23?\\nanswer: A low single-digit percentage.\\nquestion: What is the projected three-year CAGR for Temu's GMV growth?\\nanswer: 70%.\\nquestion: What percentage contribution to the company's total GMV is expected for Temu by FY26?\\nanswer: 10%.\"],\n",
       "    'error': 'No errors.'},\n",
       "   {'response': ['question: What is the recommended rating and target price for PDD stock?\\nanswer: The recommended rating is BUY with a target price of US$241. \\nquestion: What is the basis for the target price and rating for PDD stock?\\nanswer: The target price is based on a 25x FY24 adjusted PE and a projected 24% earnings CAGR in FY23-FY26F.'],\n",
       "    'error': 'No errors.'},\n",
       "   {'response': [\"question: What was introduced for the first time in Claude E. Shannon's article?\\nanswer: The concept of information entropy.\"],\n",
       "    'error': 'No errors.'},\n",
       "   {'response': ['question: What are some factors that may affect the stock in the near future?\\nanswer: Changes in government regulations, intensifying market competition in e-commerce and CGB, and failure to retain existing users.'],\n",
       "    'error': 'No errors.'},\n",
       "   {'response': ['question: Who are the analysts involved in the context?\\nanswer: Tsz Wang Tam and Lilian LV.'],\n",
       "    'error': 'No errors.'},\n",
       "   {'response': ['question: What key financial data is available for analysis?\\nanswer: The key financial data available for analysis includes revenue, net income, earnings per share, cash flow, and balance sheet information such as total assets, liabilities, and equity.'],\n",
       "    'error': 'No errors.'},\n",
       "   {'response': ['question: What is the Bloomberg Ticker for the stock?\\nanswer: PDD US.\\n\\nquestion: What sector does the stock belong to?\\nanswer: Consumer Discretionary.\\n\\nquestion: What is the current share price in USD?\\nanswer: 122.3.\\n\\nquestion: What is the 12-month target price in USD?\\nanswer: 241.\\n\\nquestion: What is the market cap in USD billion?\\nanswer: 162.5.\\n\\nquestion: What is the volume of shares traded in millions?\\nanswer: 19.3.\\n\\nquestion: What is the free float percentage?\\nanswer: 100.0.\\n\\nquestion: What is the dividend yield percentage?\\nanswer: 0.0.\\n\\nquestion: What is the net debt to equity percentage?\\nanswer: CASH.\\n\\nquestion: What is the forward price-to-earnings ratio (Fwd. P/E)?\\nanswer: 14.9.\\n\\nquestion: What is the price-to-book ratio (P/Book)?\\nanswer: 5.9.\\n\\nquestion: What is the return on equity (ROE) percentage?\\nanswer: 39.4.'],\n",
       "    'error': 'No errors.'},\n",
       "   {'response': ['question: What is the closing price of the stock as of 21 Mar 2024?\\nanswer: The closing price of the stock as of 21 Mar 2024 is not provided in the context.'],\n",
       "    'error': 'No errors.'},\n",
       "   {'response': ['question: What is the performance comparison between the indexed share price and the composite index?\\nanswer: The indexed share price and composite index performance are currently being compared.'],\n",
       "    'error': 'No errors.'},\n",
       "   {'response': ['question: What is the stock symbol for PDD Holdings on NASDAQ?\\nanswer: The stock symbol for PDD Holdings on NASDAQ is PDD.\\nquestion: How has the stock price of PDD Holdings changed over the past 5 years?\\nanswer: The stock price of PDD Holdings has decreased from 568 to 68 over the past 5 years.'],\n",
       "    'error': 'No errors.'},\n",
       "   {'response': ['question: Where is the source of the financial information?\\nanswer: Bloomberg Finance L.P.'],\n",
       "    'error': 'No errors.'},\n",
       "   {'response': ['question: Who is the intended audience of the information contained in the document?\\nanswer: The person to whom it has been delivered.\\nquestion: What action should be taken before disseminating or distributing the document to third parties?\\nanswer: Prior written consent from DBS should be obtained.\\nquestion: What liability does DBS accept with respect to the use of the document or its contents?\\nanswer: DBS accepts no liability whatsoever.'],\n",
       "    'error': 'No errors.'},\n",
       "   {'response': [',\\nquestion: Which company is referred to as \"DBS\"?\\nanswer: DBS refers to DBS Group, a multinational banking and financial services corporation headquartered in Marina Bay, Singapore.\\n\\nquestion: Where is DBS Group headquartered?\\nanswer: DBS Group is headquartered in Marina Bay, Singapore.\\n\\nquestion: What industry does DBS Group operate in?\\nanswer: DBS Group operates in the banking and financial services industry.\\n\\nquestion: What is the current stock price of DBS Group?\\nanswer: The current stock price of DBS Group is $25.67.\\n\\nquestion: What was the total revenue of DBS Group in the last fiscal year?\\nanswer: The total revenue of DBS Group in the last fiscal year was $14.5 billion.\\n\\nquestion: What is the debt-to-equity ratio of DBS Group?\\nanswer: The debt-to-equity ratio of DBS Group is 0.98.\\n\\nquestion: What are the key competitors of DBS Group in the industry?\\nanswer: The key competitors of DBS Group in the banking and financial services industry are OCBC and UOB.\\n\\nquestion: What are the major regulatory challenges or changes that could impact DBS Group\\'s business?\\nanswer: The major regulatory challenges or changes that could impact DBS Group\\'s business include changes in interest rates, compliance with anti-money laundering regulations, and cybersecurity regulations.\\n\\nquestion: What is the forecasted growth rate for DBS Group in the next five years?\\nanswer: The forecasted growth rate for DBS Group in the next five years is 8% annually.\\n\\nquestion: How does DBS Group\\'s financial performance compare to industry benchmarks?\\nanswer: DBS Group\\'s financial performance is above industry benchmarks, with higher profit margins and return on equity.'],\n",
       "    'error': 'No errors.'}],\n",
       "  'root': <uniflow.node.Node at 0x21c3784dab0>}]"
      ]
     },
     "execution_count": 14,
     "metadata": {},
     "output_type": "execute_result"
    }
   ],
   "source": [
    "# PDD_US\n",
    "output"
   ]
  },
  {
   "cell_type": "markdown",
   "id": "a2942fd0",
   "metadata": {},
   "source": [
    "## End of the notebook\n",
    "\n",
    "Check more Uniflow use cases in the [example folder](https://github.com/CambioML/uniflow/tree/main/example/model#examples)!\n",
    "\n",
    "<a href=\"https://www.cambioml.com/\" title=\"Title\">\n",
    "    <img src=\"../image/cambioml_logo_large.png\" style=\"height: 100px; display: block; margin-left: auto; margin-right: auto;\"/>\n",
    "</a>"
   ]
  }
 ],
 "metadata": {
  "kernelspec": {
   "display_name": "Python 3 (ipykernel)",
   "language": "python",
   "name": "python3"
  },
  "language_info": {
   "codemirror_mode": {
    "name": "ipython",
    "version": 3
   },
   "file_extension": ".py",
   "mimetype": "text/x-python",
   "name": "python",
   "nbconvert_exporter": "python",
   "pygments_lexer": "ipython3",
   "version": "3.10.13"
  }
 },
 "nbformat": 4,
 "nbformat_minor": 5
}

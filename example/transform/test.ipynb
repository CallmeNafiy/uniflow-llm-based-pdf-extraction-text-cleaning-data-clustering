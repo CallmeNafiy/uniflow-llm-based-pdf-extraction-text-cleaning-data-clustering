{
 "cells": [
  {
   "cell_type": "code",
   "execution_count": 1,
   "metadata": {},
   "outputs": [],
   "source": [
    "%reload_ext autoreload\n",
    "%autoreload 2\n",
    "\n",
    "import sys\n",
    "\n",
    "sys.path.append(\".\")\n",
    "sys.path.append(\"..\")\n",
    "sys.path.append(\"../..\")"
   ]
  },
  {
   "cell_type": "code",
   "execution_count": 2,
   "metadata": {},
   "outputs": [
    {
     "name": "stderr",
     "output_type": "stream",
     "text": [
      "/opt/conda/envs/uniflow/lib/python3.10/site-packages/tqdm/auto.py:21: TqdmWarning: IProgress not found. Please update jupyter and ipywidgets. See https://ipywidgets.readthedocs.io/en/stable/user_install.html\n",
      "  from .autonotebook import tqdm as notebook_tqdm\n"
     ]
    },
    {
     "data": {
      "text/plain": [
       "True"
      ]
     },
     "execution_count": 2,
     "metadata": {},
     "output_type": "execute_result"
    }
   ],
   "source": [
    "import os\n",
    "import pandas as pd\n",
    "from dotenv import load_dotenv\n",
    "from uniflow.flow.client import TransformClient\n",
    "from uniflow.flow.config import TransformAzureOpenAIConfig\n",
    "from uniflow.op.model.model_config import AzureOpenAIModelConfig\n",
    "from langchain.document_loaders import UnstructuredHTMLLoader\n",
    "from uniflow.op.prompt import Context, PromptTemplate\n",
    "\n",
    "load_dotenv()"
   ]
  },
  {
   "cell_type": "code",
   "execution_count": 3,
   "metadata": {},
   "outputs": [],
   "source": [
    "html_file = \"22.11_information-theory.html\"\n",
    "\n",
    "dir_cur = os.getcwd()\n",
    "input_file = os.path.join(f\"{dir_cur}/data/raw_input/\", html_file)\n",
    "\n",
    "loader = UnstructuredHTMLLoader(input_file)\n",
    "pages = loader.load_and_split()"
   ]
  },
  {
   "cell_type": "code",
   "execution_count": 4,
   "metadata": {},
   "outputs": [],
   "source": [
    "guided_prompt = PromptTemplate(\n",
    "        instruction=\"Generate one question and its corresponding answer based on context. Following the format of the examples below to include the same context, question, and answer in the response.\",\n",
    "        few_shot_prompt=[\n",
    "            Context(\n",
    "                context=\"In 1948, Claude E. Shannon published A Mathematical Theory of\\nCommunication (Shannon, 1948) establishing the theory of\\ninformation. In his article, Shannon introduced the concept of\\ninformation entropy for the first time. We will begin our journey here.\",\n",
    "                question=\"Who published A Mathematical Theory of Communication in 1948?\",\n",
    "                answer=\"Claude E. Shannon.\",\n",
    "            )\n",
    "        ]\n",
    ")\n",
    "\n",
    "data = [ Context(context=p) for p in pages[2].page_content.split(\"\\n\\n\") if len(p) > 200]"
   ]
  },
  {
   "cell_type": "code",
   "execution_count": 5,
   "metadata": {},
   "outputs": [
    {
     "data": {
      "text/plain": [
       "[Context(context='Before we get started, let’s outline the relationship between machine\\nlearning and information theory. Machine learning aims to extract\\ninteresting signals from data and make critical predictions. On the\\nother hand, information theory studies encoding, decoding, transmitting,\\nand manipulating information. As a result, information theory provides\\nfundamental language for discussing the information processing in\\nmachine learned systems. For example, many machine learning applications\\nuse the cross-entropy loss as described in Section 4.1. This\\nloss can be directly derived from information theoretic considerations.'),\n",
       " Context(context='Let’s start with the “soul” of information theory: information.\\nInformation can be encoded in anything with a particular sequence of\\none or more encoding formats. Suppose that we task ourselves with trying\\nto define a notion of information. What could be our starting point?'),\n",
       " Context(context='Consider the following thought experiment. We have a friend with a deck\\nof cards. They will shuffle the deck, flip over some cards, and tell us\\nstatements about the cards. We will try to assess the information\\ncontent of each statement.'),\n",
       " Context(context='Next, they flip over a card and say, “I see a heart.” This provides us\\nsome information, but in reality there are only \\\\(4\\\\) different\\nsuits that were possible, each equally likely, so we are not surprised\\nby this outcome. We hope that whatever the measure of information, this\\nevent should have low information content.'),\n",
       " Context(context='Next, they flip over a card and say, “This is the \\\\(3\\\\) of spades.”\\nThis is more information. Indeed there were \\\\(52\\\\) equally likely\\npossible outcomes, and our friend told us which one it was. This should\\nbe a medium amount of information.'),\n",
       " Context(context='Let’s take this to the logical extreme. Suppose that finally they flip\\nover every card from the deck and read off the entire sequence of the\\nshuffled deck. There are \\\\(52!\\\\) different orders to the deck, again\\nall equally likely, so we need a lot of information to know which one it\\nis.'),\n",
       " Context(context='Any notion of information we develop must conform to this intuition.\\nIndeed, in the next sections we will learn how to compute that these\\nevents have \\\\(0\\\\textrm{ bits}\\\\), \\\\(2\\\\textrm{ bits}\\\\),\\n\\\\(~5.7\\\\textrm{ bits}\\\\), and \\\\(~225.6\\\\textrm{ bits}\\\\) of\\ninformation respectively.'),\n",
       " Context(context='If we read through these thought experiments, we see a natural idea. As\\na starting point, rather than caring about the knowledge, we may build\\noff the idea that information represents the degree of surprise or the\\nabstract possibility of the event. For example, if we want to describe\\nan unusual event, we need a lot information. For a common event, we may\\nnot need much information.'),\n",
       " Context(context='In 1948, Claude E. Shannon published A Mathematical Theory of\\nCommunication (Shannon, 1948) establishing the theory of\\ninformation. In his article, Shannon introduced the concept of\\ninformation entropy for the first time. We will begin our journey here.')]"
      ]
     },
     "execution_count": 5,
     "metadata": {},
     "output_type": "execute_result"
    }
   ],
   "source": [
    "# data = data[1:3]\n",
    "data"
   ]
  },
  {
   "cell_type": "code",
   "execution_count": 6,
   "metadata": {},
   "outputs": [],
   "source": [
    "config = TransformAzureOpenAIConfig(\n",
    "    prompt_template=guided_prompt,\n",
    "    model_config=AzureOpenAIModelConfig(response_format={\"type\": \"json_object\"}),\n",
    ")"
   ]
  },
  {
   "cell_type": "code",
   "execution_count": 7,
   "metadata": {},
   "outputs": [],
   "source": [
    "client = TransformClient(config)"
   ]
  },
  {
   "cell_type": "code",
   "execution_count": 8,
   "metadata": {},
   "outputs": [
    {
     "name": "stdout",
     "output_type": "stream",
     "text": [
      "Making API call with data: {\"instruction\": \"Generate one question and its corresponding answer based on context. Following the \n"
     ]
    },
    {
     "name": "stderr",
     "output_type": "stream",
     "text": [
      "  0%|          | 0/9 [00:00<?, ?it/s]"
     ]
    },
    {
     "name": "stdout",
     "output_type": "stream",
     "text": [
      "Received response: {'error': {'code': '429', 'message': 'Requests to the ChatCompletions_Create Operation under Azure OpenAI API version 2023-05-15 have exceeded token rate limit of your current OpenAI S0 pricing tier. Please retry after 6 seconds. Please go here: https://aka.ms/oai/quotaincrease if you would like to further increase the default rate limit.'}}\n"
     ]
    },
    {
     "name": "stderr",
     "output_type": "stream",
     "text": [
      " 11%|█         | 1/9 [01:00<08:03, 60.41s/it]"
     ]
    },
    {
     "name": "stdout",
     "output_type": "stream",
     "text": [
      "Making API call with data: {\"instruction\": \"Generate one question and its corresponding answer based on context. Following the \n",
      "Received response: {'id': 'chatcmpl-8wPAMttDh6fulWl5Abl5sLtrj9xKI', 'object': 'chat.completion', 'created': 1708930454, 'model': 'gpt-4', 'choices': [{'finish_reason': 'stop', 'index': 0, 'message': {'role': 'assistant', 'content': '{\\n  \"context\": \"Let’s start with the “soul” of information theory: information.\\\\nInformation can be encoded in anything with a particular sequence of\\\\none or more encoding formats. Suppose that we task ourselves with trying\\\\nto define a notion of information. What could be our starting point?\",\\n  \"question\": \"What is considered the \\'soul\\' of information theory?\",\\n  \"answer\": \"Information.\"\\n}'}}], 'usage': {'prompt_tokens': 213, 'completion_tokens': 88, 'total_tokens': 301}, 'system_fingerprint': 'fp_8abb16fa4e'}\n"
     ]
    },
    {
     "name": "stderr",
     "output_type": "stream",
     "text": [
      " 22%|██▏       | 2/9 [02:04<07:19, 62.72s/it]"
     ]
    },
    {
     "name": "stdout",
     "output_type": "stream",
     "text": [
      "Making API call with data: {\"instruction\": \"Generate one question and its corresponding answer based on context. Following the \n",
      "Received response: {'id': 'chatcmpl-8wPBOZ8G2KYzFhvr7BxNAmB7THeuG', 'object': 'chat.completion', 'created': 1708930518, 'model': 'gpt-4', 'choices': [{'finish_reason': 'stop', 'index': 0, 'message': {'role': 'assistant', 'content': '{\\n  \"context\": \"Consider the following thought experiment. We have a friend with a deck\\\\nof cards. They will shuffle the deck, flip over some cards, and tell us\\\\nstatements about the cards. We will try to assess the information\\\\ncontent of each statement.\",\\n  \"question\": \"What is the purpose of the thought experiment with a deck of cards?\",\\n  \"answer\": \"The purpose is to assess the information content of each statement made about the cards.\"\\n}'}}], 'usage': {'prompt_tokens': 199, 'completion_tokens': 97, 'total_tokens': 296}, 'system_fingerprint': 'fp_8abb16fa4e'}\n"
     ]
    },
    {
     "name": "stderr",
     "output_type": "stream",
     "text": [
      " 33%|███▎      | 3/9 [03:07<06:17, 62.95s/it]"
     ]
    },
    {
     "name": "stdout",
     "output_type": "stream",
     "text": [
      "Making API call with data: {\"instruction\": \"Generate one question and its corresponding answer based on context. Following the \n",
      "Received response: {'id': 'chatcmpl-8wPCPEZqpLCChwdJ72hmQw1DBlXmO', 'object': 'chat.completion', 'created': 1708930581, 'model': 'gpt-4', 'choices': [{'finish_reason': 'stop', 'index': 0, 'message': {'role': 'assistant', 'content': '{\\n  \"context\": \"Next, they flip over a card and say, \\\\\"I see a heart.\\\\\" This provides us some information, but in reality there are only 4 different suits that were possible, each equally likely, so we are not surprised by this outcome. We hope that whatever the measure of information, this event should have low information content.\",\\n  \"question\": \"How many different suits are possible in the context provided?\",\\n  \"answer\": \"4.\"\\n}'}}], 'usage': {'prompt_tokens': 230, 'completion_tokens': 96, 'total_tokens': 326}, 'system_fingerprint': 'fp_8abb16fa4e'}\n"
     ]
    },
    {
     "name": "stderr",
     "output_type": "stream",
     "text": [
      " 44%|████▍     | 4/9 [04:14<05:21, 64.34s/it]"
     ]
    },
    {
     "name": "stdout",
     "output_type": "stream",
     "text": [
      "Making API call with data: {\"instruction\": \"Generate one question and its corresponding answer based on context. Following the \n",
      "Received response: {'id': 'chatcmpl-8wPDUNI236pf57EYp2iHJ1xyVzHUa', 'object': 'chat.completion', 'created': 1708930648, 'model': 'gpt-4', 'choices': [{'finish_reason': 'stop', 'index': 0, 'message': {'role': 'assistant', 'content': '{\\n  \"context\": \"Next, they flip over a card and say, \\\\\"This is the 3 of spades.\\\\\" This is more information. Indeed there were 52 equally likely possible outcomes, and our friend told us which one it was. This should be a medium amount of information.\",\\n  \"question\": \"How many equally likely possible outcomes were there before the card was revealed?\",\\n  \"answer\": \"52.\"\\n}'}}], 'usage': {'prompt_tokens': 218, 'completion_tokens': 87, 'total_tokens': 305}, 'system_fingerprint': 'fp_8abb16fa4e'}\n"
     ]
    },
    {
     "name": "stderr",
     "output_type": "stream",
     "text": [
      " 56%|█████▌    | 5/9 [05:20<04:19, 64.87s/it]"
     ]
    },
    {
     "name": "stdout",
     "output_type": "stream",
     "text": [
      "Making API call with data: {\"instruction\": \"Generate one question and its corresponding answer based on context. Following the \n",
      "Received response: {'id': 'chatcmpl-8wPEYy3Yyjq1xHFiQnlVybUzmERqU', 'object': 'chat.completion', 'created': 1708930714, 'model': 'gpt-4', 'choices': [{'finish_reason': 'stop', 'index': 0, 'message': {'role': 'assistant', 'content': '{\\n  \"context\": \"Let’s take this to the logical extreme. Suppose that finally they flip over every card from the deck and read off the entire sequence of the shuffled deck. There are \\\\\\\\(52!\\\\\\\\) different orders to the deck, again all equally likely, so we need a lot of information to know which one it is.\",\\n  \"question\": \"How many different orders are there to a shuffled deck of cards?\",\\n  \"answer\": \"\\\\\\\\(52!\\\\\\\\) (52 factorial).\"\\n}'}}], 'usage': {'prompt_tokens': 221, 'completion_tokens': 104, 'total_tokens': 325}, 'system_fingerprint': 'fp_8abb16fa4e'}\n"
     ]
    },
    {
     "name": "stderr",
     "output_type": "stream",
     "text": [
      " 67%|██████▋   | 6/9 [06:24<03:14, 64.75s/it]"
     ]
    },
    {
     "name": "stdout",
     "output_type": "stream",
     "text": [
      "Making API call with data: {\"instruction\": \"Generate one question and its corresponding answer based on context. Following the \n",
      "Received response: {'id': 'chatcmpl-8wPFawHD7mEcVm2Jj6cnAz1wYncbq', 'object': 'chat.completion', 'created': 1708930778, 'model': 'gpt-4', 'choices': [{'finish_reason': 'stop', 'index': 0, 'message': {'role': 'assistant', 'content': '{\\n  \"context\": \"Any notion of information we develop must conform to this intuition.\\\\nIndeed, in the next sections we will learn how to compute that these\\\\nevents have \\\\\\\\(0\\\\\\\\textrm{ bits}\\\\\\\\), \\\\\\\\(2\\\\\\\\textrm{ bits}\\\\\\\\),\\\\n\\\\\\\\(~5.7\\\\\\\\textrm{ bits}\\\\\\\\), and \\\\\\\\(~225.6\\\\\\\\textrm{ bits}\\\\\\\\) of\\\\ninformation respectively.\",\\n  \"question\": \"How many bits of information does one of the events have according to the given context?\",\\n  \"answer\": \"One of the events has 2 bits of information.\"\\n}'}}], 'usage': {'prompt_tokens': 236, 'completion_tokens': 132, 'total_tokens': 368}, 'system_fingerprint': 'fp_8abb16fa4e'}\n"
     ]
    },
    {
     "name": "stderr",
     "output_type": "stream",
     "text": [
      " 78%|███████▊  | 7/9 [07:30<02:09, 64.92s/it]"
     ]
    },
    {
     "name": "stdout",
     "output_type": "stream",
     "text": [
      "Making API call with data: {\"instruction\": \"Generate one question and its corresponding answer based on context. Following the \n",
      "Received response: {'id': 'chatcmpl-8wPGdBVd90wA047j4gXCGflW54LZX', 'object': 'chat.completion', 'created': 1708930843, 'model': 'gpt-4', 'choices': [{'finish_reason': 'stop', 'index': 0, 'message': {'role': 'assistant', 'content': '{\\n  \"context\": \"If we read through these thought experiments, we see a natural idea. As a starting point, rather than caring about the knowledge, we may build off the idea that information represents the degree of surprise or the abstract possibility of the event. For example, if we want to describe an unusual event, we need a lot information. For a common event, we may not need much information.\",\\n  \"question\": \"What does information represent according to the thought experiments?\",\\n  \"answer\": \"Information represents the degree of surprise or the abstract possibility of the event.\"\\n}'}}], 'usage': {'prompt_tokens': 231, 'completion_tokens': 118, 'total_tokens': 349}, 'system_fingerprint': 'fp_8abb16fa4e'}\n"
     ]
    },
    {
     "name": "stderr",
     "output_type": "stream",
     "text": [
      " 89%|████████▉ | 8/9 [08:34<01:04, 64.79s/it]"
     ]
    },
    {
     "name": "stdout",
     "output_type": "stream",
     "text": [
      "Making API call with data: {\"instruction\": \"Generate one question and its corresponding answer based on context. Following the \n",
      "Received response: {'id': 'chatcmpl-8wPHgyuCWetpsUa0gpEwlQuptbCav', 'object': 'chat.completion', 'created': 1708930908, 'model': 'gpt-4', 'choices': [{'finish_reason': 'stop', 'index': 0, 'message': {'role': 'assistant', 'content': '{\\n  \"context\": \"In 1948, Claude E. Shannon published A Mathematical Theory of Communication (Shannon, 1948) establishing the theory of information. In his article, Shannon introduced the concept of information entropy for the first time. We will begin our journey here.\",\\n  \"question\": \"What concept did Claude E. Shannon introduce for the first time in his 1948 article?\",\\n  \"answer\": \"Information entropy.\"\\n}'}}], 'usage': {'prompt_tokens': 204, 'completion_tokens': 91, 'total_tokens': 295}, 'system_fingerprint': 'fp_8abb16fa4e'}\n"
     ]
    },
    {
     "name": "stderr",
     "output_type": "stream",
     "text": [
      "100%|██████████| 9/9 [09:42<00:00, 64.74s/it]\n"
     ]
    }
   ],
   "source": [
    "output = client.run(data)"
   ]
  },
  {
   "cell_type": "code",
   "execution_count": 9,
   "metadata": {},
   "outputs": [
    {
     "data": {
      "text/plain": [
       "[{'output': [{'response': [], 'error': 'No errors.'}],\n",
       "  'root': <uniflow.node.Node at 0x7f850afe5690>},\n",
       " {'output': [{'response': [{'context': 'Let’s start with the “soul” of information theory: information.\\nInformation can be encoded in anything with a particular sequence of\\none or more encoding formats. Suppose that we task ourselves with trying\\nto define a notion of information. What could be our starting point?',\n",
       "      'question': \"What is considered the 'soul' of information theory?\",\n",
       "      'answer': 'Information.'}],\n",
       "    'error': 'No errors.'}],\n",
       "  'root': <uniflow.node.Node at 0x7f850afe5360>},\n",
       " {'output': [{'response': [{'context': 'Consider the following thought experiment. We have a friend with a deck\\nof cards. They will shuffle the deck, flip over some cards, and tell us\\nstatements about the cards. We will try to assess the information\\ncontent of each statement.',\n",
       "      'question': 'What is the purpose of the thought experiment with a deck of cards?',\n",
       "      'answer': 'The purpose is to assess the information content of each statement made about the cards.'}],\n",
       "    'error': 'No errors.'}],\n",
       "  'root': <uniflow.node.Node at 0x7f850afe6080>},\n",
       " {'output': [{'response': [{'context': 'Next, they flip over a card and say, \"I see a heart.\" This provides us some information, but in reality there are only 4 different suits that were possible, each equally likely, so we are not surprised by this outcome. We hope that whatever the measure of information, this event should have low information content.',\n",
       "      'question': 'How many different suits are possible in the context provided?',\n",
       "      'answer': '4.'}],\n",
       "    'error': 'No errors.'}],\n",
       "  'root': <uniflow.node.Node at 0x7f850afe6140>},\n",
       " {'output': [{'response': [{'context': 'Next, they flip over a card and say, \"This is the 3 of spades.\" This is more information. Indeed there were 52 equally likely possible outcomes, and our friend told us which one it was. This should be a medium amount of information.',\n",
       "      'question': 'How many equally likely possible outcomes were there before the card was revealed?',\n",
       "      'answer': '52.'}],\n",
       "    'error': 'No errors.'}],\n",
       "  'root': <uniflow.node.Node at 0x7f850afe6200>},\n",
       " {'output': [{'response': [{'context': 'Let’s take this to the logical extreme. Suppose that finally they flip over every card from the deck and read off the entire sequence of the shuffled deck. There are \\\\(52!\\\\) different orders to the deck, again all equally likely, so we need a lot of information to know which one it is.',\n",
       "      'question': 'How many different orders are there to a shuffled deck of cards?',\n",
       "      'answer': '\\\\(52!\\\\) (52 factorial).'}],\n",
       "    'error': 'No errors.'}],\n",
       "  'root': <uniflow.node.Node at 0x7f850afe62c0>},\n",
       " {'output': [{'response': [{'context': 'Any notion of information we develop must conform to this intuition.\\nIndeed, in the next sections we will learn how to compute that these\\nevents have \\\\(0\\\\textrm{ bits}\\\\), \\\\(2\\\\textrm{ bits}\\\\),\\n\\\\(~5.7\\\\textrm{ bits}\\\\), and \\\\(~225.6\\\\textrm{ bits}\\\\) of\\ninformation respectively.',\n",
       "      'question': 'How many bits of information does one of the events have according to the given context?',\n",
       "      'answer': 'One of the events has 2 bits of information.'}],\n",
       "    'error': 'No errors.'}],\n",
       "  'root': <uniflow.node.Node at 0x7f850afe6380>},\n",
       " {'output': [{'response': [{'context': 'If we read through these thought experiments, we see a natural idea. As a starting point, rather than caring about the knowledge, we may build off the idea that information represents the degree of surprise or the abstract possibility of the event. For example, if we want to describe an unusual event, we need a lot information. For a common event, we may not need much information.',\n",
       "      'question': 'What does information represent according to the thought experiments?',\n",
       "      'answer': 'Information represents the degree of surprise or the abstract possibility of the event.'}],\n",
       "    'error': 'No errors.'}],\n",
       "  'root': <uniflow.node.Node at 0x7f850afe6440>},\n",
       " {'output': [{'response': [{'context': 'In 1948, Claude E. Shannon published A Mathematical Theory of Communication (Shannon, 1948) establishing the theory of information. In his article, Shannon introduced the concept of information entropy for the first time. We will begin our journey here.',\n",
       "      'question': 'What concept did Claude E. Shannon introduce for the first time in his 1948 article?',\n",
       "      'answer': 'Information entropy.'}],\n",
       "    'error': 'No errors.'}],\n",
       "  'root': <uniflow.node.Node at 0x7f850afe6500>}]"
      ]
     },
     "execution_count": 9,
     "metadata": {},
     "output_type": "execute_result"
    }
   ],
   "source": [
    "output"
   ]
  },
  {
   "cell_type": "code",
   "execution_count": 10,
   "metadata": {},
   "outputs": [
    {
     "data": {
      "text/html": [
       "<style type=\"text/css\">\n",
       "#T_f0245 th {\n",
       "  text-align: left;\n",
       "}\n",
       "#T_f0245_row0_col0, #T_f0245_row0_col1, #T_f0245_row0_col2, #T_f0245_row1_col0, #T_f0245_row1_col1, #T_f0245_row1_col2, #T_f0245_row2_col0, #T_f0245_row2_col1, #T_f0245_row2_col2, #T_f0245_row3_col0, #T_f0245_row3_col1, #T_f0245_row3_col2, #T_f0245_row4_col0, #T_f0245_row4_col1, #T_f0245_row4_col2, #T_f0245_row5_col0, #T_f0245_row5_col1, #T_f0245_row5_col2, #T_f0245_row6_col0, #T_f0245_row6_col1, #T_f0245_row6_col2, #T_f0245_row7_col0, #T_f0245_row7_col1, #T_f0245_row7_col2 {\n",
       "  text-align: left;\n",
       "}\n",
       "</style>\n",
       "<table id=\"T_f0245\">\n",
       "  <thead>\n",
       "    <tr>\n",
       "      <th class=\"blank level0\" >&nbsp;</th>\n",
       "      <th id=\"T_f0245_level0_col0\" class=\"col_heading level0 col0\" >context</th>\n",
       "      <th id=\"T_f0245_level0_col1\" class=\"col_heading level0 col1\" >question</th>\n",
       "      <th id=\"T_f0245_level0_col2\" class=\"col_heading level0 col2\" >answer</th>\n",
       "    </tr>\n",
       "  </thead>\n",
       "  <tbody>\n",
       "    <tr>\n",
       "      <th id=\"T_f0245_level0_row0\" class=\"row_heading level0 row0\" >0</th>\n",
       "      <td id=\"T_f0245_row0_col0\" class=\"data row0 col0\" >Let’s start with the “soul” of information theory: information.\n",
       "Information can be encoded in anything with a particular sequence of\n",
       "one or more encoding formats. Suppose that we task ourselves with trying\n",
       "to define a notion of information. What could be our starting point?</td>\n",
       "      <td id=\"T_f0245_row0_col1\" class=\"data row0 col1\" >What is considered the 'soul' of information theory?</td>\n",
       "      <td id=\"T_f0245_row0_col2\" class=\"data row0 col2\" >Information.</td>\n",
       "    </tr>\n",
       "    <tr>\n",
       "      <th id=\"T_f0245_level0_row1\" class=\"row_heading level0 row1\" >1</th>\n",
       "      <td id=\"T_f0245_row1_col0\" class=\"data row1 col0\" >Consider the following thought experiment. We have a friend with a deck\n",
       "of cards. They will shuffle the deck, flip over some cards, and tell us\n",
       "statements about the cards. We will try to assess the information\n",
       "content of each statement.</td>\n",
       "      <td id=\"T_f0245_row1_col1\" class=\"data row1 col1\" >What is the purpose of the thought experiment with a deck of cards?</td>\n",
       "      <td id=\"T_f0245_row1_col2\" class=\"data row1 col2\" >The purpose is to assess the information content of each statement made about the cards.</td>\n",
       "    </tr>\n",
       "    <tr>\n",
       "      <th id=\"T_f0245_level0_row2\" class=\"row_heading level0 row2\" >2</th>\n",
       "      <td id=\"T_f0245_row2_col0\" class=\"data row2 col0\" >Next, they flip over a card and say, \"I see a heart.\" This provides us some information, but in reality there are only 4 different suits that were possible, each equally likely, so we are not surprised by this outcome. We hope that whatever the measure of information, this event should have low information content.</td>\n",
       "      <td id=\"T_f0245_row2_col1\" class=\"data row2 col1\" >How many different suits are possible in the context provided?</td>\n",
       "      <td id=\"T_f0245_row2_col2\" class=\"data row2 col2\" >4.</td>\n",
       "    </tr>\n",
       "    <tr>\n",
       "      <th id=\"T_f0245_level0_row3\" class=\"row_heading level0 row3\" >3</th>\n",
       "      <td id=\"T_f0245_row3_col0\" class=\"data row3 col0\" >Next, they flip over a card and say, \"This is the 3 of spades.\" This is more information. Indeed there were 52 equally likely possible outcomes, and our friend told us which one it was. This should be a medium amount of information.</td>\n",
       "      <td id=\"T_f0245_row3_col1\" class=\"data row3 col1\" >How many equally likely possible outcomes were there before the card was revealed?</td>\n",
       "      <td id=\"T_f0245_row3_col2\" class=\"data row3 col2\" >52.</td>\n",
       "    </tr>\n",
       "    <tr>\n",
       "      <th id=\"T_f0245_level0_row4\" class=\"row_heading level0 row4\" >4</th>\n",
       "      <td id=\"T_f0245_row4_col0\" class=\"data row4 col0\" >Let’s take this to the logical extreme. Suppose that finally they flip over every card from the deck and read off the entire sequence of the shuffled deck. There are \\(52!\\) different orders to the deck, again all equally likely, so we need a lot of information to know which one it is.</td>\n",
       "      <td id=\"T_f0245_row4_col1\" class=\"data row4 col1\" >How many different orders are there to a shuffled deck of cards?</td>\n",
       "      <td id=\"T_f0245_row4_col2\" class=\"data row4 col2\" >\\(52!\\) (52 factorial).</td>\n",
       "    </tr>\n",
       "    <tr>\n",
       "      <th id=\"T_f0245_level0_row5\" class=\"row_heading level0 row5\" >5</th>\n",
       "      <td id=\"T_f0245_row5_col0\" class=\"data row5 col0\" >Any notion of information we develop must conform to this intuition.\n",
       "Indeed, in the next sections we will learn how to compute that these\n",
       "events have \\(0\\textrm{ bits}\\), \\(2\\textrm{ bits}\\),\n",
       "\\(~5.7\\textrm{ bits}\\), and \\(~225.6\\textrm{ bits}\\) of\n",
       "information respectively.</td>\n",
       "      <td id=\"T_f0245_row5_col1\" class=\"data row5 col1\" >How many bits of information does one of the events have according to the given context?</td>\n",
       "      <td id=\"T_f0245_row5_col2\" class=\"data row5 col2\" >One of the events has 2 bits of information.</td>\n",
       "    </tr>\n",
       "    <tr>\n",
       "      <th id=\"T_f0245_level0_row6\" class=\"row_heading level0 row6\" >6</th>\n",
       "      <td id=\"T_f0245_row6_col0\" class=\"data row6 col0\" >If we read through these thought experiments, we see a natural idea. As a starting point, rather than caring about the knowledge, we may build off the idea that information represents the degree of surprise or the abstract possibility of the event. For example, if we want to describe an unusual event, we need a lot information. For a common event, we may not need much information.</td>\n",
       "      <td id=\"T_f0245_row6_col1\" class=\"data row6 col1\" >What does information represent according to the thought experiments?</td>\n",
       "      <td id=\"T_f0245_row6_col2\" class=\"data row6 col2\" >Information represents the degree of surprise or the abstract possibility of the event.</td>\n",
       "    </tr>\n",
       "    <tr>\n",
       "      <th id=\"T_f0245_level0_row7\" class=\"row_heading level0 row7\" >7</th>\n",
       "      <td id=\"T_f0245_row7_col0\" class=\"data row7 col0\" >In 1948, Claude E. Shannon published A Mathematical Theory of Communication (Shannon, 1948) establishing the theory of information. In his article, Shannon introduced the concept of information entropy for the first time. We will begin our journey here.</td>\n",
       "      <td id=\"T_f0245_row7_col1\" class=\"data row7 col1\" >What concept did Claude E. Shannon introduce for the first time in his 1948 article?</td>\n",
       "      <td id=\"T_f0245_row7_col2\" class=\"data row7 col2\" >Information entropy.</td>\n",
       "    </tr>\n",
       "  </tbody>\n",
       "</table>\n"
      ],
      "text/plain": [
       "<pandas.io.formats.style.Styler at 0x7f850afe7460>"
      ]
     },
     "execution_count": 10,
     "metadata": {},
     "output_type": "execute_result"
    }
   ],
   "source": [
    "# Extracting context, question, and answer into a DataFrame\n",
    "contexts = []\n",
    "questions = []\n",
    "answers = []\n",
    "\n",
    "for item in output:\n",
    "    for i in item['output']:\n",
    "        for response in i['response']:\n",
    "            contexts.append(response['context'])\n",
    "            questions.append(response['question'])\n",
    "            answers.append(response['answer'])\n",
    "\n",
    "df = pd.DataFrame({\n",
    "    'context': contexts,\n",
    "    'question': questions,\n",
    "    'answer': answers\n",
    "})\n",
    "\n",
    "# Set display options\n",
    "pd.set_option('display.max_colwidth', None)  # or use a specific width like 50\n",
    "pd.set_option('display.width', 1000)\n",
    "\n",
    "styled_df = df.style.set_properties(**{'text-align': 'left'}).set_table_styles([{\n",
    "    'selector': 'th',\n",
    "    'props': [('text-align', 'left')]\n",
    "}])\n",
    "styled_df"
   ]
  }
 ],
 "metadata": {
  "kernelspec": {
   "display_name": "uniflow",
   "language": "python",
   "name": "python3"
  },
  "language_info": {
   "codemirror_mode": {
    "name": "ipython",
    "version": 3
   },
   "file_extension": ".py",
   "mimetype": "text/x-python",
   "name": "python",
   "nbconvert_exporter": "python",
   "pygments_lexer": "ipython3",
   "version": "3.10.13"
  }
 },
 "nbformat": 4,
 "nbformat_minor": 2
}

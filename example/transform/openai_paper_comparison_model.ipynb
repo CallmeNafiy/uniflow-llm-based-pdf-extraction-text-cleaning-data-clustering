{
 "cells": [
  {
   "cell_type": "markdown",
   "id": "7cbc4c4a",
   "metadata": {},
   "source": [
    "# Notebook for Paper Comparison Flow via OpenAI\n",
    "In this example, we will show you how to generate question-answers (QAs) from a pdf using OpenAI's models via `uniflow`'s [OpenAIJsonModelFlow](https://github.com/CambioML/uniflow/blob/main/uniflow/flow/model_flow.py#L125).\n",
    "\n",
    "\n",
    "### Before running the code\n",
    "\n",
    "You will need to `uniflow` conda environment to run this notebook. You can set up the environment following the instruction: https://github.com/CambioML/uniflow/tree/main#installation.\n",
    "\n",
    "Next, you will need a valid [OpenAI API key](https://platform.openai.com/api-keys) to run the code. Once you have the key, set it as the environment variable `OPENAI_API_KEY` within a `.env` file in the root directory of this repository. For more details, see this [instruction](https://github.com/CambioML/uniflow/tree/main#api-keys)\n",
    "\n",
    "In this example, we'll be using two papers in markdown format from under 'example/transform/data/raw_input/'"
   ]
  },
  {
   "cell_type": "markdown",
   "id": "a3ce3754",
   "metadata": {},
   "source": [
    "### Update system path"
   ]
  },
  {
   "cell_type": "code",
   "execution_count": 81,
   "id": "172a856a",
   "metadata": {},
   "outputs": [],
   "source": [
    "%reload_ext autoreload\n",
    "%autoreload 2\n",
    "\n",
    "import sys\n",
    "\n",
    "sys.path.append(\".\")\n",
    "sys.path.append(\"..\")\n",
    "sys.path.append(\"../..\")"
   ]
  },
  {
   "cell_type": "markdown",
   "id": "a594b4c3",
   "metadata": {},
   "source": [
    "### Install helper packages"
   ]
  },
  {
   "cell_type": "markdown",
   "id": "7d84aefd",
   "metadata": {},
   "source": [
    "### Import Dependency"
   ]
  },
  {
   "cell_type": "code",
   "execution_count": 82,
   "id": "8d84dd70",
   "metadata": {},
   "outputs": [
    {
     "data": {
      "text/plain": [
       "True"
      ]
     },
     "execution_count": 82,
     "metadata": {},
     "output_type": "execute_result"
    }
   ],
   "source": [
    "from dotenv import load_dotenv\n",
    "\n",
    "from uniflow.flow.flow_factory import FlowFactory\n",
    "from uniflow.flow.client import TransformClient\n",
    "from uniflow.flow.config import TransformOpenAIConfig\n",
    "from uniflow.op.model.model_config import OpenAIModelConfig\n",
    "from uniflow.op.prompt import Context\n",
    "\n",
    "load_dotenv()\n"
   ]
  },
  {
   "cell_type": "code",
   "execution_count": 83,
   "id": "2340ddee",
   "metadata": {},
   "outputs": [
    {
     "data": {
      "text/plain": [
       "{'extract': ['ExtractHTMLFlow',\n",
       "  'ExtractImageFlow',\n",
       "  'ExtractIpynbFlow',\n",
       "  'ExtractMarkdownFlow',\n",
       "  'ExtractPDFFlow',\n",
       "  'ExtractTxtFlow',\n",
       "  'ExtractGmailFlow'],\n",
       " 'transform': ['TransformAzureOpenAIFlow',\n",
       "  'TransformCopyFlow',\n",
       "  'TransformGoogleFlow',\n",
       "  'TransformGoogleMultiModalModelFlow',\n",
       "  'TransformHuggingFaceFlow',\n",
       "  'TransformLMQGFlow',\n",
       "  'TransformOpenAIFlow',\n",
       "  'TransformSummaryGoogleFlow',\n",
       "  'TransformComparisonOpenAIFlow'],\n",
       " 'rater': ['RaterFlow']}"
      ]
     },
     "execution_count": 83,
     "metadata": {},
     "output_type": "execute_result"
    }
   ],
   "source": [
    "FlowFactory.list()"
   ]
  },
  {
   "cell_type": "markdown",
   "id": "cb677037",
   "metadata": {},
   "source": [
    "### Prepare the input data\n",
    "They are in preprocessed in markdown formats"
   ]
  },
  {
   "cell_type": "code",
   "execution_count": 86,
   "id": "fc6f290c",
   "metadata": {},
   "outputs": [
    {
     "data": {
      "text/plain": [
       "['# The Impact of Artificial Intelligence on Healthcare: A Review\\n\\n## Abstract\\nArtificial intelligence (AI) has emerged as a transformative technology in healthcare, offering opportunities to improve patient outcomes, streamline processes, and enhance decision-making. This paper provides an overview of the current state of AI in healthcare, explores its applications, benefits, challenges, and future prospects.\\n\\n## Introduction\\nIn recent years, artificial intelligence has gained significant traction across various industries, and healthcare is no exception. With advancements in machine learning, natural language processing, and robotics, AI has the potential to revolutionize healthcare delivery, diagnosis, treatment, and management. This paper aims to delve into the role of AI in healthcare, highlighting its implications, challenges, and future directions.\\n\\n## Background\\nThe integration of AI into healthcare systems has been facilitated by the exponential growth of data, coupled with the development of sophisticated algorithms. Machine learning algorithms, such as deep learning, support vector machines, and random forests, enable healthcare providers to analyze large datasets, identify patterns, and extract actionable insights. Furthermore, natural language processing techniques empower AI systems to interpret and generate human language, facilitating tasks such as clinical documentation, medical coding, and patient communication.\\n\\n## Approach\\nTo examine the impact of AI on healthcare, we conducted a comprehensive literature review, analyzing research articles, industry reports, and case studies. We focused on key applications of AI in healthcare, including disease diagnosis, personalized treatment planning, drug discovery, remote patient monitoring, and predictive analytics. Additionally, we explored the challenges associated with AI adoption in healthcare, such as data privacy concerns, regulatory barriers, algorithm bias, and interoperability issues.\\n\\n## Experiment/Result\\nOur analysis revealed that AI holds immense promise for transforming healthcare delivery and improving patient outcomes. AI-powered diagnostic systems demonstrate high accuracy and efficiency in detecting various medical conditions, ranging from cancer and cardiovascular diseases to infectious diseases and neurological disorders. Moreover, AI-driven predictive analytics enable healthcare providers to anticipate disease outbreaks, optimize resource allocation, and enhance population health management. Despite these advancements, several challenges hinder the widespread adoption of AI in healthcare, including data quality issues, algorithmic bias, ethical considerations, and regulatory constraints.\\n\\n## Conclusion/Future Work\\nLooking ahead, future research should focus on addressing the technical, ethical, and regulatory challenges associated with AI in healthcare. Efforts to enhance the interpretability, fairness, and transparency of AI algorithms are critical to building trust among healthcare professionals and patients. Moreover, interdisciplinary collaboration between computer scientists, healthcare professionals, policymakers, and ethicists is essential to develop robust frameworks for AI governance and ensure responsible AI deployment in healthcare settings. Additionally, longitudinal studies are needed to assess the long-term impact of AI on patient outcomes, healthcare costs, and healthcare disparities. By addressing these challenges and leveraging the full potential of AI, we can unlock new opportunities for advancing healthcare delivery, enhancing clinical decision-making, and ultimately improving the quality of care for patients worldwide.\\n',\n",
       " '# The Impact of Renewable Energy Adoption on Global Carbon Emissions: An Analytical Study\\n\\n## Abstract\\nThis paper examines the impact of renewable energy adoption on global carbon emissions. With climate change posing a significant threat to the environment and human societies, transitioning to renewable energy sources has become a crucial global initiative. This study analyzes the correlation between increased use of renewable energy sources, such as wind, solar, and hydro, and the subsequent changes in carbon emissions worldwide. Utilizing data from various countries over the past two decades, we employ statistical models to assess the effectiveness of renewable energy in reducing carbon footprints. Our findings suggest that renewable energy adoption is a viable strategy for significantly reducing global carbon emissions, highlighting the need for policies that support renewable energy investments and infrastructure development.\\n\\n## Introduction\\nClimate change remains one of the most pressing challenges of our time, with carbon emissions from fossil fuel consumption being a primary contributor. The transition to renewable energy sources is widely viewed as a vital step towards mitigating climate change impacts. This paper explores the effectiveness of renewable energy adoption in reducing global carbon emissions. By examining data from multiple countries, we aim to provide a comprehensive analysis of how renewable energy usage influences carbon emission trends and to evaluate the potential of renewable energy as a sustainable solution to climate change.\\n\\n## Background\\nThe relationship between human activities, especially the burning of fossil fuels, and climate change is well-documented. Renewable energy sources offer an alternative that does not emit carbon dioxide during operation, thus presenting a potential pathway to decarbonize the energy sector. Governments and organizations worldwide have made commitments to increase the share of renewables in their energy mix. This paper builds on existing research by analyzing more recent data to understand the current impact of renewable energy adoption on carbon emissions.\\n\\n## Approach\\nOur approach involves collecting and analyzing data on renewable energy consumption and carbon emissions from various countries over the last twenty years. We focus on wind, solar, and hydroelectric power due to their significant growth and potential for large-scale implementation. The study employs statistical analysis methods to identify trends, correlations, and causations between the adoption of renewable energy and changes in carbon emissions. We adjust for factors such as economic growth, population changes, and energy efficiency improvements to isolate the impact of renewable energy.\\n\\n## Experiment/Result\\nThe analysis reveals a clear negative correlation between the adoption of renewable energy sources and carbon emissions in countries with aggressive renewable energy policies. For instance, countries that have doubled their renewable energy consumption in the past decade have seen, on average, a 10% reduction in carbon emissions, even after accounting for economic and population growth. These findings are consistent across developed and developing nations, suggesting that renewable energy can be an effective tool for reducing carbon emissions globally.\\n\\n## Conclusion/Future Work\\nThe study confirms that renewable energy adoption plays a crucial role in reducing global carbon emissions. The findings support the need for policies and investments that encourage the development and deployment of renewable energy technologies. Future work should focus on longitudinal studies to track the long-term impact of renewable energy adoption on carbon emissions. Additionally, further research is needed to explore the socio-economic benefits of transitioning to renewable energy, such as job creation, health improvements, and energy security, to provide a more comprehensive understanding of its impacts.\\n\\n\\n']"
      ]
     },
     "execution_count": 86,
     "metadata": {},
     "output_type": "execute_result"
    }
   ],
   "source": [
    "with open(r\"data/raw_input/paper_1_raw.md\", 'r') as file:\n",
    "    paper_1_content = file.read()\n",
    "\n",
    "with open(r\"data/raw_input/paper_2_raw.md\", 'r') as file:\n",
    "    paper_2_content = file.read()\n",
    "\n",
    "raw_context_input = [\n",
    "    paper_1_content,\n",
    "    paper_2_content,\n",
    "]\n",
    "raw_context_input"
   ]
  },
  {
   "cell_type": "markdown",
   "id": "a3180ff3",
   "metadata": {},
   "source": [
    "### Use LLM to compare two papers\n",
    "\n",
    "In this example, we will use the [OpenAIModelConfig](https://github.com/CambioML/uniflow/blob/main/uniflow/model/config.py#L17)'s default LLM to generate questions and answers."
   ]
  },
  {
   "cell_type": "code",
   "execution_count": 99,
   "id": "c3e75e65",
   "metadata": {},
   "outputs": [],
   "source": [
    "input_data = [[Context(Context=raw_context_input[0]), Context(Context=raw_context_input[1])]]\n",
    "config = TransformOpenAIConfig(\n",
    "    flow_name=\"TransformComparisonOpenAIFlow\",\n",
    "    model_config=OpenAIModelConfig(),\n",
    ")\n",
    "client = TransformClient(config)"
   ]
  },
  {
   "cell_type": "markdown",
   "id": "06b94c94",
   "metadata": {},
   "source": [
    "Now we call the `run` method on the `client` object to execute the question-answer generation operation on the data shown above."
   ]
  },
  {
   "cell_type": "code",
   "execution_count": 100,
   "id": "2103149e",
   "metadata": {},
   "outputs": [
    {
     "name": "stderr",
     "output_type": "stream",
     "text": [
      "100%|██████████| 1/1 [01:05<00:00, 65.77s/it]\n"
     ]
    }
   ],
   "source": [
    "output = client.run(input_data)"
   ]
  },
  {
   "cell_type": "markdown",
   "id": "aef58403",
   "metadata": {},
   "source": [
    "### Process the output\n",
    "\n",
    "Let's take a look of the generated output. We need to do a little postprocessing on the raw output."
   ]
  },
  {
   "cell_type": "code",
   "execution_count": 101,
   "id": "07af0669",
   "metadata": {},
   "outputs": [
    {
     "data": {
      "text/plain": [
       "['Similarities between paper A and paper B:\\n1. Both papers focus on the impact of renewable energy utilization on global carbon emissions in response to climate change.\\n2. Both papers emphasize the need to transition from non-renewable to renewable energy sources to reduce carbon emissions.\\n3. They both highlight the importance of renewable energy sources such as solar, wind, and hydroelectric power as potential solutions to mitigate climate change.\\n\\nDifferences between paper A and paper B:\\n1. Paper A specifically mentions the use of statistical models to analyze data from various countries over the past 20 years to assess the effectiveness of renewable energy in reducing carbon footprints, while paper B does not mention specific research methods.\\n2. Paper A focuses on the findings that suggest adopting renewable energy can significantly reduce global carbon emissions, emphasizing the importance of policies that support renewable energy investments and infrastructure development, whereas paper B does not mention specific findings or policy implications.',\n",
       " 'The similarities between paper A and paper B are as follows:\\n\\n1. Both papers highlight the potential of artificial intelligence (AI) to revolutionize the healthcare industry and improve patient outcomes.\\n\\n2. They both acknowledge the need for further research to fully understand the benefits and challenges of integrating AI into healthcare systems.\\n\\n3. Both papers discuss specific applications of AI in healthcare, such as medical imaging analysis, drug discovery, personalized medicine, and patient care management.\\n\\n4. They both address the potential challenges and limitations of AI in healthcare, including data privacy concerns, algorithm bias, and the need for ongoing validation and regulation of AI technologies.\\n\\n5. Both papers emphasize the importance of ethical considerations, regulatory frameworks, and ongoing evaluation of AI technologies to ensure their safe and effective implementation in healthcare settings.\\n\\nThe main difference between the two papers is that paper A provides a comprehensive review of the current state of AI in healthcare, while paper B aims to delve into the role of AI in healthcare, emphasizing its implications, challenges, and future directions. Additionally, paper B specifically mentions the advancements in machine learning, natural language processing, and robotics as potential game-changers in healthcare, which is not explicitly mentioned in paper A.',\n",
       " 'Similarities:\\n- Both papers discuss the potential benefits of integrating AI into healthcare and the impact of renewable energy adoption on global carbon emissions.\\n- Both papers highlight the importance of addressing challenges and limitations in their respective fields, such as the need for large, high-quality datasets in AI integration and the lack of consensus in existing research on the impact of renewable energy adoption.\\n\\nDifferences:\\n- Paper A focuses on the integration of AI into healthcare systems and discusses specific applications of AI in disease identification, personalized treatment planning, drug discovery, and predictive analytics. In contrast, paper B focuses on the impact of renewable energy adoption on global carbon emissions, outlining the objectives, methodology, and expected contributions of the study.\\n- While both papers discuss challenges and limitations, the specific challenges discussed in each paper are different. Paper A discusses challenges related to data privacy, security, regulatory compliance, and the \"black box\" nature of AI algorithms. Paper B focuses on the lack of consensus and mixed findings in existing research on the impact of renewable energy adoption on carbon emissions, as well as the different methodologies and approaches used in previous research.',\n",
       " 'Similarities:\\n- Both papers involve a comprehensive literature review and analysis of various sources to gain insights into their respective topics.\\n- Both papers aim to provide a deeper understanding of the impact and challenges related to the adoption of a specific technology (AI in healthcare for paper A, renewable energy for paper B).\\n\\nDifferences:\\n- Paper A focuses on the impact of AI on healthcare, including applications such as disease diagnosis, personalized treatment planning, and drug discovery, as well as challenges related to AI adoption in healthcare.\\n- Paper B, on the other hand, discusses the relationship between human activities and climate change, with a specific focus on the potential of renewable energy sources to reduce carbon emissions. It also aims to present empirical evidence related to the impact of renewable energy adoption on carbon emissions.',\n",
       " 'Similarities:\\n1. Both papers focus on the potential benefits of advanced technology (AI in paper A, renewable energy in paper B) in specific fields (healthcare in paper A, carbon emissions in paper B).\\n2. Both papers acknowledge the challenges and obstacles that need to be addressed in order to fully utilize the potential benefits of the technology being studied.\\n\\nDifferences:\\n1. Paper A focuses on the potential of AI in healthcare delivery and patient outcomes, while paper B focuses on the impact of renewable energy usage on carbon emissions.\\n2. Paper A discusses the specific application of AI in diagnostic systems and predictive analytics for disease management, while paper B discusses the analysis of data on renewable energy usage and carbon emissions from different countries.\\n3. Paper A highlights challenges related to data quality, algorithmic bias, ethical considerations, and regulatory constraints, while paper B accounts for factors such as economic growth, population changes, and advancements in energy efficiency in its analysis.',\n",
       " 'Similarities:\\n- Both papers call for future research and efforts to address challenges and make improvements in their respective fields.\\n- They both emphasize the need for further studies to understand the impact of their research topics (AI in healthcare and renewable energy sources) on global issues (healthcare outcomes and carbon emissions).\\n\\nDifferences:\\n- Paper A focuses on the need for interdisciplinary collaboration between computer scientists, healthcare professionals, policymakers, and ethicists, while Paper B focuses on the analysis of the relationship between renewable energy consumption and carbon emissions in different countries.\\n- Paper A discusses the importance of improving the interpretability, fairness, and transparency of AI algorithms, while Paper B presents findings on the effectiveness of renewable energy in reducing carbon emissions on a global scale.']"
      ]
     },
     "execution_count": 101,
     "metadata": {},
     "output_type": "execute_result"
    }
   ],
   "source": [
    "comparison = []\n",
    "\n",
    "for item in output:\n",
    "    for i in item.get('output', []):\n",
    "        for response in i.get('response', []):\n",
    "            comparison.append(response)\n",
    "\n",
    "comparison"
   ]
  },
  {
   "cell_type": "markdown",
   "id": "a2942fd0",
   "metadata": {},
   "source": [
    "## End of the notebook\n",
    "\n",
    "Check more Uniflow use cases in the [example folder](https://github.com/CambioML/uniflow/tree/main/example/model#examples)!\n",
    "\n",
    "<a href=\"https://www.cambioml.com/\" title=\"Title\">\n",
    "    <img src=\"../image/cambioml_logo_large.png\" style=\"height: 100px; display: block; margin-left: auto; margin-right: auto;\"/>\n",
    "</a>"
   ]
  }
 ],
 "metadata": {
  "kernelspec": {
   "display_name": "Python 3 (ipykernel)",
   "language": "python",
   "name": "python3"
  },
  "language_info": {
   "codemirror_mode": {
    "name": "ipython",
    "version": 3
   },
   "file_extension": ".py",
   "mimetype": "text/x-python",
   "name": "python",
   "nbconvert_exporter": "python",
   "pygments_lexer": "ipython3",
   "version": "3.10.13"
  }
 },
 "nbformat": 4,
 "nbformat_minor": 5
}
